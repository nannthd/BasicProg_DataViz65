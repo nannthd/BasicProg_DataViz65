{
  "nbformat": 4,
  "nbformat_minor": 0,
  "metadata": {
    "colab": {
      "name": "Function.ipynb",
      "provenance": [],
      "authorship_tag": "ABX9TyMkPivGeZI9coC/XimvON2r",
      "include_colab_link": true
    },
    "kernelspec": {
      "name": "python3",
      "display_name": "Python 3"
    },
    "language_info": {
      "name": "python"
    }
  },
  "cells": [
    {
      "cell_type": "markdown",
      "metadata": {
        "id": "view-in-github",
        "colab_type": "text"
      },
      "source": [
        "<a href=\"https://colab.research.google.com/github/nannthd/BasicProg_DataViz65/blob/main/Function.ipynb\" target=\"_parent\"><img src=\"https://colab.research.google.com/assets/colab-badge.svg\" alt=\"Open In Colab\"/></a>"
      ]
    },
    {
      "cell_type": "markdown",
      "source": [
        "## Function $(f(x) = y)$"
      ],
      "metadata": {
        "id": "9Hr6azEnLA7I"
      }
    },
    {
      "cell_type": "code",
      "source": [
        "def function_name(input_x) :\n",
        "    # do something with input_x to get output_y\n",
        "    return output"
      ],
      "metadata": {
        "id": "DhUDdaLBMjUD"
      },
      "execution_count": 7,
      "outputs": []
    },
    {
      "cell_type": "markdown",
      "source": [
        "$f1(x) = x^2 + 75$"
      ],
      "metadata": {
        "id": "gtSA_CdvREMJ"
      }
    },
    {
      "cell_type": "code",
      "execution_count": 2,
      "metadata": {
        "colab": {
          "base_uri": "https://localhost:8080/"
        },
        "id": "Oyde_N4AK_-W",
        "outputId": "11a9d51c-6efe-4148-9d68-fa8aaf2d985c"
      },
      "outputs": [
        {
          "output_type": "stream",
          "name": "stdout",
          "text": [
            "done!\n"
          ]
        }
      ],
      "source": [
        "def function_f1(x) :\n",
        "    a = x**2\n",
        "    y = a + 75\n",
        "    return y\n",
        "print('done!')"
      ]
    },
    {
      "cell_type": "code",
      "source": [
        "function_f1(3)"
      ],
      "metadata": {
        "colab": {
          "base_uri": "https://localhost:8080/"
        },
        "id": "W2Yi1jSaMvuT",
        "outputId": "e9860c35-8b93-4053-b626-ed254cee2e4d"
      },
      "execution_count": 5,
      "outputs": [
        {
          "output_type": "execute_result",
          "data": {
            "text/plain": [
              "84"
            ]
          },
          "metadata": {},
          "execution_count": 5
        }
      ]
    },
    {
      "cell_type": "markdown",
      "source": [
        "function มีส่วนสำคัญทั้งหมด 4 ส่วน\n",
        "1. บอก python ว่าเราจะเขียนฟังก์ชันชื่ออะไร def function_name() : (ขาดไม่ได้)\n",
        "2. กำหนดตัวแปรที่จะเป็น input *Input* (ขาดไม่ได้)\n",
        "3. ส่วนประมวลผล do_something with *Input* toget *Output* (ขาดไม่ได้)\n",
        "4. ส่วน output return *Output* (ขาดได้)"
      ],
      "metadata": {
        "id": "6eNqgfO1Mudn"
      }
    },
    {
      "cell_type": "markdown",
      "source": [
        "**ตัวอย่าง function ที่มีส่วนประกอบครบ**\n"
      ],
      "metadata": {
        "id": "njBhO_r4MzyR"
      }
    },
    {
      "cell_type": "code",
      "source": [
        "def function_f1(x) :\n",
        "    a = x**2\n",
        "    y = a + 75\n",
        "    return y"
      ],
      "metadata": {
        "id": "xI5Bf6GwQrSa"
      },
      "execution_count": 6,
      "outputs": []
    }
  ]
}
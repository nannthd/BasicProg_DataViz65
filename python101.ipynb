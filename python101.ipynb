{
  "nbformat": 4,
  "nbformat_minor": 0,
  "metadata": {
    "colab": {
      "name": "python101.ipynb",
      "provenance": [],
      "authorship_tag": "ABX9TyOKLtHP1GVQ+CkWvX2eD2Ol",
      "include_colab_link": true
    },
    "kernelspec": {
      "name": "python3",
      "display_name": "Python 3"
    },
    "language_info": {
      "name": "python"
    }
  },
  "cells": [
    {
      "cell_type": "markdown",
      "metadata": {
        "id": "view-in-github",
        "colab_type": "text"
      },
      "source": [
        "<a href=\"https://colab.research.google.com/github/nannthd/BasicProg_DataViz65/blob/main/python101.ipynb\" target=\"_parent\"><img src=\"https://colab.research.google.com/assets/colab-badge.svg\" alt=\"Open In Colab\"/></a>"
      ]
    },
    {
      "cell_type": "code",
      "execution_count": null,
      "metadata": {
        "id": "MHb1rNLeLrp_"
      },
      "outputs": [],
      "source": [
        ""
      ]
    },
    {
      "cell_type": "markdown",
      "source": [
        "ข้อความในช่อง text เป็นภาษา Markdown (https://www.markdownguide.org/)"
      ],
      "metadata": {
        "id": "4rb_9RqTLw1N"
      }
    },
    {
      "cell_type": "markdown",
      "source": [
        "# การจัดการข้อความในการแสดงผล (Print)"
      ],
      "metadata": {
        "id": "ySdf-px9PVnF"
      }
    },
    {
      "cell_type": "markdown",
      "source": [
        "## ข้อความ (String)"
      ],
      "metadata": {
        "id": "SZwyVEZIPhFQ"
      }
    },
    {
      "cell_type": "code",
      "source": [
        "print('test')"
      ],
      "metadata": {
        "colab": {
          "base_uri": "https://localhost:8080/"
        },
        "id": "MG4rld5yPs4B",
        "outputId": "05d4ad82-6207-49a4-b5e3-63b88c777017"
      },
      "execution_count": null,
      "outputs": [
        {
          "output_type": "stream",
          "name": "stdout",
          "text": [
            "test\n"
          ]
        }
      ]
    },
    {
      "cell_type": "code",
      "source": [
        "'สถิติ' # ' quote"
      ],
      "metadata": {
        "colab": {
          "base_uri": "https://localhost:8080/",
          "height": 35
        },
        "id": "hMV2dKu3QBCB",
        "outputId": "5ebc8c93-2dd1-4b63-ea52-079b78e061b4"
      },
      "execution_count": null,
      "outputs": [
        {
          "output_type": "execute_result",
          "data": {
            "text/plain": [
              "'สถิติ'"
            ],
            "application/vnd.google.colaboratory.intrinsic+json": {
              "type": "string"
            }
          },
          "metadata": {},
          "execution_count": 3
        }
      ]
    },
    {
      "cell_type": "code",
      "source": [
        "\"สถิติ\" # \" double quote"
      ],
      "metadata": {
        "colab": {
          "base_uri": "https://localhost:8080/",
          "height": 35
        },
        "id": "pQwk0_zKQLU3",
        "outputId": "d63e405e-0571-487e-b3e7-503061f80e9c"
      },
      "execution_count": null,
      "outputs": [
        {
          "output_type": "execute_result",
          "data": {
            "text/plain": [
              "'สถิติ'"
            ],
            "application/vnd.google.colaboratory.intrinsic+json": {
              "type": "string"
            }
          },
          "metadata": {},
          "execution_count": 4
        }
      ]
    },
    {
      "cell_type": "markdown",
      "source": [
        "ผลการรันแสดงออกมาได้ 2 รูปแบบ\n",
        "1. ถ้าไม่มีตัวแปรมารับ ก็จะแสดงผลออกที่หน้าจอ\n",
        "2. ถ้ามีตัวแปรมารับ ผลการรันก็จะไปอยู่ในตัวแปร"
      ],
      "metadata": {
        "id": "3Psa4bG8Q1fR"
      }
    },
    {
      "cell_type": "code",
      "source": [
        "1 + 3  # ไม่มีตัวแปรมารับ"
      ],
      "metadata": {
        "colab": {
          "base_uri": "https://localhost:8080/"
        },
        "id": "8CXVMqBZQW5W",
        "outputId": "722af6b7-5192-414e-da81-bc878ec5e0d5"
      },
      "execution_count": null,
      "outputs": [
        {
          "output_type": "execute_result",
          "data": {
            "text/plain": [
              "4"
            ]
          },
          "metadata": {},
          "execution_count": 5
        }
      ]
    },
    {
      "cell_type": "code",
      "source": [
        "a = 1 + 3 # มีตัวแปร a มารับผลการบวก "
      ],
      "metadata": {
        "id": "7VcTMmV7QdOB"
      },
      "execution_count": null,
      "outputs": []
    },
    {
      "cell_type": "code",
      "source": [
        "print(a)"
      ],
      "metadata": {
        "colab": {
          "base_uri": "https://localhost:8080/"
        },
        "id": "OtGPZyx8QjqM",
        "outputId": "cbb6ca44-d279-4f84-edbc-ce49de6c3d3d"
      },
      "execution_count": null,
      "outputs": [
        {
          "output_type": "stream",
          "name": "stdout",
          "text": [
            "4\n"
          ]
        }
      ]
    },
    {
      "cell_type": "code",
      "source": [
        "'1' + '3' # string + string คือการต่อ string"
      ],
      "metadata": {
        "colab": {
          "base_uri": "https://localhost:8080/",
          "height": 35
        },
        "id": "_Hp-HIXuQq2v",
        "outputId": "b8e2978b-a3a5-456c-993d-9cc3e59e58a3"
      },
      "execution_count": null,
      "outputs": [
        {
          "output_type": "execute_result",
          "data": {
            "text/plain": [
              "'13'"
            ],
            "application/vnd.google.colaboratory.intrinsic+json": {
              "type": "string"
            }
          },
          "metadata": {},
          "execution_count": 8
        }
      ]
    },
    {
      "cell_type": "code",
      "source": [
        "1-3"
      ],
      "metadata": {
        "colab": {
          "base_uri": "https://localhost:8080/"
        },
        "id": "Xf6LjQmjSKlt",
        "outputId": "b466cc82-4162-418a-83c4-aa6b484ea973"
      },
      "execution_count": null,
      "outputs": [
        {
          "output_type": "execute_result",
          "data": {
            "text/plain": [
              "-2"
            ]
          },
          "metadata": {},
          "execution_count": 9
        }
      ]
    },
    {
      "cell_type": "code",
      "source": [
        "'1' - '3' # - string ทำไม่ได้"
      ],
      "metadata": {
        "colab": {
          "base_uri": "https://localhost:8080/",
          "height": 165
        },
        "id": "dgYQAUkmSNr1",
        "outputId": "1a825568-647d-438b-bd65-437768bbd66c"
      },
      "execution_count": null,
      "outputs": [
        {
          "output_type": "error",
          "ename": "TypeError",
          "evalue": "ignored",
          "traceback": [
            "\u001b[0;31m---------------------------------------------------------------------------\u001b[0m",
            "\u001b[0;31mTypeError\u001b[0m                                 Traceback (most recent call last)",
            "\u001b[0;32m<ipython-input-11-509c2f592485>\u001b[0m in \u001b[0;36m<module>\u001b[0;34m()\u001b[0m\n\u001b[0;32m----> 1\u001b[0;31m \u001b[0;34m'1'\u001b[0m \u001b[0;34m-\u001b[0m \u001b[0;34m'3'\u001b[0m \u001b[0;31m# - string ทำไม่ได้\u001b[0m\u001b[0;34m\u001b[0m\u001b[0;34m\u001b[0m\u001b[0m\n\u001b[0m",
            "\u001b[0;31mTypeError\u001b[0m: unsupported operand type(s) for -: 'str' and 'str'"
          ]
        }
      ]
    },
    {
      "cell_type": "markdown",
      "source": [
        "## ข้อความ (string)\n",
        "ถ้าใส่ heading หรือใส่ quote = string\n",
        "\n"
      ],
      "metadata": {
        "id": "MvkV58FtShR7"
      }
    },
    {
      "cell_type": "markdown",
      "source": [
        "## ตัวแปร (Variable)"
      ],
      "metadata": {
        "id": "fknHapoeShYL"
      }
    },
    {
      "cell_type": "code",
      "source": [
        "vartest = 2.7"
      ],
      "metadata": {
        "id": "BEv39Tj5StDz"
      },
      "execution_count": 138,
      "outputs": []
    },
    {
      "cell_type": "code",
      "source": [
        "vartest"
      ],
      "metadata": {
        "colab": {
          "base_uri": "https://localhost:8080/"
        },
        "id": "fPbDXs5tS3X6",
        "outputId": "375fce17-7824-4d95-fc44-6099a9341356"
      },
      "execution_count": 139,
      "outputs": [
        {
          "output_type": "execute_result",
          "data": {
            "text/plain": [
              "2.7"
            ]
          },
          "metadata": {},
          "execution_count": 139
        }
      ]
    },
    {
      "cell_type": "code",
      "source": [
        "vartest1 = 1+3"
      ],
      "metadata": {
        "id": "1BBYgCahS59j"
      },
      "execution_count": 140,
      "outputs": []
    },
    {
      "cell_type": "code",
      "source": [
        "print(vartest1)"
      ],
      "metadata": {
        "colab": {
          "base_uri": "https://localhost:8080/"
        },
        "id": "WGVHrwTSTA-S",
        "outputId": "8ab72a68-13f5-4c55-8836-61ddb35aba27"
      },
      "execution_count": 141,
      "outputs": [
        {
          "output_type": "stream",
          "name": "stdout",
          "text": [
            "4\n"
          ]
        }
      ]
    },
    {
      "cell_type": "code",
      "source": [
        "vartest2 = '1' + '3'"
      ],
      "metadata": {
        "id": "nCfiJYHnTIEq"
      },
      "execution_count": 142,
      "outputs": []
    },
    {
      "cell_type": "code",
      "source": [
        "vartest2"
      ],
      "metadata": {
        "colab": {
          "base_uri": "https://localhost:8080/",
          "height": 0
        },
        "id": "UGr9duPKTQgd",
        "outputId": "66a16176-6047-4769-a113-c905cbce41de"
      },
      "execution_count": 143,
      "outputs": [
        {
          "output_type": "execute_result",
          "data": {
            "text/plain": [
              "'13'"
            ],
            "application/vnd.google.colaboratory.intrinsic+json": {
              "type": "string"
            }
          },
          "metadata": {},
          "execution_count": 143
        }
      ]
    },
    {
      "cell_type": "code",
      "source": [
        "print(vartest2)"
      ],
      "metadata": {
        "colab": {
          "base_uri": "https://localhost:8080/"
        },
        "id": "O_OGdimPTTt7",
        "outputId": "ba417ec5-03b1-4a18-da5f-4f73363e66cf"
      },
      "execution_count": 144,
      "outputs": [
        {
          "output_type": "stream",
          "name": "stdout",
          "text": [
            "13\n"
          ]
        }
      ]
    },
    {
      "cell_type": "code",
      "source": [
        "vartestfloat = 1.0 + 5"
      ],
      "metadata": {
        "id": "mWDcV175TpUa"
      },
      "execution_count": 145,
      "outputs": []
    },
    {
      "cell_type": "code",
      "source": [
        "vartestfloat"
      ],
      "metadata": {
        "colab": {
          "base_uri": "https://localhost:8080/"
        },
        "id": "DO3RbnbDTthl",
        "outputId": "8dfd79a9-b0d5-4d57-fc0c-d74e3854bdfd"
      },
      "execution_count": 146,
      "outputs": [
        {
          "output_type": "execute_result",
          "data": {
            "text/plain": [
              "6.0"
            ]
          },
          "metadata": {},
          "execution_count": 146
        }
      ]
    },
    {
      "cell_type": "code",
      "source": [
        "print(vartestfloat)"
      ],
      "metadata": {
        "colab": {
          "base_uri": "https://localhost:8080/"
        },
        "id": "IGSd5Ry_Ty5s",
        "outputId": "16d691c2-9104-4ae7-f879-0260ab41f1a6"
      },
      "execution_count": 147,
      "outputs": [
        {
          "output_type": "stream",
          "name": "stdout",
          "text": [
            "6.0\n"
          ]
        }
      ]
    },
    {
      "cell_type": "markdown",
      "source": [
        "## ข้อกำหนดในการตั้งชื่อตัวแปร\n",
        "1. พยายามตั้งให้สื่อความหมาย\n",
        "2. ต้องเป็นภาษาอังกฤษ \n",
        "3. ใช้ตัวเลขผสมกับตัวหนังสือได้ แต่ห้ามขึ้นต้นด้วยตัวเลข\n",
        "4. ห้ามมีเว้นวรรคในชื่อตัวแปร\n",
        "5. ตัวใหญ่ ตัวเล็กมีค่าเท่ากัน"
      ],
      "metadata": {
        "id": "N1yNyUPFTz4a"
      }
    },
    {
      "cell_type": "code",
      "source": [
        ""
      ],
      "metadata": {
        "id": "mSej5hL6WWuE"
      },
      "execution_count": 147,
      "outputs": []
    },
    {
      "cell_type": "markdown",
      "source": [
        "## Advanced Printing\n",
        "เราสามารถ print code ร่วมกับข้อความได้\n",
        "\n",
        "```python\n",
        "print(f'ข้อความ{code}')\n",
        "```"
      ],
      "metadata": {
        "id": "EvYPudP-WfEi"
      }
    },
    {
      "cell_type": "code",
      "source": [
        "print(f' ส่วนนี้ไม่ใช่ code>2*3 3-5 // ส่วนของ code>{2*3} {3-5}')"
      ],
      "metadata": {
        "colab": {
          "base_uri": "https://localhost:8080/"
        },
        "id": "-vDPsFbgYUqs",
        "outputId": "e917118b-4136-48fb-cd72-25756b43d173"
      },
      "execution_count": null,
      "outputs": [
        {
          "output_type": "stream",
          "name": "stdout",
          "text": [
            " ส่วนนี้ไม่ใช่ code>2*3 3-5 // ส่วนของ code>6 -2\n"
          ]
        }
      ]
    },
    {
      "cell_type": "code",
      "source": [
        "print(f'หนึ่ง บวก สอง (1+2) เท่ากับ สาม ({1+2})') # {} Curly Brackets"
      ],
      "metadata": {
        "colab": {
          "base_uri": "https://localhost:8080/"
        },
        "id": "ctPRYiXCXcf7",
        "outputId": "e2c13b43-348b-4e0d-a1ca-413e4c358b8d"
      },
      "execution_count": null,
      "outputs": [
        {
          "output_type": "stream",
          "name": "stdout",
          "text": [
            "หนึ่ง บวก สอง (1+2) เท่ากับ สาม (3)\n"
          ]
        }
      ]
    },
    {
      "cell_type": "code",
      "source": [
        "a = 1\n",
        "b = 2\n",
        "print(f'หนึ่ง บวก สอง ({a}+{b}) เท่ากับ สาม ({a+b})')"
      ],
      "metadata": {
        "colab": {
          "base_uri": "https://localhost:8080/"
        },
        "id": "bAfSuxZRX02L",
        "outputId": "ed7bfecd-23e1-4772-9033-7749217f826a"
      },
      "execution_count": null,
      "outputs": [
        {
          "output_type": "stream",
          "name": "stdout",
          "text": [
            "หนึ่ง บวก สอง (1+2) เท่ากับ สาม (3)\n"
          ]
        }
      ]
    },
    {
      "cell_type": "code",
      "source": [
        "a = 5\n",
        "b = 2"
      ],
      "metadata": {
        "id": "XCGpnzjtaCji"
      },
      "execution_count": null,
      "outputs": []
    },
    {
      "cell_type": "code",
      "source": [
        "print(f'{a}+{b} = {a+b}')"
      ],
      "metadata": {
        "colab": {
          "base_uri": "https://localhost:8080/"
        },
        "id": "ufHC1fE8Z3Jm",
        "outputId": "c052ea3f-996e-464d-d777-5f9d5743aaf1"
      },
      "execution_count": null,
      "outputs": [
        {
          "output_type": "stream",
          "name": "stdout",
          "text": [
            "5+2 = 7\n"
          ]
        }
      ]
    },
    {
      "cell_type": "markdown",
      "source": [
        "## ชนิดของตัวแปร"
      ],
      "metadata": {
        "id": "tBqXhsWoaQvY"
      }
    },
    {
      "cell_type": "markdown",
      "source": [
        "### char(acter) (ตัวอักษร)"
      ],
      "metadata": {
        "id": "myK4UWC7aT4Z"
      }
    },
    {
      "cell_type": "code",
      "source": [
        "a = 'Ch'"
      ],
      "metadata": {
        "id": "IuCPk0iqacgJ"
      },
      "execution_count": null,
      "outputs": []
    },
    {
      "cell_type": "code",
      "source": [
        "b = 'aracter'"
      ],
      "metadata": {
        "id": "yap_yS_cafzn"
      },
      "execution_count": null,
      "outputs": []
    },
    {
      "cell_type": "code",
      "source": [
        "print(f'a={a} b={b}, then {a}+{b} = {a+b}')"
      ],
      "metadata": {
        "colab": {
          "base_uri": "https://localhost:8080/"
        },
        "id": "I-rlyfUKaszv",
        "outputId": "9a67f92d-a3ad-4c86-b634-f9233ae04ac8"
      },
      "execution_count": null,
      "outputs": [
        {
          "output_type": "stream",
          "name": "stdout",
          "text": [
            "a=Ch b=aracter, then Ch+aracter = Character\n"
          ]
        }
      ]
    },
    {
      "cell_type": "code",
      "source": [
        "A = 'c'\n",
        "B = 'a'"
      ],
      "metadata": {
        "id": "WbCupRFidz_J"
      },
      "execution_count": null,
      "outputs": []
    },
    {
      "cell_type": "code",
      "source": [
        "print(A+B)"
      ],
      "metadata": {
        "colab": {
          "base_uri": "https://localhost:8080/"
        },
        "id": "3teTrKaPd7P_",
        "outputId": "b51909e5-ebc7-4c52-f849-e04022eb7ff0"
      },
      "execution_count": null,
      "outputs": [
        {
          "output_type": "stream",
          "name": "stdout",
          "text": [
            "ca\n"
          ]
        }
      ]
    },
    {
      "cell_type": "markdown",
      "source": [
        "### int(eger)(จำนวนเต็ม)"
      ],
      "metadata": {
        "id": "JUHsQ_8Zd__0"
      }
    },
    {
      "cell_type": "code",
      "source": [
        "int_a = 7\n",
        "int_b = 2"
      ],
      "metadata": {
        "id": "7WZKyqEleGny"
      },
      "execution_count": null,
      "outputs": []
    },
    {
      "cell_type": "code",
      "source": [
        "int_c = int_a + int_b\n",
        "print(int_c)"
      ],
      "metadata": {
        "colab": {
          "base_uri": "https://localhost:8080/"
        },
        "id": "3FZmkqWNePXg",
        "outputId": "62f2e098-955e-4c19-fb15-a66966b5977b"
      },
      "execution_count": null,
      "outputs": [
        {
          "output_type": "stream",
          "name": "stdout",
          "text": [
            "9\n"
          ]
        }
      ]
    },
    {
      "cell_type": "markdown",
      "source": [
        "### float(จำนวนจริง ทศนิยม)"
      ],
      "metadata": {
        "id": "0Y_vEFvuauew"
      }
    },
    {
      "cell_type": "code",
      "source": [
        "fl_a = 7.0\n",
        "fl_b = 2.571"
      ],
      "metadata": {
        "id": "ZGKQMAM-as-i"
      },
      "execution_count": null,
      "outputs": []
    },
    {
      "cell_type": "code",
      "source": [
        "fl_a"
      ],
      "metadata": {
        "colab": {
          "base_uri": "https://localhost:8080/"
        },
        "id": "YzDxt1mEenly",
        "outputId": "0bd15928-4396-46ed-9e34-6f3bb98e01ce"
      },
      "execution_count": null,
      "outputs": [
        {
          "output_type": "execute_result",
          "data": {
            "text/plain": [
              "7.0"
            ]
          },
          "metadata": {},
          "execution_count": 39
        }
      ]
    },
    {
      "cell_type": "code",
      "source": [
        "fl_b"
      ],
      "metadata": {
        "colab": {
          "base_uri": "https://localhost:8080/"
        },
        "id": "01MXXUL-epwH",
        "outputId": "a685b237-2c21-44c5-b48c-86af8accf8f7"
      },
      "execution_count": null,
      "outputs": [
        {
          "output_type": "execute_result",
          "data": {
            "text/plain": [
              "2.571"
            ]
          },
          "metadata": {},
          "execution_count": 40
        }
      ]
    },
    {
      "cell_type": "code",
      "source": [
        "print(fl_a)"
      ],
      "metadata": {
        "colab": {
          "base_uri": "https://localhost:8080/"
        },
        "id": "NfKmQEIQesP0",
        "outputId": "43b34093-85d3-4821-b08a-0dc8190f796d"
      },
      "execution_count": null,
      "outputs": [
        {
          "output_type": "stream",
          "name": "stdout",
          "text": [
            "7.0\n"
          ]
        }
      ]
    },
    {
      "cell_type": "markdown",
      "source": [
        "### boolean (ตัวแปรที่มีค่า True หรือ False) ตรรกศาสตร์"
      ],
      "metadata": {
        "id": "C2DmmTkEa1iv"
      }
    },
    {
      "cell_type": "code",
      "source": [
        "b_T = True"
      ],
      "metadata": {
        "id": "m5AdmJvTbCxT"
      },
      "execution_count": null,
      "outputs": []
    },
    {
      "cell_type": "code",
      "source": [
        "b_F = False"
      ],
      "metadata": {
        "id": "udVb6UZabImg"
      },
      "execution_count": null,
      "outputs": []
    },
    {
      "cell_type": "code",
      "source": [
        "print(b_T and b_F)"
      ],
      "metadata": {
        "colab": {
          "base_uri": "https://localhost:8080/"
        },
        "id": "h3aJRwjabWyt",
        "outputId": "1b4d2fea-c135-4a6f-b422-d962c097b6c5"
      },
      "execution_count": null,
      "outputs": [
        {
          "output_type": "stream",
          "name": "stdout",
          "text": [
            "False\n"
          ]
        }
      ]
    },
    {
      "cell_type": "code",
      "source": [
        "print(b_T or b_F)"
      ],
      "metadata": {
        "colab": {
          "base_uri": "https://localhost:8080/"
        },
        "id": "UIEXmyuibZ0J",
        "outputId": "74e3046a-cbb8-4572-fac2-7f0b64dd5a3f"
      },
      "execution_count": null,
      "outputs": [
        {
          "output_type": "stream",
          "name": "stdout",
          "text": [
            "True\n"
          ]
        }
      ]
    },
    {
      "cell_type": "markdown",
      "source": [
        "### complex (จำนวนเชิงซ้อน)"
      ],
      "metadata": {
        "id": "ZcSdZrUzbaYg"
      }
    },
    {
      "cell_type": "code",
      "source": [
        "x = 1 + 2j"
      ],
      "metadata": {
        "id": "PRn7sqJjbfkX"
      },
      "execution_count": null,
      "outputs": []
    },
    {
      "cell_type": "code",
      "source": [
        "print(x)"
      ],
      "metadata": {
        "colab": {
          "base_uri": "https://localhost:8080/"
        },
        "id": "ZjFaOin7boL_",
        "outputId": "a5bd5d09-0f4f-4622-ece7-0f00c0bb4909"
      },
      "execution_count": null,
      "outputs": [
        {
          "output_type": "stream",
          "name": "stdout",
          "text": [
            "(1+2j)\n"
          ]
        }
      ]
    },
    {
      "cell_type": "markdown",
      "source": [
        "### เราสามารถตรวจสอบชนิดของตัวแปรด้วยคำสั่ง type()\n",
        "type()"
      ],
      "metadata": {
        "id": "MpoIFMNxbrhx"
      }
    },
    {
      "cell_type": "code",
      "source": [
        "print(f'ตัวแปร x ค่าคือ {x} ชนิด {type(x)}')"
      ],
      "metadata": {
        "colab": {
          "base_uri": "https://localhost:8080/"
        },
        "id": "D5uCO-XHb7FA",
        "outputId": "4ef4177b-637f-428a-d226-126e3bc91bd5"
      },
      "execution_count": null,
      "outputs": [
        {
          "output_type": "stream",
          "name": "stdout",
          "text": [
            "ตัวแปร x ค่าคือ (1+2j) ชนิด <class 'complex'>\n"
          ]
        }
      ]
    },
    {
      "cell_type": "code",
      "source": [
        "print(f'ตัวแปร A ค่าคือ {A} ชนิด {type(A)}')"
      ],
      "metadata": {
        "colab": {
          "base_uri": "https://localhost:8080/"
        },
        "id": "qzGroolMb7Lk",
        "outputId": "23dfb3ae-61cb-437f-cb2d-8aaa373015f4"
      },
      "execution_count": null,
      "outputs": [
        {
          "output_type": "stream",
          "name": "stdout",
          "text": [
            "ตัวแปร A ค่าคือ c ชนิด <class 'str'>\n"
          ]
        }
      ]
    },
    {
      "cell_type": "code",
      "source": [
        "print(f'ตัวแปร a ค่าคือ {a} ชนิด {type(a)}')"
      ],
      "metadata": {
        "colab": {
          "base_uri": "https://localhost:8080/"
        },
        "id": "RON0oXYvb7Rk",
        "outputId": "8bdaacbe-d1d0-4727-da79-eb378ca9b2c8"
      },
      "execution_count": null,
      "outputs": [
        {
          "output_type": "stream",
          "name": "stdout",
          "text": [
            "ตัวแปร a ค่าคือ Ch ชนิด <class 'str'>\n"
          ]
        }
      ]
    },
    {
      "cell_type": "markdown",
      "source": [
        "จบวันที่ 29 มิย 65"
      ],
      "metadata": {
        "id": "PLhGKYUXfZ8q"
      }
    },
    {
      "cell_type": "markdown",
      "source": [
        "##การแปลงชนิดของตัวแปร (Variable Casting)"
      ],
      "metadata": {
        "id": "qbNU563_Migw"
      }
    },
    {
      "cell_type": "code",
      "source": [
        "print(f'int_a = {int_a} int_b = {int_b} fl_a = {fl_a} fl_b = {fl_b}')"
      ],
      "metadata": {
        "colab": {
          "base_uri": "https://localhost:8080/"
        },
        "id": "RCF0Cq00MmsU",
        "outputId": "843e6569-5e6a-47c1-a02e-e4e712bb5129"
      },
      "execution_count": 148,
      "outputs": [
        {
          "output_type": "stream",
          "name": "stdout",
          "text": [
            "int_a = 7 int_b = 2 fl_a = 7.0 fl_b = 2.571\n"
          ]
        }
      ]
    },
    {
      "cell_type": "code",
      "source": [
        "str_a = '6'\n",
        "str_b = '-2'"
      ],
      "metadata": {
        "id": "nasJCyUTNIlC"
      },
      "execution_count": 149,
      "outputs": []
    },
    {
      "cell_type": "code",
      "source": [
        "str_a2int = int(str_a)\n",
        "print(f'ตัวแปร str_a2int ค่าคือ {str_a2int} ชนิด {type(str_a2int)}')"
      ],
      "metadata": {
        "colab": {
          "base_uri": "https://localhost:8080/"
        },
        "id": "GEEE6RTLNMZ-",
        "outputId": "e4b72183-df63-4481-878b-74fdbf325756"
      },
      "execution_count": 150,
      "outputs": [
        {
          "output_type": "stream",
          "name": "stdout",
          "text": [
            "ตัวแปร str_a2int ค่าคือ 6 ชนิด <class 'int'>\n"
          ]
        }
      ]
    },
    {
      "cell_type": "code",
      "source": [
        "str_a2int + int_a"
      ],
      "metadata": {
        "colab": {
          "base_uri": "https://localhost:8080/"
        },
        "id": "VxSCD6eZNvIG",
        "outputId": "98294cbc-7da7-416b-949c-731d0624cac8"
      },
      "execution_count": 151,
      "outputs": [
        {
          "output_type": "execute_result",
          "data": {
            "text/plain": [
              "13"
            ]
          },
          "metadata": {},
          "execution_count": 151
        }
      ]
    },
    {
      "cell_type": "code",
      "source": [
        "str_a + int_a"
      ],
      "metadata": {
        "colab": {
          "base_uri": "https://localhost:8080/",
          "height": 165
        },
        "id": "88YDXVybN7zf",
        "outputId": "f8828f85-762d-4619-b82f-9d8a144bb1b7"
      },
      "execution_count": 152,
      "outputs": [
        {
          "output_type": "error",
          "ename": "TypeError",
          "evalue": "ignored",
          "traceback": [
            "\u001b[0;31m---------------------------------------------------------------------------\u001b[0m",
            "\u001b[0;31mTypeError\u001b[0m                                 Traceback (most recent call last)",
            "\u001b[0;32m<ipython-input-152-f0968e4d612f>\u001b[0m in \u001b[0;36m<module>\u001b[0;34m()\u001b[0m\n\u001b[0;32m----> 1\u001b[0;31m \u001b[0mstr_a\u001b[0m \u001b[0;34m+\u001b[0m \u001b[0mint_a\u001b[0m\u001b[0;34m\u001b[0m\u001b[0;34m\u001b[0m\u001b[0m\n\u001b[0m",
            "\u001b[0;31mTypeError\u001b[0m: can only concatenate str (not \"int\") to str"
          ]
        }
      ]
    },
    {
      "cell_type": "code",
      "source": [
        "int_a + str_a"
      ],
      "metadata": {
        "id": "yXCGnD0DOFXo"
      },
      "execution_count": null,
      "outputs": []
    },
    {
      "cell_type": "code",
      "source": [
        "int(fl_b)"
      ],
      "metadata": {
        "id": "YH1xD81xOHob"
      },
      "execution_count": null,
      "outputs": []
    },
    {
      "cell_type": "code",
      "source": [
        "float(int_a)"
      ],
      "metadata": {
        "id": "VFJWshCoOK-z"
      },
      "execution_count": null,
      "outputs": []
    },
    {
      "cell_type": "code",
      "source": [
        "str(fl_b)"
      ],
      "metadata": {
        "id": "-h0vu6PDOPDj"
      },
      "execution_count": null,
      "outputs": []
    },
    {
      "cell_type": "markdown",
      "source": [
        "##Operation เอาตัวแปรสองตัวมาทำอะไรกัน\n",
        "operators (บวก (+), ลบ (-), คูณ (*), หาร (/), modulo (%), and (&), or (|))"
      ],
      "metadata": {
        "id": "2AoK3mfbOQz5"
      }
    },
    {
      "cell_type": "code",
      "source": [
        "fl_a + int_b"
      ],
      "metadata": {
        "colab": {
          "base_uri": "https://localhost:8080/"
        },
        "id": "rT5CjaXqOaAn",
        "outputId": "b4ac0696-556d-4fca-c06b-517f1dcfa7da"
      },
      "execution_count": null,
      "outputs": [
        {
          "output_type": "execute_result",
          "data": {
            "text/plain": [
              "9.0"
            ]
          },
          "metadata": {},
          "execution_count": 60
        }
      ]
    },
    {
      "cell_type": "code",
      "source": [
        "9%2 #การหาร เอาเศษ"
      ],
      "metadata": {
        "colab": {
          "base_uri": "https://localhost:8080/"
        },
        "id": "OhG_7fciOn1R",
        "outputId": "eea9592c-f922-40bb-ab1c-e63d0170b5c2"
      },
      "execution_count": null,
      "outputs": [
        {
          "output_type": "execute_result",
          "data": {
            "text/plain": [
              "1"
            ]
          },
          "metadata": {},
          "execution_count": 61
        }
      ]
    },
    {
      "cell_type": "code",
      "source": [
        "100%2"
      ],
      "metadata": {
        "colab": {
          "base_uri": "https://localhost:8080/"
        },
        "id": "ziiwVb-rOqzZ",
        "outputId": "1ea8985a-324d-4c27-e8b9-418d0d7cc495"
      },
      "execution_count": null,
      "outputs": [
        {
          "output_type": "execute_result",
          "data": {
            "text/plain": [
              "0"
            ]
          },
          "metadata": {},
          "execution_count": 62
        }
      ]
    },
    {
      "cell_type": "code",
      "source": [
        "int_a / int_b"
      ],
      "metadata": {
        "colab": {
          "base_uri": "https://localhost:8080/"
        },
        "id": "uwPaz1QuOtrO",
        "outputId": "fb94a393-12fa-4cff-dc3e-a2bfa2628520"
      },
      "execution_count": null,
      "outputs": [
        {
          "output_type": "execute_result",
          "data": {
            "text/plain": [
              "3.5"
            ]
          },
          "metadata": {},
          "execution_count": 63
        }
      ]
    },
    {
      "cell_type": "code",
      "source": [
        "int(int_a / int_b)"
      ],
      "metadata": {
        "colab": {
          "base_uri": "https://localhost:8080/"
        },
        "id": "q2-bkBDYOwr6",
        "outputId": "4513cb03-9c41-4fec-f075-ca0c5aec20bc"
      },
      "execution_count": null,
      "outputs": [
        {
          "output_type": "execute_result",
          "data": {
            "text/plain": [
              "3"
            ]
          },
          "metadata": {},
          "execution_count": 64
        }
      ]
    },
    {
      "cell_type": "code",
      "source": [
        "False & False"
      ],
      "metadata": {
        "colab": {
          "base_uri": "https://localhost:8080/"
        },
        "id": "ig7vZMZyO0So",
        "outputId": "a7360d64-5bd1-48b4-a4d3-1f9d9c5be22c"
      },
      "execution_count": null,
      "outputs": [
        {
          "output_type": "execute_result",
          "data": {
            "text/plain": [
              "False"
            ]
          },
          "metadata": {},
          "execution_count": 65
        }
      ]
    },
    {
      "cell_type": "code",
      "source": [
        "False & True"
      ],
      "metadata": {
        "colab": {
          "base_uri": "https://localhost:8080/"
        },
        "id": "Q-7wGUieO3zb",
        "outputId": "6c05fc86-dde7-4d18-b4ba-81de4814bf67"
      },
      "execution_count": null,
      "outputs": [
        {
          "output_type": "execute_result",
          "data": {
            "text/plain": [
              "False"
            ]
          },
          "metadata": {},
          "execution_count": 66
        }
      ]
    },
    {
      "cell_type": "code",
      "source": [
        "False | True"
      ],
      "metadata": {
        "colab": {
          "base_uri": "https://localhost:8080/"
        },
        "id": "cKYjRS6KO6l7",
        "outputId": "b8400d9b-7068-4d50-8e48-cb8d4eb84772"
      },
      "execution_count": null,
      "outputs": [
        {
          "output_type": "execute_result",
          "data": {
            "text/plain": [
              "True"
            ]
          },
          "metadata": {},
          "execution_count": 67
        }
      ]
    },
    {
      "cell_type": "markdown",
      "source": [
        "##String operations\n",
        "+ -> concat, * -> repeat"
      ],
      "metadata": {
        "id": "uspIByl6O8vK"
      }
    },
    {
      "cell_type": "code",
      "source": [
        "st_test1 = 'Department of Statistics, '\n",
        "st_test2 = 'Faculty of Science'"
      ],
      "metadata": {
        "id": "z_bH16B5PA7K"
      },
      "execution_count": null,
      "outputs": []
    },
    {
      "cell_type": "code",
      "source": [
        "print(st_test1+st_test2)"
      ],
      "metadata": {
        "colab": {
          "base_uri": "https://localhost:8080/"
        },
        "id": "zJXfslS1PDqp",
        "outputId": "785f5997-315f-44f4-bc5f-5a71f916d008"
      },
      "execution_count": null,
      "outputs": [
        {
          "output_type": "stream",
          "name": "stdout",
          "text": [
            "Department of Statistics, Faculty of Science\n"
          ]
        }
      ]
    },
    {
      "cell_type": "code",
      "source": [
        "print(10*'t')"
      ],
      "metadata": {
        "colab": {
          "base_uri": "https://localhost:8080/"
        },
        "id": "EgbdHJ6VPKxM",
        "outputId": "2e0aaea1-f07a-4f0e-c4c0-ce4ab80efd44"
      },
      "execution_count": null,
      "outputs": [
        {
          "output_type": "stream",
          "name": "stdout",
          "text": [
            "tttttttttt\n"
          ]
        }
      ]
    },
    {
      "cell_type": "code",
      "source": [
        "print(3*st_test1)"
      ],
      "metadata": {
        "colab": {
          "base_uri": "https://localhost:8080/"
        },
        "id": "TlNIdszqPOHM",
        "outputId": "f8ef25bb-2ff6-43ab-f61c-874911b8611b"
      },
      "execution_count": null,
      "outputs": [
        {
          "output_type": "stream",
          "name": "stdout",
          "text": [
            "Department of Statistics, Department of Statistics, Department of Statistics, \n"
          ]
        }
      ]
    },
    {
      "cell_type": "markdown",
      "source": [
        "##replace() แทนที่ string"
      ],
      "metadata": {
        "id": "jsLxX1xZPURo"
      }
    },
    {
      "cell_type": "code",
      "source": [
        "st_test1.replace('e',' ')"
      ],
      "metadata": {
        "colab": {
          "base_uri": "https://localhost:8080/",
          "height": 35
        },
        "id": "_4xJVu3JPYQX",
        "outputId": "f137e5ca-764e-4a43-f6e9-eb5ea56d6bfb"
      },
      "execution_count": null,
      "outputs": [
        {
          "output_type": "execute_result",
          "data": {
            "text/plain": [
              "'D partm nt of Statistics, '"
            ],
            "application/vnd.google.colaboratory.intrinsic+json": {
              "type": "string"
            }
          },
          "metadata": {},
          "execution_count": 72
        }
      ]
    },
    {
      "cell_type": "code",
      "source": [
        "st_test1.replace('e','')"
      ],
      "metadata": {
        "colab": {
          "base_uri": "https://localhost:8080/",
          "height": 35
        },
        "id": "YfB2xWVbPaXi",
        "outputId": "49e9680c-a6ac-4fa2-a2ad-f22654fae4dd"
      },
      "execution_count": null,
      "outputs": [
        {
          "output_type": "execute_result",
          "data": {
            "text/plain": [
              "'Dpartmnt of Statistics, '"
            ],
            "application/vnd.google.colaboratory.intrinsic+json": {
              "type": "string"
            }
          },
          "metadata": {},
          "execution_count": 73
        }
      ]
    },
    {
      "cell_type": "code",
      "source": [
        "st_test1"
      ],
      "metadata": {
        "colab": {
          "base_uri": "https://localhost:8080/",
          "height": 35
        },
        "id": "aZ1ZoxIOPixC",
        "outputId": "c731357d-7a3f-4a92-cf1b-a7a64e3ca72a"
      },
      "execution_count": null,
      "outputs": [
        {
          "output_type": "execute_result",
          "data": {
            "text/plain": [
              "'Department of Statistics, '"
            ],
            "application/vnd.google.colaboratory.intrinsic+json": {
              "type": "string"
            }
          },
          "metadata": {},
          "execution_count": 74
        }
      ]
    },
    {
      "cell_type": "code",
      "source": [
        "'Department of Statistics, '.replace('a','x')"
      ],
      "metadata": {
        "colab": {
          "base_uri": "https://localhost:8080/",
          "height": 35
        },
        "id": "TY2R1JnsPlGA",
        "outputId": "6f2310b7-75c4-4371-a0e2-d707f165efef"
      },
      "execution_count": null,
      "outputs": [
        {
          "output_type": "execute_result",
          "data": {
            "text/plain": [
              "'Depxrtment of Stxtistics, '"
            ],
            "application/vnd.google.colaboratory.intrinsic+json": {
              "type": "string"
            }
          },
          "metadata": {},
          "execution_count": 75
        }
      ]
    },
    {
      "cell_type": "markdown",
      "source": [
        "##split() แยก string"
      ],
      "metadata": {
        "id": "8Pm68lxlPom7"
      }
    },
    {
      "cell_type": "code",
      "source": [
        "'a b c d e f g'.split()"
      ],
      "metadata": {
        "colab": {
          "base_uri": "https://localhost:8080/"
        },
        "id": "YRGFoLTuPsdi",
        "outputId": "a0523d6e-60b8-438e-89d5-0c9313956ea8"
      },
      "execution_count": null,
      "outputs": [
        {
          "output_type": "execute_result",
          "data": {
            "text/plain": [
              "['a', 'b', 'c', 'd', 'e', 'f', 'g']"
            ]
          },
          "metadata": {},
          "execution_count": 76
        }
      ]
    },
    {
      "cell_type": "code",
      "source": [
        "'a,b/c,d e/f g'.split('/')"
      ],
      "metadata": {
        "colab": {
          "base_uri": "https://localhost:8080/"
        },
        "id": "Bou-9Qz7Pt_Y",
        "outputId": "14accd1d-ed6e-4d03-b0d8-d77ff390e0c2"
      },
      "execution_count": null,
      "outputs": [
        {
          "output_type": "execute_result",
          "data": {
            "text/plain": [
              "['a,b', 'c,d e', 'f g']"
            ]
          },
          "metadata": {},
          "execution_count": 77
        }
      ]
    },
    {
      "cell_type": "markdown",
      "source": [
        "จบ"
      ],
      "metadata": {
        "id": "rLCv2xb_QRn8"
      }
    },
    {
      "cell_type": "code",
      "source": [
        ""
      ],
      "metadata": {
        "id": "I3eggsVqQXP9"
      },
      "execution_count": null,
      "outputs": []
    },
    {
      "cell_type": "markdown",
      "source": [
        "##Data Structure (โครงสร้างข้อมูล)\n",
        "การเก็บข้อมูลหลายๆตัวไว้ด้วยกันอย่างเป็นระเบียบ"
      ],
      "metadata": {
        "id": "Zq-_FU6-QXwy"
      }
    },
    {
      "cell_type": "markdown",
      "source": [
        "## list( )\n",
        "\n",
        "- เก็บอะไรก็ได้\n",
        "- ลำดับในการเก็บ มีความสำคัญ"
      ],
      "metadata": {
        "id": "vU3xKh1bQ7Lq"
      }
    },
    {
      "cell_type": "code",
      "source": [
        "list_a = [1,2,3,4,5,6] #[ ] square bracket"
      ],
      "metadata": {
        "id": "tgkaxgx8QkQH"
      },
      "execution_count": null,
      "outputs": []
    },
    {
      "cell_type": "code",
      "source": [
        "list_a"
      ],
      "metadata": {
        "colab": {
          "base_uri": "https://localhost:8080/"
        },
        "id": "O_DtLh_9RKK1",
        "outputId": "9048ebcf-80a6-4bac-eb7a-0b7e7f4f5e3a"
      },
      "execution_count": null,
      "outputs": [
        {
          "output_type": "execute_result",
          "data": {
            "text/plain": [
              "[1, 2, 3, 4, 5, 6]"
            ]
          },
          "metadata": {},
          "execution_count": 83
        }
      ]
    },
    {
      "cell_type": "code",
      "source": [
        "list_b = ['ab',2,3.14,list_a]"
      ],
      "metadata": {
        "id": "KpyyDJ4aRVV8"
      },
      "execution_count": null,
      "outputs": []
    },
    {
      "cell_type": "code",
      "source": [
        "list_b"
      ],
      "metadata": {
        "colab": {
          "base_uri": "https://localhost:8080/"
        },
        "id": "INMA529yRlhK",
        "outputId": "317086a5-0ad1-4b50-c81a-c1e7a4ccc5e4"
      },
      "execution_count": null,
      "outputs": [
        {
          "output_type": "execute_result",
          "data": {
            "text/plain": [
              "['ab', 2, 3.14, [1, 2, 3, 4, 5, 6]]"
            ]
          },
          "metadata": {},
          "execution_count": 85
        }
      ]
    },
    {
      "cell_type": "markdown",
      "source": [
        "### indexing การชี้สมาชิกใน list ด้วยเลขลำดับของ list"
      ],
      "metadata": {
        "id": "NhUbBYxjTK3J"
      }
    },
    {
      "cell_type": "code",
      "source": [
        "list_a[3]"
      ],
      "metadata": {
        "colab": {
          "base_uri": "https://localhost:8080/"
        },
        "id": "HiAFu8l8SjJZ",
        "outputId": "0194640f-d997-4472-d9bf-60122d928e7e"
      },
      "execution_count": null,
      "outputs": [
        {
          "output_type": "execute_result",
          "data": {
            "text/plain": [
              "4"
            ]
          },
          "metadata": {},
          "execution_count": 86
        }
      ]
    },
    {
      "cell_type": "code",
      "source": [
        "list_b[3]"
      ],
      "metadata": {
        "colab": {
          "base_uri": "https://localhost:8080/"
        },
        "id": "7RZFo2WZSyEX",
        "outputId": "b8864fc7-5e16-4dab-914e-a5c10ba2abd9"
      },
      "execution_count": null,
      "outputs": [
        {
          "output_type": "execute_result",
          "data": {
            "text/plain": [
              "[1, 2, 3, 4, 5, 6]"
            ]
          },
          "metadata": {},
          "execution_count": 87
        }
      ]
    },
    {
      "cell_type": "code",
      "source": [
        "list_b[3][4]"
      ],
      "metadata": {
        "colab": {
          "base_uri": "https://localhost:8080/"
        },
        "id": "4ss6jLfoS5XU",
        "outputId": "df176c65-083a-42f8-ea85-b1a88fc34616"
      },
      "execution_count": null,
      "outputs": [
        {
          "output_type": "execute_result",
          "data": {
            "text/plain": [
              "5"
            ]
          },
          "metadata": {},
          "execution_count": 88
        }
      ]
    },
    {
      "cell_type": "code",
      "source": [
        "list_a[6]"
      ],
      "metadata": {
        "colab": {
          "base_uri": "https://localhost:8080/",
          "height": 165
        },
        "id": "By41Q6xvTYP9",
        "outputId": "e1ab48d5-8945-4fed-86d9-e96766d349e9"
      },
      "execution_count": null,
      "outputs": [
        {
          "output_type": "error",
          "ename": "IndexError",
          "evalue": "ignored",
          "traceback": [
            "\u001b[0;31m---------------------------------------------------------------------------\u001b[0m",
            "\u001b[0;31mIndexError\u001b[0m                                Traceback (most recent call last)",
            "\u001b[0;32m<ipython-input-89-d6b61775e813>\u001b[0m in \u001b[0;36m<module>\u001b[0;34m()\u001b[0m\n\u001b[0;32m----> 1\u001b[0;31m \u001b[0mlist_a\u001b[0m\u001b[0;34m[\u001b[0m\u001b[0;36m6\u001b[0m\u001b[0;34m]\u001b[0m\u001b[0;34m\u001b[0m\u001b[0;34m\u001b[0m\u001b[0m\n\u001b[0m",
            "\u001b[0;31mIndexError\u001b[0m: list index out of range"
          ]
        }
      ]
    },
    {
      "cell_type": "code",
      "source": [
        "list_a[-1] #index -1 คือตัวสุดท้ายของ list "
      ],
      "metadata": {
        "colab": {
          "base_uri": "https://localhost:8080/"
        },
        "id": "0swr4n_ITxVV",
        "outputId": "d35aad96-cbb9-424b-f8c8-5d503291b754"
      },
      "execution_count": null,
      "outputs": [
        {
          "output_type": "execute_result",
          "data": {
            "text/plain": [
              "6"
            ]
          },
          "metadata": {},
          "execution_count": 90
        }
      ]
    },
    {
      "cell_type": "markdown",
      "source": [
        "ใช้ในการณี\n",
        "- list ใหญ่มากๆ \n",
        "- เวลาทำงาน list อาจจะเปลี่ยนขนาด ขนาดไม่แน่นอน การดึงตัวสุดท้ายจึงต้องใช้ -1"
      ],
      "metadata": {
        "id": "VXyrcW4rT5Zz"
      }
    },
    {
      "cell_type": "code",
      "source": [
        "list_a[-4]"
      ],
      "metadata": {
        "colab": {
          "base_uri": "https://localhost:8080/"
        },
        "id": "6NjeuXThUXCy",
        "outputId": "e1a6b34c-d657-46ea-9d8b-2aaf29534528"
      },
      "execution_count": null,
      "outputs": [
        {
          "output_type": "execute_result",
          "data": {
            "text/plain": [
              "3"
            ]
          },
          "metadata": {},
          "execution_count": 92
        }
      ]
    },
    {
      "cell_type": "markdown",
      "source": [
        "### การสร้าง list( )"
      ],
      "metadata": {
        "id": "bdKoAaSAU2FK"
      }
    },
    {
      "cell_type": "code",
      "source": [
        "list_x1 = [] #แบบที่ 1\n",
        "list_x2 = list() #แบบที่ 2"
      ],
      "metadata": {
        "id": "IusejEN_U6xa"
      },
      "execution_count": 153,
      "outputs": []
    },
    {
      "cell_type": "code",
      "source": [
        "print(list_x1)\n",
        "print(list_x2)"
      ],
      "metadata": {
        "colab": {
          "base_uri": "https://localhost:8080/"
        },
        "id": "WUEZ5jjNVW0M",
        "outputId": "85a25e52-620d-4699-aacd-175e71f0be0c"
      },
      "execution_count": 154,
      "outputs": [
        {
          "output_type": "stream",
          "name": "stdout",
          "text": [
            "[]\n",
            "[]\n"
          ]
        }
      ]
    },
    {
      "cell_type": "markdown",
      "source": [
        "### เพิ่มสมาชิกเข้าไปใน list ด้วย append( )"
      ],
      "metadata": {
        "id": "DwIYlXaRVpxI"
      }
    },
    {
      "cell_type": "code",
      "source": [
        "list_x1.append(2)"
      ],
      "metadata": {
        "id": "5f6UmfC8YBM4"
      },
      "execution_count": 155,
      "outputs": []
    },
    {
      "cell_type": "code",
      "source": [
        "list_x1"
      ],
      "metadata": {
        "colab": {
          "base_uri": "https://localhost:8080/"
        },
        "id": "1aWMiVPbW-HL",
        "outputId": "0dd1e7a9-5ff6-4e78-a06b-f18ed53a81c5"
      },
      "execution_count": 156,
      "outputs": [
        {
          "output_type": "execute_result",
          "data": {
            "text/plain": [
              "[2]"
            ]
          },
          "metadata": {},
          "execution_count": 156
        }
      ]
    },
    {
      "cell_type": "code",
      "source": [
        "list_x1.append(4)\n",
        "print(list_x1)"
      ],
      "metadata": {
        "colab": {
          "base_uri": "https://localhost:8080/"
        },
        "id": "J_4oUHaMXmv8",
        "outputId": "73568a2a-767a-43b5-931b-1e37cea47105"
      },
      "execution_count": 157,
      "outputs": [
        {
          "output_type": "stream",
          "name": "stdout",
          "text": [
            "[2, 4]\n"
          ]
        }
      ]
    },
    {
      "cell_type": "code",
      "source": [
        "list_x1[0]"
      ],
      "metadata": {
        "colab": {
          "base_uri": "https://localhost:8080/"
        },
        "id": "Emk8VS28Yxyi",
        "outputId": "20c0b5a7-f163-4d0d-cb26-29c9aa189366"
      },
      "execution_count": 158,
      "outputs": [
        {
          "output_type": "execute_result",
          "data": {
            "text/plain": [
              "2"
            ]
          },
          "metadata": {},
          "execution_count": 158
        }
      ]
    },
    {
      "cell_type": "code",
      "source": [
        "list_x1[-1]"
      ],
      "metadata": {
        "colab": {
          "base_uri": "https://localhost:8080/"
        },
        "id": "Jgl9y9F3Y59K",
        "outputId": "c199d44e-ab62-478e-dd59-64e27ebb7344"
      },
      "execution_count": 159,
      "outputs": [
        {
          "output_type": "execute_result",
          "data": {
            "text/plain": [
              "4"
            ]
          },
          "metadata": {},
          "execution_count": 159
        }
      ]
    },
    {
      "cell_type": "code",
      "source": [
        "list_x2"
      ],
      "metadata": {
        "colab": {
          "base_uri": "https://localhost:8080/"
        },
        "id": "pZq-hsvOY_fB",
        "outputId": "548c7fe4-e15e-4d76-dd4f-ac29fef16b92"
      },
      "execution_count": 160,
      "outputs": [
        {
          "output_type": "execute_result",
          "data": {
            "text/plain": [
              "[]"
            ]
          },
          "metadata": {},
          "execution_count": 160
        }
      ]
    },
    {
      "cell_type": "code",
      "source": [
        "list_x2.append('ha')"
      ],
      "metadata": {
        "id": "nSCjH1DtZDhN"
      },
      "execution_count": 161,
      "outputs": []
    },
    {
      "cell_type": "code",
      "source": [
        "list_x2"
      ],
      "metadata": {
        "colab": {
          "base_uri": "https://localhost:8080/"
        },
        "id": "kslf8S4VZLd9",
        "outputId": "a67d14eb-efe5-4cf7-a57d-17545a6bddbb"
      },
      "execution_count": 162,
      "outputs": [
        {
          "output_type": "execute_result",
          "data": {
            "text/plain": [
              "['ha']"
            ]
          },
          "metadata": {},
          "execution_count": 162
        }
      ]
    },
    {
      "cell_type": "markdown",
      "source": [
        "### ลบสมาชิกจาก list"
      ],
      "metadata": {
        "id": "GCDNkIlCZgZ6"
      }
    },
    {
      "cell_type": "code",
      "source": [
        "list_x1.append('ha')"
      ],
      "metadata": {
        "id": "mwqc9ZhnZ0vd"
      },
      "execution_count": 163,
      "outputs": []
    },
    {
      "cell_type": "code",
      "source": [
        "list_x1"
      ],
      "metadata": {
        "colab": {
          "base_uri": "https://localhost:8080/"
        },
        "id": "vf3FOB1MZ6Dr",
        "outputId": "534a90d5-dde4-4367-a9b7-d7be27a42cc5"
      },
      "execution_count": 164,
      "outputs": [
        {
          "output_type": "execute_result",
          "data": {
            "text/plain": [
              "[2, 4, 'ha']"
            ]
          },
          "metadata": {},
          "execution_count": 164
        }
      ]
    },
    {
      "cell_type": "code",
      "source": [
        "list_x1.pop()"
      ],
      "metadata": {
        "colab": {
          "base_uri": "https://localhost:8080/",
          "height": 35
        },
        "id": "3bZWqZ3LZ-uR",
        "outputId": "9b8587a0-2cf8-4bad-c77b-4a9f5f414b10"
      },
      "execution_count": 165,
      "outputs": [
        {
          "output_type": "execute_result",
          "data": {
            "text/plain": [
              "'ha'"
            ],
            "application/vnd.google.colaboratory.intrinsic+json": {
              "type": "string"
            }
          },
          "metadata": {},
          "execution_count": 165
        }
      ]
    },
    {
      "cell_type": "code",
      "source": [
        "list_x1"
      ],
      "metadata": {
        "colab": {
          "base_uri": "https://localhost:8080/"
        },
        "id": "YV4l4DQ2aI5F",
        "outputId": "a3edfaa2-20f1-4b8a-87c3-b75c48ed1333"
      },
      "execution_count": 166,
      "outputs": [
        {
          "output_type": "execute_result",
          "data": {
            "text/plain": [
              "[2, 4]"
            ]
          },
          "metadata": {},
          "execution_count": 166
        }
      ]
    },
    {
      "cell_type": "code",
      "source": [
        "list_x1.pop()\n",
        "print(list_x1)"
      ],
      "metadata": {
        "colab": {
          "base_uri": "https://localhost:8080/"
        },
        "id": "dLSWVIxNaPIr",
        "outputId": "29ab5c88-1d60-4d1e-98a8-adf7d068df93"
      },
      "execution_count": 167,
      "outputs": [
        {
          "output_type": "stream",
          "name": "stdout",
          "text": [
            "[2]\n"
          ]
        }
      ]
    },
    {
      "cell_type": "markdown",
      "source": [
        "### len() ตรวจสอบสมาชิกของ list"
      ],
      "metadata": {
        "id": "MZ9Ede0GcWFK"
      }
    },
    {
      "cell_type": "code",
      "source": [
        "print(list_b)\n",
        "print(len(list_b))"
      ],
      "metadata": {
        "id": "gBOqPubdcdmj",
        "outputId": "6d7940fc-a144-495c-99fa-cc19fb04d148",
        "colab": {
          "base_uri": "https://localhost:8080/"
        }
      },
      "execution_count": 168,
      "outputs": [
        {
          "output_type": "stream",
          "name": "stdout",
          "text": [
            "['ab', 2, 3.14, [1, 2, 3, 4, 5, 6]]\n",
            "4\n"
          ]
        }
      ]
    },
    {
      "cell_type": "code",
      "source": [
        "len(list_a)"
      ],
      "metadata": {
        "id": "fl6Xl448ctVx",
        "outputId": "c25783aa-1a55-405a-f554-19e9efe1dbf5",
        "colab": {
          "base_uri": "https://localhost:8080/"
        }
      },
      "execution_count": 169,
      "outputs": [
        {
          "output_type": "execute_result",
          "data": {
            "text/plain": [
              "6"
            ]
          },
          "metadata": {},
          "execution_count": 169
        }
      ]
    },
    {
      "cell_type": "markdown",
      "source": [
        "### String is a list of characters"
      ],
      "metadata": {
        "id": "3jaYJK4CcyTb"
      }
    },
    {
      "cell_type": "code",
      "source": [
        "st_stat = 'Department of Statistics, Faculty of Science'\n"
      ],
      "metadata": {
        "id": "hmZaYJusc4Jb"
      },
      "execution_count": 170,
      "outputs": []
    },
    {
      "cell_type": "code",
      "source": [
        "st_stat[10]"
      ],
      "metadata": {
        "id": "qACs8wR7dLSx",
        "outputId": "0f9dd9b4-979c-4484-de5f-b7208f7dbdd4",
        "colab": {
          "base_uri": "https://localhost:8080/",
          "height": 35
        }
      },
      "execution_count": 171,
      "outputs": [
        {
          "output_type": "execute_result",
          "data": {
            "text/plain": [
              "' '"
            ],
            "application/vnd.google.colaboratory.intrinsic+json": {
              "type": "string"
            }
          },
          "metadata": {},
          "execution_count": 171
        }
      ]
    },
    {
      "cell_type": "code",
      "source": [
        "len(st_stat)"
      ],
      "metadata": {
        "id": "yhEET3l3dPXy",
        "outputId": "3b49894c-d784-4606-d70b-68aaefd71ce3",
        "colab": {
          "base_uri": "https://localhost:8080/"
        }
      },
      "execution_count": 172,
      "outputs": [
        {
          "output_type": "execute_result",
          "data": {
            "text/plain": [
              "44"
            ]
          },
          "metadata": {},
          "execution_count": 172
        }
      ]
    },
    {
      "cell_type": "markdown",
      "source": [
        "### List Slicing"
      ],
      "metadata": {
        "id": "vME0RbVaditb"
      }
    },
    {
      "cell_type": "markdown",
      "source": [
        "list [จุดเริ่มต้น (ทึบ):จุดสุดท้าย (โปร่ง)]\n",
        "\n",
        "list [จุดเริ่มต้น (ทึบ):จุดสุดท้าย (โปร่ง):step]"
      ],
      "metadata": {
        "id": "U_-uyCf9eGZi"
      }
    },
    {
      "cell_type": "markdown",
      "source": [
        "![288462633_757667612347569_3786363075778915826_n.png](data:image/png;base64,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)"
      ],
      "metadata": {
        "id": "nDzkIgOQeuEg"
      }
    },
    {
      "cell_type": "code",
      "source": [
        "list_a"
      ],
      "metadata": {
        "id": "jaZYTjpWdURi",
        "outputId": "37b6aa87-d0de-49ee-8623-422ff3698083",
        "colab": {
          "base_uri": "https://localhost:8080/"
        }
      },
      "execution_count": 173,
      "outputs": [
        {
          "output_type": "execute_result",
          "data": {
            "text/plain": [
              "[1, 2, 3, 4, 5, 6]"
            ]
          },
          "metadata": {},
          "execution_count": 173
        }
      ]
    },
    {
      "cell_type": "code",
      "source": [
        "list_a[2]"
      ],
      "metadata": {
        "id": "TC1ZPErfdywN",
        "outputId": "9deb174b-291e-400e-99e2-e4dade6f8f0a",
        "colab": {
          "base_uri": "https://localhost:8080/"
        }
      },
      "execution_count": 174,
      "outputs": [
        {
          "output_type": "execute_result",
          "data": {
            "text/plain": [
              "3"
            ]
          },
          "metadata": {},
          "execution_count": 174
        }
      ]
    },
    {
      "cell_type": "markdown",
      "source": [
        "####colon"
      ],
      "metadata": {
        "id": "gsdIfhlrf1sN"
      }
    },
    {
      "cell_type": "code",
      "source": [
        "list_a[-3:] "
      ],
      "metadata": {
        "id": "eIoPVJLEd3X5",
        "outputId": "e8ebacd7-23d7-41ac-c03b-4ab23d8c4429",
        "colab": {
          "base_uri": "https://localhost:8080/"
        }
      },
      "execution_count": 175,
      "outputs": [
        {
          "output_type": "execute_result",
          "data": {
            "text/plain": [
              "[4, 5, 6]"
            ]
          },
          "metadata": {},
          "execution_count": 175
        }
      ]
    },
    {
      "cell_type": "code",
      "source": [
        "list_a[:4] "
      ],
      "metadata": {
        "id": "jj354qXFeCdr",
        "outputId": "1e2df549-9827-42fc-de72-186bd7b1ad17",
        "colab": {
          "base_uri": "https://localhost:8080/"
        }
      },
      "execution_count": 176,
      "outputs": [
        {
          "output_type": "execute_result",
          "data": {
            "text/plain": [
              "[1, 2, 3, 4]"
            ]
          },
          "metadata": {},
          "execution_count": 176
        }
      ]
    },
    {
      "cell_type": "code",
      "source": [
        "list_a[:] "
      ],
      "metadata": {
        "id": "TDKtKNRbfldS",
        "outputId": "d09d0d47-67a0-47eb-9d70-92e8c759c7d4",
        "colab": {
          "base_uri": "https://localhost:8080/"
        }
      },
      "execution_count": 177,
      "outputs": [
        {
          "output_type": "execute_result",
          "data": {
            "text/plain": [
              "[1, 2, 3, 4, 5, 6]"
            ]
          },
          "metadata": {},
          "execution_count": 177
        }
      ]
    },
    {
      "cell_type": "markdown",
      "source": [
        "####step"
      ],
      "metadata": {
        "id": "gp93z9H2frdM"
      }
    },
    {
      "cell_type": "code",
      "source": [
        "list_c = [1,2,3,4,5,6,7,8,9,10,11,12,13]"
      ],
      "metadata": {
        "id": "--iq3vxufpyc"
      },
      "execution_count": 180,
      "outputs": []
    },
    {
      "cell_type": "code",
      "source": [
        "list_c[:10:]"
      ],
      "metadata": {
        "id": "7dsJU1zggKkE",
        "outputId": "b75c2ddd-2690-4122-8000-6f162a489cad",
        "colab": {
          "base_uri": "https://localhost:8080/"
        }
      },
      "execution_count": 186,
      "outputs": [
        {
          "output_type": "execute_result",
          "data": {
            "text/plain": [
              "[1, 2, 3, 4, 5, 6, 7, 8, 9, 10]"
            ]
          },
          "metadata": {},
          "execution_count": 186
        }
      ]
    },
    {
      "cell_type": "code",
      "source": [
        "list_c[:10:2]"
      ],
      "metadata": {
        "id": "oobTDmTngRPX",
        "outputId": "c3fc97a4-7ac7-4b5b-dded-7a86fb8608e2",
        "colab": {
          "base_uri": "https://localhost:8080/"
        }
      },
      "execution_count": 185,
      "outputs": [
        {
          "output_type": "execute_result",
          "data": {
            "text/plain": [
              "[1, 3, 5, 7, 9]"
            ]
          },
          "metadata": {},
          "execution_count": 185
        }
      ]
    },
    {
      "cell_type": "code",
      "source": [
        "list_c[::-1]"
      ],
      "metadata": {
        "id": "wXPXgwahgbIa",
        "outputId": "b290c4f6-4020-4739-b611-84fd4078c371",
        "colab": {
          "base_uri": "https://localhost:8080/"
        }
      },
      "execution_count": 184,
      "outputs": [
        {
          "output_type": "execute_result",
          "data": {
            "text/plain": [
              "[13, 12, 11, 10, 9, 8, 7, 6, 5, 4, 3, 2, 1]"
            ]
          },
          "metadata": {},
          "execution_count": 184
        }
      ]
    },
    {
      "cell_type": "code",
      "source": [
        ""
      ],
      "metadata": {
        "id": "JmWd3rMrgjcE"
      },
      "execution_count": null,
      "outputs": []
    },
    {
      "cell_type": "markdown",
      "source": [
        "####range()"
      ],
      "metadata": {
        "id": "n7DiOay0goWv"
      }
    },
    {
      "cell_type": "code",
      "source": [
        "range(21)"
      ],
      "metadata": {
        "id": "Xk8Y_R50gsX-",
        "outputId": "d65e3e2a-6c60-4ea1-ba10-ada50fede801",
        "colab": {
          "base_uri": "https://localhost:8080/"
        }
      },
      "execution_count": 187,
      "outputs": [
        {
          "output_type": "execute_result",
          "data": {
            "text/plain": [
              "range(0, 21)"
            ]
          },
          "metadata": {},
          "execution_count": 187
        }
      ]
    },
    {
      "cell_type": "code",
      "source": [
        "a = list(range(21))"
      ],
      "metadata": {
        "id": "m8fqNd6agwXE"
      },
      "execution_count": 188,
      "outputs": []
    },
    {
      "cell_type": "code",
      "source": [
        "a"
      ],
      "metadata": {
        "id": "0AAXUcslg3fB",
        "outputId": "7fe43065-c402-4896-ec05-89ca0fc688e5",
        "colab": {
          "base_uri": "https://localhost:8080/"
        }
      },
      "execution_count": 189,
      "outputs": [
        {
          "output_type": "execute_result",
          "data": {
            "text/plain": [
              "[0, 1, 2, 3, 4, 5, 6, 7, 8, 9, 10, 11, 12, 13, 14, 15, 16, 17, 18, 19, 20]"
            ]
          },
          "metadata": {},
          "execution_count": 189
        }
      ]
    },
    {
      "cell_type": "code",
      "source": [
        "list(range(1,21))"
      ],
      "metadata": {
        "id": "BAecIQTohFWE",
        "outputId": "3a5f392c-94a7-4bac-fe07-b997efb764fc",
        "colab": {
          "base_uri": "https://localhost:8080/"
        }
      },
      "execution_count": 191,
      "outputs": [
        {
          "output_type": "execute_result",
          "data": {
            "text/plain": [
              "[1, 2, 3, 4, 5, 6, 7, 8, 9, 10, 11, 12, 13, 14, 15, 16, 17, 18, 19, 20]"
            ]
          },
          "metadata": {},
          "execution_count": 191
        }
      ]
    },
    {
      "cell_type": "markdown",
      "source": [
        "HW2 คำนวณเวลาเป็นวินาทีของเวลาต่อไปนี้โดยใช้คำสั่ง split() ช่วย (print ออกมาสวยงาม)\n",
        "- 12:30:15\n",
        "- 13:41:07\n",
        "- 09:11:50\n",
        "- 21:30:15\n",
        "- 03:10:15"
      ],
      "metadata": {
        "id": "QzxiLqHohV8m"
      }
    },
    {
      "cell_type": "code",
      "source": [
        "#01:02:03\n",
        "\n",
        "a = (1*60*60) + (2*60) + 3\n",
        "print(f'01:02:03 แปลงเป็นวินาที ได้ {a} วินาที')"
      ],
      "metadata": {
        "id": "vsk5uhD0hPPD",
        "outputId": "9ef8b455-4889-4a72-9873-56a8ea1e423c",
        "colab": {
          "base_uri": "https://localhost:8080/"
        }
      },
      "execution_count": 194,
      "outputs": [
        {
          "output_type": "stream",
          "name": "stdout",
          "text": [
            "01:02:03 แปลงเป็นวินาที ได้ 3723 วินาที\n"
          ]
        }
      ]
    }
  ]
}
{
  "nbformat": 4,
  "nbformat_minor": 0,
  "metadata": {
    "colab": {
      "name": "Recap 1-3 Quiz1.ipynb",
      "provenance": [],
      "include_colab_link": true
    },
    "kernelspec": {
      "name": "python3",
      "display_name": "Python 3"
    },
    "language_info": {
      "name": "python"
    }
  },
  "cells": [
    {
      "cell_type": "markdown",
      "metadata": {
        "id": "view-in-github",
        "colab_type": "text"
      },
      "source": [
        "<a href=\"https://colab.research.google.com/github/nannthd/BasicProg_DataViz65/blob/main/Recap_1_3_Quiz1.ipynb\" target=\"_parent\"><img src=\"https://colab.research.google.com/assets/colab-badge.svg\" alt=\"Open In Colab\"/></a>"
      ]
    },
    {
      "cell_type": "markdown",
      "source": [
        "Quiz 1 \n",
        "\n",
        "คำนวณเวลาเป็นความต่างของเวลาเป็นวินาทีของช่วงเวลาต่อไปนี้โดยใช้คำสั่ง split() ช่วย และ print ออกมาให้สวยงาม\n",
        "\n",
        "* 09:11:50 - 12:30:15\n",
        "* 13:41:07 - 20:00:18\n",
        "* 21:30:15 - 00:00:00\n",
        "* 00:00:00 - 23:59:59\n",
        "\n",
        "\n",
        "\n",
        "\n",
        "\n"
      ],
      "metadata": {
        "id": "FKKg2s03yfKC"
      }
    },
    {
      "cell_type": "code",
      "source": [
        "#09:11:50 - 12:30:15\n",
        "\n",
        "a = ((12*60*60) + (30*60) + 15) - ((9*60*60) + (11*60) + 50) \n",
        "print(f'09:11:50 - 12:30:15 แปลงเป็นความต่างของเวลาเป็นวินาที ได้ {a} วินาที')"
      ],
      "metadata": {
        "colab": {
          "base_uri": "https://localhost:8080/"
        },
        "id": "89RWwxWE4d3f",
        "outputId": "e26bdcb6-a9fc-4ce0-bb75-f6d92a26c5cd"
      },
      "execution_count": null,
      "outputs": [
        {
          "output_type": "stream",
          "name": "stdout",
          "text": [
            "09:11:50 - 12:30:15 แปลงเป็นความต่างของเวลาเป็นวินาที ได้ 11905 วินาที\n"
          ]
        }
      ]
    },
    {
      "cell_type": "code",
      "source": [
        "#13:41:07 - 20:00:18\n",
        "\n",
        "ิb = ((20*60*60) + (0*60) + 18) - ((13*60*60) + (41*60) + 7) \n",
        "print(f'13:41:07 - 20:00:18 แปลงเป็นความต่างของเวลาเป็นวินาที ได้ {a} วินาที')"
      ],
      "metadata": {
        "colab": {
          "base_uri": "https://localhost:8080/"
        },
        "id": "hty3WRzX5PIK",
        "outputId": "6d9e2cc5-eb53-4547-d573-292f22b83e99"
      },
      "execution_count": null,
      "outputs": [
        {
          "output_type": "stream",
          "name": "stdout",
          "text": [
            "13:41:07 - 20:00:18 แปลงเป็นความต่างของเวลาเป็นวินาที ได้ 22751 วินาที\n"
          ]
        }
      ]
    },
    {
      "cell_type": "code",
      "source": [
        "#21:30:15 - 00:00:00\n",
        "\n",
        "c = ((24*60*60) + (0*60) + 0) - ((21*60*60) + (30*60) + 15) \n",
        "print(f'21:30:15 - 00:00:00 แปลงเป็นความต่างของเวลาเป็นวินาที ได้ {a} วินาที')"
      ],
      "metadata": {
        "colab": {
          "base_uri": "https://localhost:8080/"
        },
        "id": "IFfUDJTY52tA",
        "outputId": "7d71c80b-50bd-4a84-b37e-d841eac0c13d"
      },
      "execution_count": null,
      "outputs": [
        {
          "output_type": "stream",
          "name": "stdout",
          "text": [
            "21:30:15 - 00:00:00 แปลงเป็นความต่างของเวลาเป็นวินาที ได้ 8985 วินาที\n"
          ]
        }
      ]
    },
    {
      "cell_type": "code",
      "source": [
        "#00:00:00 - 23:59:59\n",
        "d = ((23*60*60) + (59*60) + 59) - ((0*60*60) + (0*60) + 0) \n",
        "print(f'00:00:00 - 23:59:59 แปลงเป็นความต่างของเวลาเป็นเป็นวินาที ได้ {a} วินาที')"
      ],
      "metadata": {
        "colab": {
          "base_uri": "https://localhost:8080/"
        },
        "id": "KPbqUpem6Qs_",
        "outputId": "4d800c7e-ddb2-435f-e510-31e4d48f25a1"
      },
      "execution_count": null,
      "outputs": [
        {
          "output_type": "stream",
          "name": "stdout",
          "text": [
            "00:00:00 - 23:59:59 แปลงเป็นความต่างของเวลาเป็นเป็นวินาที ได้ 86399 วินาที\n"
          ]
        }
      ]
    }
  ]
}
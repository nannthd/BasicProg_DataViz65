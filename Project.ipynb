{
  "nbformat": 4,
  "nbformat_minor": 0,
  "metadata": {
    "colab": {
      "provenance": [],
      "collapsed_sections": [],
      "toc_visible": true,
      "include_colab_link": true
    },
    "kernelspec": {
      "name": "python3",
      "display_name": "Python 3"
    },
    "language_info": {
      "name": "python"
    }
  },
  "cells": [
    {
      "cell_type": "markdown",
      "metadata": {
        "id": "view-in-github",
        "colab_type": "text"
      },
      "source": [
        "<a href=\"https://colab.research.google.com/github/nannthd/BasicProg_DataViz65/blob/main/Project.ipynb\" target=\"_parent\"><img src=\"https://colab.research.google.com/assets/colab-badge.svg\" alt=\"Open In Colab\"/></a>"
      ]
    },
    {
      "cell_type": "code",
      "execution_count": 104,
      "metadata": {
        "colab": {
          "base_uri": "https://localhost:8080/"
        },
        "id": "2OdHuLWclIQF",
        "outputId": "fbd91d8b-bd06-480d-8883-bd2ada4e2c2e"
      },
      "outputs": [
        {
          "output_type": "stream",
          "name": "stdout",
          "text": [
            "Drive already mounted at /content/gdrive; to attempt to forcibly remount, call drive.mount(\"/content/gdrive\", force_remount=True).\n"
          ]
        }
      ],
      "source": [
        "from google.colab import drive \n",
        "drive.mount('/content/gdrive')"
      ]
    },
    {
      "cell_type": "code",
      "source": [
        "import os\n",
        "os.chdir('/content/gdrive/MyDrive/Data for Project')\n",
        "\n",
        "!pwd "
      ],
      "metadata": {
        "colab": {
          "base_uri": "https://localhost:8080/"
        },
        "id": "c4dCfW1On7lA",
        "outputId": "abe8dc2f-719b-4bd9-e9a7-220c6d0c5da5"
      },
      "execution_count": 105,
      "outputs": [
        {
          "output_type": "stream",
          "name": "stdout",
          "text": [
            "/content/gdrive/MyDrive/Data for Project\n"
          ]
        }
      ]
    },
    {
      "cell_type": "code",
      "source": [
        "!ls"
      ],
      "metadata": {
        "colab": {
          "base_uri": "https://localhost:8080/"
        },
        "id": "XNeUPw1joQFZ",
        "outputId": "beb16635-9f95-4e66-a690-3722ac6e408a"
      },
      "execution_count": 106,
      "outputs": [
        {
          "output_type": "stream",
          "name": "stdout",
          "text": [
            "opendata_interest_clean.csv\t opendata_unittype_clean.csv\n",
            "opendata_interest.csv\t\t opendata_unittype.csv\n",
            "opendata_living_score_clean.csv  opendata_volume_listing_rent_clean.csv\n",
            "opendata_living_score.csv\t opendata_volume_listing_rent.csv\n",
            "opendata_project_clean.csv\t Residental_clean.csv\n",
            "opendata_project.csv\n"
          ]
        }
      ]
    },
    {
      "cell_type": "markdown",
      "source": [
        "# Data Cleaning"
      ],
      "metadata": {
        "id": "TnQiGYvV2rbI"
      }
    },
    {
      "cell_type": "markdown",
      "source": [
        "## 📑opendata_project table"
      ],
      "metadata": {
        "id": "qMCBUZhC2-43"
      }
    },
    {
      "cell_type": "markdown",
      "source": [
        "opendata_project = pd.read_csv('opendata_project.csv')\n",
        "print(opendata_project.shape) # shown nomber of (row, column)\n",
        "opendata_project.head(3)"
      ],
      "metadata": {
        "id": "EkNk-J8L1p9P"
      }
    },
    {
      "cell_type": "markdown",
      "source": [
        "### Select columns"
      ],
      "metadata": {
        "id": "DNyAT1q370ch"
      }
    },
    {
      "cell_type": "code",
      "source": [
        "opendata_project.columns"
      ],
      "metadata": {
        "colab": {
          "base_uri": "https://localhost:8080/"
        },
        "id": "0qhjAfPm76V7",
        "outputId": "5489ab6a-dce2-40e1-b5bd-e1551662fb86"
      },
      "execution_count": 107,
      "outputs": [
        {
          "output_type": "execute_result",
          "data": {
            "text/plain": [
              "Index(['project_id', 'name_en', 'propertytype_id', 'propertytype_name_en',\n",
              "       'price_min', 'developer_id', 'developer_name_en', 'latitude',\n",
              "       'longitude', 'neighborhood_id', 'neighborhood_name_en',\n",
              "       'subdistrict_id', 'subdistrict_name_en', 'subdistrict_name_th',\n",
              "       'district_id', 'district_name_en', 'district_name_th', 'province_id',\n",
              "       'province_name_en', 'province_name_th', 'zipcode', 'count_elevator',\n",
              "       'count_elevator_service', 'count_floor', 'count_parking', 'count_unit',\n",
              "       'count_unittype', 'facility_clubhouse', 'facility_fitness',\n",
              "       'facility_meeting', 'facility_park', 'facility_playground',\n",
              "       'facility_pool', 'facility_security'],\n",
              "      dtype='object')"
            ]
          },
          "metadata": {},
          "execution_count": 107
        }
      ]
    },
    {
      "cell_type": "code",
      "source": [
        "opendata_project = opendata_project[['project_id',  'name_en',  'propertytype_id',\n",
        "       'propertytype_name_en', 'price_min',\n",
        "       'developer_id', 'developer_name_en',  'latitude',\n",
        "       'longitude', 'neighborhood_id', 'neighborhood_name_en',\n",
        "        'subdistrict_id', 'subdistrict_name_en',\n",
        "       'subdistrict_name_th', 'district_id', 'district_name_en',\n",
        "       'district_name_th', 'province_id', 'province_name_en',\n",
        "       'province_name_th', 'zipcode', 'count_elevator',\n",
        "       'count_elevator_service', 'count_floor', 'count_parking', \n",
        "       'count_unit', 'count_unittype', 'facility_clubhouse',\n",
        "       'facility_fitness', 'facility_meeting', 'facility_park',\n",
        "       'facility_playground', 'facility_pool', 'facility_security']]"
      ],
      "metadata": {
        "id": "ci3UwZJR7-Tx"
      },
      "execution_count": 108,
      "outputs": []
    },
    {
      "cell_type": "code",
      "source": [
        "opendata_project.head()"
      ],
      "metadata": {
        "colab": {
          "base_uri": "https://localhost:8080/",
          "height": 403
        },
        "id": "NL1ikAlW_cfb",
        "outputId": "2a833ced-0816-4cba-a88a-c52efe0885fc"
      },
      "execution_count": 109,
      "outputs": [
        {
          "output_type": "execute_result",
          "data": {
            "text/plain": [
              "      project_id                       name_en propertytype_id  \\\n",
              "0   project_4270  Paholyothin Park Condominium               2   \n",
              "1  project_15158             The Chill Village               3   \n",
              "2   project_9490          Diya Valley Sriracha               1   \n",
              "3  project_13601                 Baan Rungrawe               1   \n",
              "4  project_12398         Town Plus Ladprao 101               3   \n",
              "\n",
              "  propertytype_name_en  price_min     developer_id  \\\n",
              "0                Condo  3650000.0  developer_10510   \n",
              "1             Townhome  2450000.0  developer_10510   \n",
              "2       Detached House  2390000.0   developer_1015   \n",
              "3       Detached House  2750000.0  developer_10510   \n",
              "4             Townhome  4600000.0   developer_2417   \n",
              "\n",
              "            developer_name_en   latitude   longitude neighborhood_id  ...  \\\n",
              "0                     Unknown  13.786388  100.553931           B1161  ...   \n",
              "1                     Unknown  16.209059  103.288288         Unknown  ...   \n",
              "2  Poonsin Property Co., Ltd.  13.173645  100.954876           B0752  ...   \n",
              "3                     Unknown   8.096150   98.309995         Unknown  ...   \n",
              "4     PLUS PROPERTY CO., LTD.  13.797585  100.633945           B1073  ...   \n",
              "\n",
              "  count_parking  count_unit count_unittype facility_clubhouse  \\\n",
              "0             0        96.0            2.0                0.0   \n",
              "1             0       125.0            1.0                0.0   \n",
              "2             0       195.0            4.0                1.0   \n",
              "3             0        32.0            2.0                0.0   \n",
              "4             0       114.0            1.0                0.0   \n",
              "\n",
              "   facility_fitness facility_meeting facility_park  facility_playground  \\\n",
              "0               1.0              0.0           1.0                  1.0   \n",
              "1               0.0              0.0           0.0                  0.0   \n",
              "2               1.0              0.0           1.0                  0.0   \n",
              "3               0.0              0.0           0.0                  0.0   \n",
              "4               0.0              0.0           1.0                  1.0   \n",
              "\n",
              "  facility_pool facility_security  \n",
              "0           0.0               1.0  \n",
              "1           0.0               0.0  \n",
              "2           1.0               1.0  \n",
              "3           0.0               0.0  \n",
              "4           0.0               1.0  \n",
              "\n",
              "[5 rows x 34 columns]"
            ],
            "text/html": [
              "\n",
              "  <div id=\"df-2b52ab97-49a1-44af-ac02-a17e5fba3fb4\">\n",
              "    <div class=\"colab-df-container\">\n",
              "      <div>\n",
              "<style scoped>\n",
              "    .dataframe tbody tr th:only-of-type {\n",
              "        vertical-align: middle;\n",
              "    }\n",
              "\n",
              "    .dataframe tbody tr th {\n",
              "        vertical-align: top;\n",
              "    }\n",
              "\n",
              "    .dataframe thead th {\n",
              "        text-align: right;\n",
              "    }\n",
              "</style>\n",
              "<table border=\"1\" class=\"dataframe\">\n",
              "  <thead>\n",
              "    <tr style=\"text-align: right;\">\n",
              "      <th></th>\n",
              "      <th>project_id</th>\n",
              "      <th>name_en</th>\n",
              "      <th>propertytype_id</th>\n",
              "      <th>propertytype_name_en</th>\n",
              "      <th>price_min</th>\n",
              "      <th>developer_id</th>\n",
              "      <th>developer_name_en</th>\n",
              "      <th>latitude</th>\n",
              "      <th>longitude</th>\n",
              "      <th>neighborhood_id</th>\n",
              "      <th>...</th>\n",
              "      <th>count_parking</th>\n",
              "      <th>count_unit</th>\n",
              "      <th>count_unittype</th>\n",
              "      <th>facility_clubhouse</th>\n",
              "      <th>facility_fitness</th>\n",
              "      <th>facility_meeting</th>\n",
              "      <th>facility_park</th>\n",
              "      <th>facility_playground</th>\n",
              "      <th>facility_pool</th>\n",
              "      <th>facility_security</th>\n",
              "    </tr>\n",
              "  </thead>\n",
              "  <tbody>\n",
              "    <tr>\n",
              "      <th>0</th>\n",
              "      <td>project_4270</td>\n",
              "      <td>Paholyothin Park Condominium</td>\n",
              "      <td>2</td>\n",
              "      <td>Condo</td>\n",
              "      <td>3650000.0</td>\n",
              "      <td>developer_10510</td>\n",
              "      <td>Unknown</td>\n",
              "      <td>13.786388</td>\n",
              "      <td>100.553931</td>\n",
              "      <td>B1161</td>\n",
              "      <td>...</td>\n",
              "      <td>0</td>\n",
              "      <td>96.0</td>\n",
              "      <td>2.0</td>\n",
              "      <td>0.0</td>\n",
              "      <td>1.0</td>\n",
              "      <td>0.0</td>\n",
              "      <td>1.0</td>\n",
              "      <td>1.0</td>\n",
              "      <td>0.0</td>\n",
              "      <td>1.0</td>\n",
              "    </tr>\n",
              "    <tr>\n",
              "      <th>1</th>\n",
              "      <td>project_15158</td>\n",
              "      <td>The Chill Village</td>\n",
              "      <td>3</td>\n",
              "      <td>Townhome</td>\n",
              "      <td>2450000.0</td>\n",
              "      <td>developer_10510</td>\n",
              "      <td>Unknown</td>\n",
              "      <td>16.209059</td>\n",
              "      <td>103.288288</td>\n",
              "      <td>Unknown</td>\n",
              "      <td>...</td>\n",
              "      <td>0</td>\n",
              "      <td>125.0</td>\n",
              "      <td>1.0</td>\n",
              "      <td>0.0</td>\n",
              "      <td>0.0</td>\n",
              "      <td>0.0</td>\n",
              "      <td>0.0</td>\n",
              "      <td>0.0</td>\n",
              "      <td>0.0</td>\n",
              "      <td>0.0</td>\n",
              "    </tr>\n",
              "    <tr>\n",
              "      <th>2</th>\n",
              "      <td>project_9490</td>\n",
              "      <td>Diya Valley Sriracha</td>\n",
              "      <td>1</td>\n",
              "      <td>Detached House</td>\n",
              "      <td>2390000.0</td>\n",
              "      <td>developer_1015</td>\n",
              "      <td>Poonsin Property Co., Ltd.</td>\n",
              "      <td>13.173645</td>\n",
              "      <td>100.954876</td>\n",
              "      <td>B0752</td>\n",
              "      <td>...</td>\n",
              "      <td>0</td>\n",
              "      <td>195.0</td>\n",
              "      <td>4.0</td>\n",
              "      <td>1.0</td>\n",
              "      <td>1.0</td>\n",
              "      <td>0.0</td>\n",
              "      <td>1.0</td>\n",
              "      <td>0.0</td>\n",
              "      <td>1.0</td>\n",
              "      <td>1.0</td>\n",
              "    </tr>\n",
              "    <tr>\n",
              "      <th>3</th>\n",
              "      <td>project_13601</td>\n",
              "      <td>Baan Rungrawe</td>\n",
              "      <td>1</td>\n",
              "      <td>Detached House</td>\n",
              "      <td>2750000.0</td>\n",
              "      <td>developer_10510</td>\n",
              "      <td>Unknown</td>\n",
              "      <td>8.096150</td>\n",
              "      <td>98.309995</td>\n",
              "      <td>Unknown</td>\n",
              "      <td>...</td>\n",
              "      <td>0</td>\n",
              "      <td>32.0</td>\n",
              "      <td>2.0</td>\n",
              "      <td>0.0</td>\n",
              "      <td>0.0</td>\n",
              "      <td>0.0</td>\n",
              "      <td>0.0</td>\n",
              "      <td>0.0</td>\n",
              "      <td>0.0</td>\n",
              "      <td>0.0</td>\n",
              "    </tr>\n",
              "    <tr>\n",
              "      <th>4</th>\n",
              "      <td>project_12398</td>\n",
              "      <td>Town Plus Ladprao 101</td>\n",
              "      <td>3</td>\n",
              "      <td>Townhome</td>\n",
              "      <td>4600000.0</td>\n",
              "      <td>developer_2417</td>\n",
              "      <td>PLUS PROPERTY CO., LTD.</td>\n",
              "      <td>13.797585</td>\n",
              "      <td>100.633945</td>\n",
              "      <td>B1073</td>\n",
              "      <td>...</td>\n",
              "      <td>0</td>\n",
              "      <td>114.0</td>\n",
              "      <td>1.0</td>\n",
              "      <td>0.0</td>\n",
              "      <td>0.0</td>\n",
              "      <td>0.0</td>\n",
              "      <td>1.0</td>\n",
              "      <td>1.0</td>\n",
              "      <td>0.0</td>\n",
              "      <td>1.0</td>\n",
              "    </tr>\n",
              "  </tbody>\n",
              "</table>\n",
              "<p>5 rows × 34 columns</p>\n",
              "</div>\n",
              "      <button class=\"colab-df-convert\" onclick=\"convertToInteractive('df-2b52ab97-49a1-44af-ac02-a17e5fba3fb4')\"\n",
              "              title=\"Convert this dataframe to an interactive table.\"\n",
              "              style=\"display:none;\">\n",
              "        \n",
              "  <svg xmlns=\"http://www.w3.org/2000/svg\" height=\"24px\"viewBox=\"0 0 24 24\"\n",
              "       width=\"24px\">\n",
              "    <path d=\"M0 0h24v24H0V0z\" fill=\"none\"/>\n",
              "    <path d=\"M18.56 5.44l.94 2.06.94-2.06 2.06-.94-2.06-.94-.94-2.06-.94 2.06-2.06.94zm-11 1L8.5 8.5l.94-2.06 2.06-.94-2.06-.94L8.5 2.5l-.94 2.06-2.06.94zm10 10l.94 2.06.94-2.06 2.06-.94-2.06-.94-.94-2.06-.94 2.06-2.06.94z\"/><path d=\"M17.41 7.96l-1.37-1.37c-.4-.4-.92-.59-1.43-.59-.52 0-1.04.2-1.43.59L10.3 9.45l-7.72 7.72c-.78.78-.78 2.05 0 2.83L4 21.41c.39.39.9.59 1.41.59.51 0 1.02-.2 1.41-.59l7.78-7.78 2.81-2.81c.8-.78.8-2.07 0-2.86zM5.41 20L4 18.59l7.72-7.72 1.47 1.35L5.41 20z\"/>\n",
              "  </svg>\n",
              "      </button>\n",
              "      \n",
              "  <style>\n",
              "    .colab-df-container {\n",
              "      display:flex;\n",
              "      flex-wrap:wrap;\n",
              "      gap: 12px;\n",
              "    }\n",
              "\n",
              "    .colab-df-convert {\n",
              "      background-color: #E8F0FE;\n",
              "      border: none;\n",
              "      border-radius: 50%;\n",
              "      cursor: pointer;\n",
              "      display: none;\n",
              "      fill: #1967D2;\n",
              "      height: 32px;\n",
              "      padding: 0 0 0 0;\n",
              "      width: 32px;\n",
              "    }\n",
              "\n",
              "    .colab-df-convert:hover {\n",
              "      background-color: #E2EBFA;\n",
              "      box-shadow: 0px 1px 2px rgba(60, 64, 67, 0.3), 0px 1px 3px 1px rgba(60, 64, 67, 0.15);\n",
              "      fill: #174EA6;\n",
              "    }\n",
              "\n",
              "    [theme=dark] .colab-df-convert {\n",
              "      background-color: #3B4455;\n",
              "      fill: #D2E3FC;\n",
              "    }\n",
              "\n",
              "    [theme=dark] .colab-df-convert:hover {\n",
              "      background-color: #434B5C;\n",
              "      box-shadow: 0px 1px 3px 1px rgba(0, 0, 0, 0.15);\n",
              "      filter: drop-shadow(0px 1px 2px rgba(0, 0, 0, 0.3));\n",
              "      fill: #FFFFFF;\n",
              "    }\n",
              "  </style>\n",
              "\n",
              "      <script>\n",
              "        const buttonEl =\n",
              "          document.querySelector('#df-2b52ab97-49a1-44af-ac02-a17e5fba3fb4 button.colab-df-convert');\n",
              "        buttonEl.style.display =\n",
              "          google.colab.kernel.accessAllowed ? 'block' : 'none';\n",
              "\n",
              "        async function convertToInteractive(key) {\n",
              "          const element = document.querySelector('#df-2b52ab97-49a1-44af-ac02-a17e5fba3fb4');\n",
              "          const dataTable =\n",
              "            await google.colab.kernel.invokeFunction('convertToInteractive',\n",
              "                                                     [key], {});\n",
              "          if (!dataTable) return;\n",
              "\n",
              "          const docLinkHtml = 'Like what you see? Visit the ' +\n",
              "            '<a target=\"_blank\" href=https://colab.research.google.com/notebooks/data_table.ipynb>data table notebook</a>'\n",
              "            + ' to learn more about interactive tables.';\n",
              "          element.innerHTML = '';\n",
              "          dataTable['output_type'] = 'display_data';\n",
              "          await google.colab.output.renderOutput(dataTable, element);\n",
              "          const docLink = document.createElement('div');\n",
              "          docLink.innerHTML = docLinkHtml;\n",
              "          element.appendChild(docLink);\n",
              "        }\n",
              "      </script>\n",
              "    </div>\n",
              "  </div>\n",
              "  "
            ]
          },
          "metadata": {},
          "execution_count": 109
        }
      ]
    },
    {
      "cell_type": "markdown",
      "source": [
        "### Missing/Null Checking"
      ],
      "metadata": {
        "id": "6T6lSzDp4GHH"
      }
    },
    {
      "cell_type": "code",
      "source": [
        "opendata_project.isnull().any() # Trueมีค่าว่าง Falseไม่มีค่าว่าง"
      ],
      "metadata": {
        "id": "j_nvGo3e3F7P",
        "colab": {
          "base_uri": "https://localhost:8080/"
        },
        "outputId": "5ff16b3a-7e82-41fd-f41e-e0c503440da0"
      },
      "execution_count": 110,
      "outputs": [
        {
          "output_type": "execute_result",
          "data": {
            "text/plain": [
              "project_id                False\n",
              "name_en                   False\n",
              "propertytype_id           False\n",
              "propertytype_name_en      False\n",
              "price_min                 False\n",
              "developer_id              False\n",
              "developer_name_en         False\n",
              "latitude                  False\n",
              "longitude                 False\n",
              "neighborhood_id           False\n",
              "neighborhood_name_en      False\n",
              "subdistrict_id            False\n",
              "subdistrict_name_en       False\n",
              "subdistrict_name_th       False\n",
              "district_id               False\n",
              "district_name_en          False\n",
              "district_name_th          False\n",
              "province_id               False\n",
              "province_name_en          False\n",
              "province_name_th          False\n",
              "zipcode                   False\n",
              "count_elevator            False\n",
              "count_elevator_service    False\n",
              "count_floor               False\n",
              "count_parking             False\n",
              "count_unit                False\n",
              "count_unittype            False\n",
              "facility_clubhouse        False\n",
              "facility_fitness          False\n",
              "facility_meeting          False\n",
              "facility_park             False\n",
              "facility_playground       False\n",
              "facility_pool             False\n",
              "facility_security         False\n",
              "dtype: bool"
            ]
          },
          "metadata": {},
          "execution_count": 110
        }
      ]
    },
    {
      "cell_type": "code",
      "source": [
        "opendata_project.dtypes"
      ],
      "metadata": {
        "colab": {
          "base_uri": "https://localhost:8080/"
        },
        "id": "Ukqz6iZu-yRt",
        "outputId": "e417b5f6-8170-4483-9c10-fda4b5fd8c81"
      },
      "execution_count": 111,
      "outputs": [
        {
          "output_type": "execute_result",
          "data": {
            "text/plain": [
              "project_id                 object\n",
              "name_en                    object\n",
              "propertytype_id            object\n",
              "propertytype_name_en       object\n",
              "price_min                  object\n",
              "developer_id               object\n",
              "developer_name_en          object\n",
              "latitude                  float64\n",
              "longitude                 float64\n",
              "neighborhood_id            object\n",
              "neighborhood_name_en       object\n",
              "subdistrict_id            float64\n",
              "subdistrict_name_en        object\n",
              "subdistrict_name_th        object\n",
              "district_id               float64\n",
              "district_name_en           object\n",
              "district_name_th           object\n",
              "province_id               float64\n",
              "province_name_en           object\n",
              "province_name_th           object\n",
              "zipcode                   float64\n",
              "count_elevator             object\n",
              "count_elevator_service     object\n",
              "count_floor                object\n",
              "count_parking              object\n",
              "count_unit                 object\n",
              "count_unittype            float64\n",
              "facility_clubhouse        float64\n",
              "facility_fitness          float64\n",
              "facility_meeting          float64\n",
              "facility_park             float64\n",
              "facility_playground       float64\n",
              "facility_pool             float64\n",
              "facility_security         float64\n",
              "dtype: object"
            ]
          },
          "metadata": {},
          "execution_count": 111
        }
      ]
    },
    {
      "cell_type": "markdown",
      "source": [
        "#### ⇨ dropna"
      ],
      "metadata": {
        "id": "VZ4FFmAH5VOj"
      }
    },
    {
      "cell_type": "code",
      "source": [
        "# price_min ราคาต่ำสุดโครงการ\n",
        "print(len(opendata_project[opendata_project['price_min'].isnull()])) #we used dropna() เพราะมีrow น้อยเมื่อเทียบกับจำนวนข้อมูล\n",
        "opendata_project = opendata_project.dropna(subset=['price_min'])"
      ],
      "metadata": {
        "colab": {
          "base_uri": "https://localhost:8080/"
        },
        "id": "Ketdg5wn4qcY",
        "outputId": "da33e625-8fb6-47c3-e5b1-7d1dc6d2c7f1"
      },
      "execution_count": 112,
      "outputs": [
        {
          "output_type": "stream",
          "name": "stdout",
          "text": [
            "0\n"
          ]
        }
      ]
    },
    {
      "cell_type": "code",
      "source": [
        "# longitude \n",
        "opendata_project[opendata_project['longitude'].isnull()]"
      ],
      "metadata": {
        "colab": {
          "base_uri": "https://localhost:8080/",
          "height": 143
        },
        "id": "_4ORTDo__lQ2",
        "outputId": "b301cf5a-5740-4cef-959a-a4bd0d29d437"
      },
      "execution_count": 113,
      "outputs": [
        {
          "output_type": "execute_result",
          "data": {
            "text/plain": [
              "Empty DataFrame\n",
              "Columns: [project_id, name_en, propertytype_id, propertytype_name_en, price_min, developer_id, developer_name_en, latitude, longitude, neighborhood_id, neighborhood_name_en, subdistrict_id, subdistrict_name_en, subdistrict_name_th, district_id, district_name_en, district_name_th, province_id, province_name_en, province_name_th, zipcode, count_elevator, count_elevator_service, count_floor, count_parking, count_unit, count_unittype, facility_clubhouse, facility_fitness, facility_meeting, facility_park, facility_playground, facility_pool, facility_security]\n",
              "Index: []\n",
              "\n",
              "[0 rows x 34 columns]"
            ],
            "text/html": [
              "\n",
              "  <div id=\"df-1644975a-9136-4a06-9b23-8ebc6e8b26eb\">\n",
              "    <div class=\"colab-df-container\">\n",
              "      <div>\n",
              "<style scoped>\n",
              "    .dataframe tbody tr th:only-of-type {\n",
              "        vertical-align: middle;\n",
              "    }\n",
              "\n",
              "    .dataframe tbody tr th {\n",
              "        vertical-align: top;\n",
              "    }\n",
              "\n",
              "    .dataframe thead th {\n",
              "        text-align: right;\n",
              "    }\n",
              "</style>\n",
              "<table border=\"1\" class=\"dataframe\">\n",
              "  <thead>\n",
              "    <tr style=\"text-align: right;\">\n",
              "      <th></th>\n",
              "      <th>project_id</th>\n",
              "      <th>name_en</th>\n",
              "      <th>propertytype_id</th>\n",
              "      <th>propertytype_name_en</th>\n",
              "      <th>price_min</th>\n",
              "      <th>developer_id</th>\n",
              "      <th>developer_name_en</th>\n",
              "      <th>latitude</th>\n",
              "      <th>longitude</th>\n",
              "      <th>neighborhood_id</th>\n",
              "      <th>...</th>\n",
              "      <th>count_parking</th>\n",
              "      <th>count_unit</th>\n",
              "      <th>count_unittype</th>\n",
              "      <th>facility_clubhouse</th>\n",
              "      <th>facility_fitness</th>\n",
              "      <th>facility_meeting</th>\n",
              "      <th>facility_park</th>\n",
              "      <th>facility_playground</th>\n",
              "      <th>facility_pool</th>\n",
              "      <th>facility_security</th>\n",
              "    </tr>\n",
              "  </thead>\n",
              "  <tbody>\n",
              "  </tbody>\n",
              "</table>\n",
              "<p>0 rows × 34 columns</p>\n",
              "</div>\n",
              "      <button class=\"colab-df-convert\" onclick=\"convertToInteractive('df-1644975a-9136-4a06-9b23-8ebc6e8b26eb')\"\n",
              "              title=\"Convert this dataframe to an interactive table.\"\n",
              "              style=\"display:none;\">\n",
              "        \n",
              "  <svg xmlns=\"http://www.w3.org/2000/svg\" height=\"24px\"viewBox=\"0 0 24 24\"\n",
              "       width=\"24px\">\n",
              "    <path d=\"M0 0h24v24H0V0z\" fill=\"none\"/>\n",
              "    <path d=\"M18.56 5.44l.94 2.06.94-2.06 2.06-.94-2.06-.94-.94-2.06-.94 2.06-2.06.94zm-11 1L8.5 8.5l.94-2.06 2.06-.94-2.06-.94L8.5 2.5l-.94 2.06-2.06.94zm10 10l.94 2.06.94-2.06 2.06-.94-2.06-.94-.94-2.06-.94 2.06-2.06.94z\"/><path d=\"M17.41 7.96l-1.37-1.37c-.4-.4-.92-.59-1.43-.59-.52 0-1.04.2-1.43.59L10.3 9.45l-7.72 7.72c-.78.78-.78 2.05 0 2.83L4 21.41c.39.39.9.59 1.41.59.51 0 1.02-.2 1.41-.59l7.78-7.78 2.81-2.81c.8-.78.8-2.07 0-2.86zM5.41 20L4 18.59l7.72-7.72 1.47 1.35L5.41 20z\"/>\n",
              "  </svg>\n",
              "      </button>\n",
              "      \n",
              "  <style>\n",
              "    .colab-df-container {\n",
              "      display:flex;\n",
              "      flex-wrap:wrap;\n",
              "      gap: 12px;\n",
              "    }\n",
              "\n",
              "    .colab-df-convert {\n",
              "      background-color: #E8F0FE;\n",
              "      border: none;\n",
              "      border-radius: 50%;\n",
              "      cursor: pointer;\n",
              "      display: none;\n",
              "      fill: #1967D2;\n",
              "      height: 32px;\n",
              "      padding: 0 0 0 0;\n",
              "      width: 32px;\n",
              "    }\n",
              "\n",
              "    .colab-df-convert:hover {\n",
              "      background-color: #E2EBFA;\n",
              "      box-shadow: 0px 1px 2px rgba(60, 64, 67, 0.3), 0px 1px 3px 1px rgba(60, 64, 67, 0.15);\n",
              "      fill: #174EA6;\n",
              "    }\n",
              "\n",
              "    [theme=dark] .colab-df-convert {\n",
              "      background-color: #3B4455;\n",
              "      fill: #D2E3FC;\n",
              "    }\n",
              "\n",
              "    [theme=dark] .colab-df-convert:hover {\n",
              "      background-color: #434B5C;\n",
              "      box-shadow: 0px 1px 3px 1px rgba(0, 0, 0, 0.15);\n",
              "      filter: drop-shadow(0px 1px 2px rgba(0, 0, 0, 0.3));\n",
              "      fill: #FFFFFF;\n",
              "    }\n",
              "  </style>\n",
              "\n",
              "      <script>\n",
              "        const buttonEl =\n",
              "          document.querySelector('#df-1644975a-9136-4a06-9b23-8ebc6e8b26eb button.colab-df-convert');\n",
              "        buttonEl.style.display =\n",
              "          google.colab.kernel.accessAllowed ? 'block' : 'none';\n",
              "\n",
              "        async function convertToInteractive(key) {\n",
              "          const element = document.querySelector('#df-1644975a-9136-4a06-9b23-8ebc6e8b26eb');\n",
              "          const dataTable =\n",
              "            await google.colab.kernel.invokeFunction('convertToInteractive',\n",
              "                                                     [key], {});\n",
              "          if (!dataTable) return;\n",
              "\n",
              "          const docLinkHtml = 'Like what you see? Visit the ' +\n",
              "            '<a target=\"_blank\" href=https://colab.research.google.com/notebooks/data_table.ipynb>data table notebook</a>'\n",
              "            + ' to learn more about interactive tables.';\n",
              "          element.innerHTML = '';\n",
              "          dataTable['output_type'] = 'display_data';\n",
              "          await google.colab.output.renderOutput(dataTable, element);\n",
              "          const docLink = document.createElement('div');\n",
              "          docLink.innerHTML = docLinkHtml;\n",
              "          element.appendChild(docLink);\n",
              "        }\n",
              "      </script>\n",
              "    </div>\n",
              "  </div>\n",
              "  "
            ]
          },
          "metadata": {},
          "execution_count": 113
        }
      ]
    },
    {
      "cell_type": "code",
      "source": [
        "opendata_project = opendata_project.dropna(subset=['longitude'])"
      ],
      "metadata": {
        "id": "ZsRLWGT9AZ0X"
      },
      "execution_count": 114,
      "outputs": []
    },
    {
      "cell_type": "code",
      "source": [
        "# subdistrict_id รหัสตำบล\n",
        "print(len(opendata_project[opendata_project['subdistrict_id'].isnull()])) \n",
        "opendata_project = opendata_project.dropna(subset=['subdistrict_id'])"
      ],
      "metadata": {
        "colab": {
          "base_uri": "https://localhost:8080/"
        },
        "id": "nvBeQd2NKJYX",
        "outputId": "253d1bf5-a986-4b07-8ac1-d23ac0b89bb0"
      },
      "execution_count": 115,
      "outputs": [
        {
          "output_type": "stream",
          "name": "stdout",
          "text": [
            "0\n"
          ]
        }
      ]
    },
    {
      "cell_type": "code",
      "source": [
        "# zipcode รหัสไปรษณีย์\n",
        "print(len(opendata_project[opendata_project['zipcode'].isnull()])) \n",
        "opendata_project = opendata_project.dropna(subset=['zipcode'])"
      ],
      "metadata": {
        "colab": {
          "base_uri": "https://localhost:8080/"
        },
        "id": "dH8vzDtEhMCl",
        "outputId": "c575110a-5a2f-4c7a-c4df-91c7c58c408a"
      },
      "execution_count": 116,
      "outputs": [
        {
          "output_type": "stream",
          "name": "stdout",
          "text": [
            "0\n"
          ]
        }
      ]
    },
    {
      "cell_type": "markdown",
      "source": [
        "#### ⇨ fill Null with real world Knownlege"
      ],
      "metadata": {
        "id": "UzOlHt6i6ZK_"
      }
    },
    {
      "cell_type": "code",
      "source": [
        "#fill NA with Text\n",
        "opendata_project['developer_name_en'] = opendata_project['developer_name_en'].fillna('Unknown') # มีแต่ไม่รู้ว่าคืออะไร\n",
        "opendata_project['neighborhood_id'] = opendata_project['neighborhood_id'].fillna('Unknown') #รหัสย่าน \n",
        "opendata_project['neighborhood_name_en'] = opendata_project['neighborhood_name_en'].fillna('Unknown') "
      ],
      "metadata": {
        "id": "eU8U1MY5zy-4"
      },
      "execution_count": 117,
      "outputs": []
    },
    {
      "cell_type": "code",
      "source": [
        "# จำนวนลิฟต์และชั้น\n",
        "opendata_project[['count_floor', 'count_unit','count_unittype']]  = opendata_project[['count_floor', 'count_unit','count_unittype']].fillna(1) #จำนวนชั้นของตัวโครงการ, จำนวนยูนิตในโครงการ, จำนวนแบบบ้านในโครงการ ถ้าเขาไม่กรอกมันเป็นไปไม่ได้ที่จะมี0ชั้น จึงแทนเป็น1\n",
        "opendata_project[['count_elevator','count_floor','count_parking', 'count_elevator_service']] = opendata_project[['count_elevator','count_floor','count_parking', 'count_elevator_service']].fillna(0) # เช่นแอร์ อาจจะไม่มีก็ได้\n",
        "# สิ่งอำนวยความสะดวก\n",
        "opendata_project[['facility_clubhouse','facility_fitness','facility_meeting','facility_park','facility_playground','facility_pool','facility_security']] = opendata_project[['facility_clubhouse','facility_fitness','facility_meeting','facility_park','facility_playground','facility_pool','facility_security']].fillna(0) "
      ],
      "metadata": {
        "id": "fVmCO4ikDwS-"
      },
      "execution_count": 118,
      "outputs": []
    },
    {
      "cell_type": "code",
      "source": [
        "opendata_project.isnull().any()"
      ],
      "metadata": {
        "colab": {
          "base_uri": "https://localhost:8080/"
        },
        "id": "3QVJnP3bYca9",
        "outputId": "dbb32f58-2e06-4a47-be6d-b11d65626151"
      },
      "execution_count": 119,
      "outputs": [
        {
          "output_type": "execute_result",
          "data": {
            "text/plain": [
              "project_id                False\n",
              "name_en                   False\n",
              "propertytype_id           False\n",
              "propertytype_name_en      False\n",
              "price_min                 False\n",
              "developer_id              False\n",
              "developer_name_en         False\n",
              "latitude                  False\n",
              "longitude                 False\n",
              "neighborhood_id           False\n",
              "neighborhood_name_en      False\n",
              "subdistrict_id            False\n",
              "subdistrict_name_en       False\n",
              "subdistrict_name_th       False\n",
              "district_id               False\n",
              "district_name_en          False\n",
              "district_name_th          False\n",
              "province_id               False\n",
              "province_name_en          False\n",
              "province_name_th          False\n",
              "zipcode                   False\n",
              "count_elevator            False\n",
              "count_elevator_service    False\n",
              "count_floor               False\n",
              "count_parking             False\n",
              "count_unit                False\n",
              "count_unittype            False\n",
              "facility_clubhouse        False\n",
              "facility_fitness          False\n",
              "facility_meeting          False\n",
              "facility_park             False\n",
              "facility_playground       False\n",
              "facility_pool             False\n",
              "facility_security         False\n",
              "dtype: bool"
            ]
          },
          "metadata": {},
          "execution_count": 119
        }
      ]
    },
    {
      "cell_type": "code",
      "source": [
        "# save data\n",
        "opendata_project.to_csv('opendata_project_clean.csv', index=False)"
      ],
      "metadata": {
        "id": "iXmh3OYxzZhV"
      },
      "execution_count": 120,
      "outputs": []
    },
    {
      "cell_type": "markdown",
      "source": [
        "## 📑opendata_unittype table"
      ],
      "metadata": {
        "id": "jN29iEhxjqC7"
      }
    },
    {
      "cell_type": "code",
      "source": [
        "opendata_unittype = pd.read_csv('opendata_unittype.csv')\n",
        "print(opendata_unittype.shape) \n",
        "opendata_unittype.head(3)"
      ],
      "metadata": {
        "colab": {
          "base_uri": "https://localhost:8080/",
          "height": 307
        },
        "id": "mVIMkgAqi9hA",
        "outputId": "88126258-6503-4200-f38c-afd4ba5bc73a"
      },
      "execution_count": 121,
      "outputs": [
        {
          "output_type": "stream",
          "name": "stdout",
          "text": [
            "(43385, 28)\n"
          ]
        },
        {
          "output_type": "execute_result",
          "data": {
            "text/plain": [
              "   row_number     unittype_id     project_id              name_th  \\\n",
              "0        2032  unittype_19988   project_7861            1 Bedroom   \n",
              "1       34437  unittype_37037  project_15918  บ้านเดี่ยวชั้นเดียว   \n",
              "2       29002  unittype_18897   project_6287               Studio   \n",
              "\n",
              "   propertytype_id propertytype_name_en propertytype_name_th  \\\n",
              "0                2                Condo                คอนโด   \n",
              "1                1       Detached House                 บ้าน   \n",
              "2                2                Condo                คอนโด   \n",
              "\n",
              "   area_total_min_wa  area_usable_min  price_min  ...  count_room_kitchen  \\\n",
              "0                NaN             31.0  3002000.0  ...                 NaN   \n",
              "1                NaN            480.0  1700000.0  ...                 NaN   \n",
              "2                NaN             27.0   400000.0  ...                 NaN   \n",
              "\n",
              "   count_room_living  count_room_maid  count_room_storage  count_room_utility  \\\n",
              "0                NaN              NaN                 NaN                 NaN   \n",
              "1                NaN              NaN                 NaN                 NaN   \n",
              "2                NaN              NaN                 NaN                 NaN   \n",
              "\n",
              "          date_created         date_updated  source  \\\n",
              "0  2022-06-16 14:30:02  2022-06-16 14:15:26  baania   \n",
              "1  2020-12-04 10:45:20  2020-10-14 22:19:25  baania   \n",
              "2  2021-11-12 13:33:39  2021-07-30 12:49:12  baania   \n",
              "\n",
              "                                        url_unittype         day  \n",
              "0  https://baania.com/th/project/ไลฟ์-รัชดาภิเษก-...  2022-09-30  \n",
              "1  https://baania.com/th/project/ธนาโฮม-อุดรธานี-...  2022-09-30  \n",
              "2  https://baania.com/th/project/ธนพล-คอนโดมิเนีย...  2022-09-30  \n",
              "\n",
              "[3 rows x 28 columns]"
            ],
            "text/html": [
              "\n",
              "  <div id=\"df-34ef6fd0-2223-48b5-9c9c-5403d8d6d5e6\">\n",
              "    <div class=\"colab-df-container\">\n",
              "      <div>\n",
              "<style scoped>\n",
              "    .dataframe tbody tr th:only-of-type {\n",
              "        vertical-align: middle;\n",
              "    }\n",
              "\n",
              "    .dataframe tbody tr th {\n",
              "        vertical-align: top;\n",
              "    }\n",
              "\n",
              "    .dataframe thead th {\n",
              "        text-align: right;\n",
              "    }\n",
              "</style>\n",
              "<table border=\"1\" class=\"dataframe\">\n",
              "  <thead>\n",
              "    <tr style=\"text-align: right;\">\n",
              "      <th></th>\n",
              "      <th>row_number</th>\n",
              "      <th>unittype_id</th>\n",
              "      <th>project_id</th>\n",
              "      <th>name_th</th>\n",
              "      <th>propertytype_id</th>\n",
              "      <th>propertytype_name_en</th>\n",
              "      <th>propertytype_name_th</th>\n",
              "      <th>area_total_min_wa</th>\n",
              "      <th>area_usable_min</th>\n",
              "      <th>price_min</th>\n",
              "      <th>...</th>\n",
              "      <th>count_room_kitchen</th>\n",
              "      <th>count_room_living</th>\n",
              "      <th>count_room_maid</th>\n",
              "      <th>count_room_storage</th>\n",
              "      <th>count_room_utility</th>\n",
              "      <th>date_created</th>\n",
              "      <th>date_updated</th>\n",
              "      <th>source</th>\n",
              "      <th>url_unittype</th>\n",
              "      <th>day</th>\n",
              "    </tr>\n",
              "  </thead>\n",
              "  <tbody>\n",
              "    <tr>\n",
              "      <th>0</th>\n",
              "      <td>2032</td>\n",
              "      <td>unittype_19988</td>\n",
              "      <td>project_7861</td>\n",
              "      <td>1 Bedroom</td>\n",
              "      <td>2</td>\n",
              "      <td>Condo</td>\n",
              "      <td>คอนโด</td>\n",
              "      <td>NaN</td>\n",
              "      <td>31.0</td>\n",
              "      <td>3002000.0</td>\n",
              "      <td>...</td>\n",
              "      <td>NaN</td>\n",
              "      <td>NaN</td>\n",
              "      <td>NaN</td>\n",
              "      <td>NaN</td>\n",
              "      <td>NaN</td>\n",
              "      <td>2022-06-16 14:30:02</td>\n",
              "      <td>2022-06-16 14:15:26</td>\n",
              "      <td>baania</td>\n",
              "      <td>https://baania.com/th/project/ไลฟ์-รัชดาภิเษก-...</td>\n",
              "      <td>2022-09-30</td>\n",
              "    </tr>\n",
              "    <tr>\n",
              "      <th>1</th>\n",
              "      <td>34437</td>\n",
              "      <td>unittype_37037</td>\n",
              "      <td>project_15918</td>\n",
              "      <td>บ้านเดี่ยวชั้นเดียว</td>\n",
              "      <td>1</td>\n",
              "      <td>Detached House</td>\n",
              "      <td>บ้าน</td>\n",
              "      <td>NaN</td>\n",
              "      <td>480.0</td>\n",
              "      <td>1700000.0</td>\n",
              "      <td>...</td>\n",
              "      <td>NaN</td>\n",
              "      <td>NaN</td>\n",
              "      <td>NaN</td>\n",
              "      <td>NaN</td>\n",
              "      <td>NaN</td>\n",
              "      <td>2020-12-04 10:45:20</td>\n",
              "      <td>2020-10-14 22:19:25</td>\n",
              "      <td>baania</td>\n",
              "      <td>https://baania.com/th/project/ธนาโฮม-อุดรธานี-...</td>\n",
              "      <td>2022-09-30</td>\n",
              "    </tr>\n",
              "    <tr>\n",
              "      <th>2</th>\n",
              "      <td>29002</td>\n",
              "      <td>unittype_18897</td>\n",
              "      <td>project_6287</td>\n",
              "      <td>Studio</td>\n",
              "      <td>2</td>\n",
              "      <td>Condo</td>\n",
              "      <td>คอนโด</td>\n",
              "      <td>NaN</td>\n",
              "      <td>27.0</td>\n",
              "      <td>400000.0</td>\n",
              "      <td>...</td>\n",
              "      <td>NaN</td>\n",
              "      <td>NaN</td>\n",
              "      <td>NaN</td>\n",
              "      <td>NaN</td>\n",
              "      <td>NaN</td>\n",
              "      <td>2021-11-12 13:33:39</td>\n",
              "      <td>2021-07-30 12:49:12</td>\n",
              "      <td>baania</td>\n",
              "      <td>https://baania.com/th/project/ธนพล-คอนโดมิเนีย...</td>\n",
              "      <td>2022-09-30</td>\n",
              "    </tr>\n",
              "  </tbody>\n",
              "</table>\n",
              "<p>3 rows × 28 columns</p>\n",
              "</div>\n",
              "      <button class=\"colab-df-convert\" onclick=\"convertToInteractive('df-34ef6fd0-2223-48b5-9c9c-5403d8d6d5e6')\"\n",
              "              title=\"Convert this dataframe to an interactive table.\"\n",
              "              style=\"display:none;\">\n",
              "        \n",
              "  <svg xmlns=\"http://www.w3.org/2000/svg\" height=\"24px\"viewBox=\"0 0 24 24\"\n",
              "       width=\"24px\">\n",
              "    <path d=\"M0 0h24v24H0V0z\" fill=\"none\"/>\n",
              "    <path d=\"M18.56 5.44l.94 2.06.94-2.06 2.06-.94-2.06-.94-.94-2.06-.94 2.06-2.06.94zm-11 1L8.5 8.5l.94-2.06 2.06-.94-2.06-.94L8.5 2.5l-.94 2.06-2.06.94zm10 10l.94 2.06.94-2.06 2.06-.94-2.06-.94-.94-2.06-.94 2.06-2.06.94z\"/><path d=\"M17.41 7.96l-1.37-1.37c-.4-.4-.92-.59-1.43-.59-.52 0-1.04.2-1.43.59L10.3 9.45l-7.72 7.72c-.78.78-.78 2.05 0 2.83L4 21.41c.39.39.9.59 1.41.59.51 0 1.02-.2 1.41-.59l7.78-7.78 2.81-2.81c.8-.78.8-2.07 0-2.86zM5.41 20L4 18.59l7.72-7.72 1.47 1.35L5.41 20z\"/>\n",
              "  </svg>\n",
              "      </button>\n",
              "      \n",
              "  <style>\n",
              "    .colab-df-container {\n",
              "      display:flex;\n",
              "      flex-wrap:wrap;\n",
              "      gap: 12px;\n",
              "    }\n",
              "\n",
              "    .colab-df-convert {\n",
              "      background-color: #E8F0FE;\n",
              "      border: none;\n",
              "      border-radius: 50%;\n",
              "      cursor: pointer;\n",
              "      display: none;\n",
              "      fill: #1967D2;\n",
              "      height: 32px;\n",
              "      padding: 0 0 0 0;\n",
              "      width: 32px;\n",
              "    }\n",
              "\n",
              "    .colab-df-convert:hover {\n",
              "      background-color: #E2EBFA;\n",
              "      box-shadow: 0px 1px 2px rgba(60, 64, 67, 0.3), 0px 1px 3px 1px rgba(60, 64, 67, 0.15);\n",
              "      fill: #174EA6;\n",
              "    }\n",
              "\n",
              "    [theme=dark] .colab-df-convert {\n",
              "      background-color: #3B4455;\n",
              "      fill: #D2E3FC;\n",
              "    }\n",
              "\n",
              "    [theme=dark] .colab-df-convert:hover {\n",
              "      background-color: #434B5C;\n",
              "      box-shadow: 0px 1px 3px 1px rgba(0, 0, 0, 0.15);\n",
              "      filter: drop-shadow(0px 1px 2px rgba(0, 0, 0, 0.3));\n",
              "      fill: #FFFFFF;\n",
              "    }\n",
              "  </style>\n",
              "\n",
              "      <script>\n",
              "        const buttonEl =\n",
              "          document.querySelector('#df-34ef6fd0-2223-48b5-9c9c-5403d8d6d5e6 button.colab-df-convert');\n",
              "        buttonEl.style.display =\n",
              "          google.colab.kernel.accessAllowed ? 'block' : 'none';\n",
              "\n",
              "        async function convertToInteractive(key) {\n",
              "          const element = document.querySelector('#df-34ef6fd0-2223-48b5-9c9c-5403d8d6d5e6');\n",
              "          const dataTable =\n",
              "            await google.colab.kernel.invokeFunction('convertToInteractive',\n",
              "                                                     [key], {});\n",
              "          if (!dataTable) return;\n",
              "\n",
              "          const docLinkHtml = 'Like what you see? Visit the ' +\n",
              "            '<a target=\"_blank\" href=https://colab.research.google.com/notebooks/data_table.ipynb>data table notebook</a>'\n",
              "            + ' to learn more about interactive tables.';\n",
              "          element.innerHTML = '';\n",
              "          dataTable['output_type'] = 'display_data';\n",
              "          await google.colab.output.renderOutput(dataTable, element);\n",
              "          const docLink = document.createElement('div');\n",
              "          docLink.innerHTML = docLinkHtml;\n",
              "          element.appendChild(docLink);\n",
              "        }\n",
              "      </script>\n",
              "    </div>\n",
              "  </div>\n",
              "  "
            ]
          },
          "metadata": {},
          "execution_count": 121
        }
      ]
    },
    {
      "cell_type": "markdown",
      "source": [
        "### Select columns"
      ],
      "metadata": {
        "id": "jEuneTpulDLV"
      }
    },
    {
      "cell_type": "code",
      "source": [
        "opendata_unittype.columns"
      ],
      "metadata": {
        "colab": {
          "base_uri": "https://localhost:8080/"
        },
        "id": "q82XnuJhj3zh",
        "outputId": "c86292b5-d5b1-4aa1-da73-823f37270d01"
      },
      "execution_count": 122,
      "outputs": [
        {
          "output_type": "execute_result",
          "data": {
            "text/plain": [
              "Index(['row_number', 'unittype_id', 'project_id', 'name_th', 'propertytype_id',\n",
              "       'propertytype_name_en', 'propertytype_name_th', 'area_total_min_wa',\n",
              "       'area_usable_min', 'price_min', 'count_airconditioner',\n",
              "       'count_elevator', 'count_floor_internal', 'count_parking',\n",
              "       'count_room_bath', 'count_room_bed', 'count_room_dinning',\n",
              "       'count_room_guest', 'count_room_kitchen', 'count_room_living',\n",
              "       'count_room_maid', 'count_room_storage', 'count_room_utility',\n",
              "       'date_created', 'date_updated', 'source', 'url_unittype', 'day'],\n",
              "      dtype='object')"
            ]
          },
          "metadata": {},
          "execution_count": 122
        }
      ]
    },
    {
      "cell_type": "code",
      "source": [
        "opendata_unittype = opendata_unittype[['unittype_id', 'project_id', 'name_th', 'propertytype_id',\n",
        "       'propertytype_name_en', 'propertytype_name_th', 'count_airconditioner',\n",
        "       'count_elevator', 'count_floor_internal', 'count_parking',\n",
        "       'count_room_bath', 'count_room_bed', 'count_room_dinning',\n",
        "       'count_room_guest', 'count_room_kitchen', 'count_room_living',\n",
        "       'count_room_maid', 'count_room_storage', 'count_room_utility']]\n",
        "opendata_unittype.head()"
      ],
      "metadata": {
        "colab": {
          "base_uri": "https://localhost:8080/",
          "height": 339
        },
        "id": "G7BqMr2rlRfU",
        "outputId": "4d600457-11e6-4762-c29e-6f70a33ad449"
      },
      "execution_count": 123,
      "outputs": [
        {
          "output_type": "execute_result",
          "data": {
            "text/plain": [
              "      unittype_id     project_id              name_th  propertytype_id  \\\n",
              "0  unittype_19988   project_7861            1 Bedroom                2   \n",
              "1  unittype_37037  project_15918  บ้านเดี่ยวชั้นเดียว                1   \n",
              "2  unittype_18897   project_6287               Studio                2   \n",
              "3  unittype_39281  project_17150  บ้านเดี่ยวชั้นเดียว                1   \n",
              "4  unittype_14987   project_4759       Studio Floor 5                2   \n",
              "\n",
              "  propertytype_name_en propertytype_name_th  count_airconditioner  \\\n",
              "0                Condo                คอนโด                   NaN   \n",
              "1       Detached House                 บ้าน                   NaN   \n",
              "2                Condo                คอนโด                   NaN   \n",
              "3       Detached House                 บ้าน                   NaN   \n",
              "4                Condo                คอนโด                   NaN   \n",
              "\n",
              "   count_elevator  count_floor_internal  count_parking  count_room_bath  \\\n",
              "0             NaN                   NaN            NaN              1.0   \n",
              "1             NaN                   1.0            1.0              2.0   \n",
              "2             NaN                   NaN            NaN              1.0   \n",
              "3             NaN                   1.0            1.0              2.0   \n",
              "4             NaN                   NaN            NaN              1.0   \n",
              "\n",
              "   count_room_bed  count_room_dinning  count_room_guest  count_room_kitchen  \\\n",
              "0             1.0                 NaN               NaN                 NaN   \n",
              "1             2.0                 NaN               NaN                 NaN   \n",
              "2             0.0                 NaN               NaN                 NaN   \n",
              "3             2.0                 NaN               NaN                 NaN   \n",
              "4             0.0                 NaN               NaN                 NaN   \n",
              "\n",
              "   count_room_living  count_room_maid  count_room_storage  count_room_utility  \n",
              "0                NaN              NaN                 NaN                 NaN  \n",
              "1                NaN              NaN                 NaN                 NaN  \n",
              "2                NaN              NaN                 NaN                 NaN  \n",
              "3                NaN              NaN                 NaN                 NaN  \n",
              "4                NaN              NaN                 NaN                 NaN  "
            ],
            "text/html": [
              "\n",
              "  <div id=\"df-03f035a4-7098-48e6-a25a-8b2f2e5df445\">\n",
              "    <div class=\"colab-df-container\">\n",
              "      <div>\n",
              "<style scoped>\n",
              "    .dataframe tbody tr th:only-of-type {\n",
              "        vertical-align: middle;\n",
              "    }\n",
              "\n",
              "    .dataframe tbody tr th {\n",
              "        vertical-align: top;\n",
              "    }\n",
              "\n",
              "    .dataframe thead th {\n",
              "        text-align: right;\n",
              "    }\n",
              "</style>\n",
              "<table border=\"1\" class=\"dataframe\">\n",
              "  <thead>\n",
              "    <tr style=\"text-align: right;\">\n",
              "      <th></th>\n",
              "      <th>unittype_id</th>\n",
              "      <th>project_id</th>\n",
              "      <th>name_th</th>\n",
              "      <th>propertytype_id</th>\n",
              "      <th>propertytype_name_en</th>\n",
              "      <th>propertytype_name_th</th>\n",
              "      <th>count_airconditioner</th>\n",
              "      <th>count_elevator</th>\n",
              "      <th>count_floor_internal</th>\n",
              "      <th>count_parking</th>\n",
              "      <th>count_room_bath</th>\n",
              "      <th>count_room_bed</th>\n",
              "      <th>count_room_dinning</th>\n",
              "      <th>count_room_guest</th>\n",
              "      <th>count_room_kitchen</th>\n",
              "      <th>count_room_living</th>\n",
              "      <th>count_room_maid</th>\n",
              "      <th>count_room_storage</th>\n",
              "      <th>count_room_utility</th>\n",
              "    </tr>\n",
              "  </thead>\n",
              "  <tbody>\n",
              "    <tr>\n",
              "      <th>0</th>\n",
              "      <td>unittype_19988</td>\n",
              "      <td>project_7861</td>\n",
              "      <td>1 Bedroom</td>\n",
              "      <td>2</td>\n",
              "      <td>Condo</td>\n",
              "      <td>คอนโด</td>\n",
              "      <td>NaN</td>\n",
              "      <td>NaN</td>\n",
              "      <td>NaN</td>\n",
              "      <td>NaN</td>\n",
              "      <td>1.0</td>\n",
              "      <td>1.0</td>\n",
              "      <td>NaN</td>\n",
              "      <td>NaN</td>\n",
              "      <td>NaN</td>\n",
              "      <td>NaN</td>\n",
              "      <td>NaN</td>\n",
              "      <td>NaN</td>\n",
              "      <td>NaN</td>\n",
              "    </tr>\n",
              "    <tr>\n",
              "      <th>1</th>\n",
              "      <td>unittype_37037</td>\n",
              "      <td>project_15918</td>\n",
              "      <td>บ้านเดี่ยวชั้นเดียว</td>\n",
              "      <td>1</td>\n",
              "      <td>Detached House</td>\n",
              "      <td>บ้าน</td>\n",
              "      <td>NaN</td>\n",
              "      <td>NaN</td>\n",
              "      <td>1.0</td>\n",
              "      <td>1.0</td>\n",
              "      <td>2.0</td>\n",
              "      <td>2.0</td>\n",
              "      <td>NaN</td>\n",
              "      <td>NaN</td>\n",
              "      <td>NaN</td>\n",
              "      <td>NaN</td>\n",
              "      <td>NaN</td>\n",
              "      <td>NaN</td>\n",
              "      <td>NaN</td>\n",
              "    </tr>\n",
              "    <tr>\n",
              "      <th>2</th>\n",
              "      <td>unittype_18897</td>\n",
              "      <td>project_6287</td>\n",
              "      <td>Studio</td>\n",
              "      <td>2</td>\n",
              "      <td>Condo</td>\n",
              "      <td>คอนโด</td>\n",
              "      <td>NaN</td>\n",
              "      <td>NaN</td>\n",
              "      <td>NaN</td>\n",
              "      <td>NaN</td>\n",
              "      <td>1.0</td>\n",
              "      <td>0.0</td>\n",
              "      <td>NaN</td>\n",
              "      <td>NaN</td>\n",
              "      <td>NaN</td>\n",
              "      <td>NaN</td>\n",
              "      <td>NaN</td>\n",
              "      <td>NaN</td>\n",
              "      <td>NaN</td>\n",
              "    </tr>\n",
              "    <tr>\n",
              "      <th>3</th>\n",
              "      <td>unittype_39281</td>\n",
              "      <td>project_17150</td>\n",
              "      <td>บ้านเดี่ยวชั้นเดียว</td>\n",
              "      <td>1</td>\n",
              "      <td>Detached House</td>\n",
              "      <td>บ้าน</td>\n",
              "      <td>NaN</td>\n",
              "      <td>NaN</td>\n",
              "      <td>1.0</td>\n",
              "      <td>1.0</td>\n",
              "      <td>2.0</td>\n",
              "      <td>2.0</td>\n",
              "      <td>NaN</td>\n",
              "      <td>NaN</td>\n",
              "      <td>NaN</td>\n",
              "      <td>NaN</td>\n",
              "      <td>NaN</td>\n",
              "      <td>NaN</td>\n",
              "      <td>NaN</td>\n",
              "    </tr>\n",
              "    <tr>\n",
              "      <th>4</th>\n",
              "      <td>unittype_14987</td>\n",
              "      <td>project_4759</td>\n",
              "      <td>Studio Floor 5</td>\n",
              "      <td>2</td>\n",
              "      <td>Condo</td>\n",
              "      <td>คอนโด</td>\n",
              "      <td>NaN</td>\n",
              "      <td>NaN</td>\n",
              "      <td>NaN</td>\n",
              "      <td>NaN</td>\n",
              "      <td>1.0</td>\n",
              "      <td>0.0</td>\n",
              "      <td>NaN</td>\n",
              "      <td>NaN</td>\n",
              "      <td>NaN</td>\n",
              "      <td>NaN</td>\n",
              "      <td>NaN</td>\n",
              "      <td>NaN</td>\n",
              "      <td>NaN</td>\n",
              "    </tr>\n",
              "  </tbody>\n",
              "</table>\n",
              "</div>\n",
              "      <button class=\"colab-df-convert\" onclick=\"convertToInteractive('df-03f035a4-7098-48e6-a25a-8b2f2e5df445')\"\n",
              "              title=\"Convert this dataframe to an interactive table.\"\n",
              "              style=\"display:none;\">\n",
              "        \n",
              "  <svg xmlns=\"http://www.w3.org/2000/svg\" height=\"24px\"viewBox=\"0 0 24 24\"\n",
              "       width=\"24px\">\n",
              "    <path d=\"M0 0h24v24H0V0z\" fill=\"none\"/>\n",
              "    <path d=\"M18.56 5.44l.94 2.06.94-2.06 2.06-.94-2.06-.94-.94-2.06-.94 2.06-2.06.94zm-11 1L8.5 8.5l.94-2.06 2.06-.94-2.06-.94L8.5 2.5l-.94 2.06-2.06.94zm10 10l.94 2.06.94-2.06 2.06-.94-2.06-.94-.94-2.06-.94 2.06-2.06.94z\"/><path d=\"M17.41 7.96l-1.37-1.37c-.4-.4-.92-.59-1.43-.59-.52 0-1.04.2-1.43.59L10.3 9.45l-7.72 7.72c-.78.78-.78 2.05 0 2.83L4 21.41c.39.39.9.59 1.41.59.51 0 1.02-.2 1.41-.59l7.78-7.78 2.81-2.81c.8-.78.8-2.07 0-2.86zM5.41 20L4 18.59l7.72-7.72 1.47 1.35L5.41 20z\"/>\n",
              "  </svg>\n",
              "      </button>\n",
              "      \n",
              "  <style>\n",
              "    .colab-df-container {\n",
              "      display:flex;\n",
              "      flex-wrap:wrap;\n",
              "      gap: 12px;\n",
              "    }\n",
              "\n",
              "    .colab-df-convert {\n",
              "      background-color: #E8F0FE;\n",
              "      border: none;\n",
              "      border-radius: 50%;\n",
              "      cursor: pointer;\n",
              "      display: none;\n",
              "      fill: #1967D2;\n",
              "      height: 32px;\n",
              "      padding: 0 0 0 0;\n",
              "      width: 32px;\n",
              "    }\n",
              "\n",
              "    .colab-df-convert:hover {\n",
              "      background-color: #E2EBFA;\n",
              "      box-shadow: 0px 1px 2px rgba(60, 64, 67, 0.3), 0px 1px 3px 1px rgba(60, 64, 67, 0.15);\n",
              "      fill: #174EA6;\n",
              "    }\n",
              "\n",
              "    [theme=dark] .colab-df-convert {\n",
              "      background-color: #3B4455;\n",
              "      fill: #D2E3FC;\n",
              "    }\n",
              "\n",
              "    [theme=dark] .colab-df-convert:hover {\n",
              "      background-color: #434B5C;\n",
              "      box-shadow: 0px 1px 3px 1px rgba(0, 0, 0, 0.15);\n",
              "      filter: drop-shadow(0px 1px 2px rgba(0, 0, 0, 0.3));\n",
              "      fill: #FFFFFF;\n",
              "    }\n",
              "  </style>\n",
              "\n",
              "      <script>\n",
              "        const buttonEl =\n",
              "          document.querySelector('#df-03f035a4-7098-48e6-a25a-8b2f2e5df445 button.colab-df-convert');\n",
              "        buttonEl.style.display =\n",
              "          google.colab.kernel.accessAllowed ? 'block' : 'none';\n",
              "\n",
              "        async function convertToInteractive(key) {\n",
              "          const element = document.querySelector('#df-03f035a4-7098-48e6-a25a-8b2f2e5df445');\n",
              "          const dataTable =\n",
              "            await google.colab.kernel.invokeFunction('convertToInteractive',\n",
              "                                                     [key], {});\n",
              "          if (!dataTable) return;\n",
              "\n",
              "          const docLinkHtml = 'Like what you see? Visit the ' +\n",
              "            '<a target=\"_blank\" href=https://colab.research.google.com/notebooks/data_table.ipynb>data table notebook</a>'\n",
              "            + ' to learn more about interactive tables.';\n",
              "          element.innerHTML = '';\n",
              "          dataTable['output_type'] = 'display_data';\n",
              "          await google.colab.output.renderOutput(dataTable, element);\n",
              "          const docLink = document.createElement('div');\n",
              "          docLink.innerHTML = docLinkHtml;\n",
              "          element.appendChild(docLink);\n",
              "        }\n",
              "      </script>\n",
              "    </div>\n",
              "  </div>\n",
              "  "
            ]
          },
          "metadata": {},
          "execution_count": 123
        }
      ]
    },
    {
      "cell_type": "markdown",
      "source": [
        "### Missing/Null Checking"
      ],
      "metadata": {
        "id": "KHDhVetzlHTU"
      }
    },
    {
      "cell_type": "code",
      "source": [
        "opendata_unittype.isnull().any()"
      ],
      "metadata": {
        "colab": {
          "base_uri": "https://localhost:8080/"
        },
        "id": "CHCcZJZLlH49",
        "outputId": "333bb3bc-aa2b-4a13-db3d-ce20205a3481"
      },
      "execution_count": 124,
      "outputs": [
        {
          "output_type": "execute_result",
          "data": {
            "text/plain": [
              "unittype_id             False\n",
              "project_id              False\n",
              "name_th                  True\n",
              "propertytype_id         False\n",
              "propertytype_name_en    False\n",
              "propertytype_name_th    False\n",
              "count_airconditioner     True\n",
              "count_elevator           True\n",
              "count_floor_internal     True\n",
              "count_parking            True\n",
              "count_room_bath          True\n",
              "count_room_bed           True\n",
              "count_room_dinning       True\n",
              "count_room_guest         True\n",
              "count_room_kitchen       True\n",
              "count_room_living        True\n",
              "count_room_maid          True\n",
              "count_room_storage       True\n",
              "count_room_utility       True\n",
              "dtype: bool"
            ]
          },
          "metadata": {},
          "execution_count": 124
        }
      ]
    },
    {
      "cell_type": "markdown",
      "source": [
        "#### ⇨ dropna"
      ],
      "metadata": {
        "id": "dIoSlk3NmmL6"
      }
    },
    {
      "cell_type": "code",
      "source": [
        "# # ' price_min ' ราคาต่ำสุดโครงการ\n",
        "# print(len(opendata_unittype[opendata_unittype['price_min'].isnull()])) #we used dropna()\n",
        "# opendata_unittype = opendata_unittype.dropna(subset=['price_min'])"
      ],
      "metadata": {
        "id": "cKVrZCxookAV"
      },
      "execution_count": 125,
      "outputs": []
    },
    {
      "cell_type": "markdown",
      "source": [
        "#### ⇨ fill Null with real world Knownlege"
      ],
      "metadata": {
        "id": "xIGZBzQEmo1w"
      }
    },
    {
      "cell_type": "code",
      "source": [
        "#fill NA with Text\n",
        "opendata_unittype['name_th'] = opendata_unittype['name_th'].fillna('Unknown')"
      ],
      "metadata": {
        "id": "mw91xuDUmhh3",
        "colab": {
          "base_uri": "https://localhost:8080/"
        },
        "outputId": "8a54cc24-7a5a-4c56-b502-f5f2ad66eae6"
      },
      "execution_count": 126,
      "outputs": [
        {
          "output_type": "stream",
          "name": "stderr",
          "text": [
            "/usr/local/lib/python3.7/dist-packages/ipykernel_launcher.py:2: SettingWithCopyWarning: \n",
            "A value is trying to be set on a copy of a slice from a DataFrame.\n",
            "Try using .loc[row_indexer,col_indexer] = value instead\n",
            "\n",
            "See the caveats in the documentation: https://pandas.pydata.org/pandas-docs/stable/user_guide/indexing.html#returning-a-view-versus-a-copy\n",
            "  \n"
          ]
        }
      ]
    },
    {
      "cell_type": "code",
      "source": [
        "# จำนวนชั้นในบ้าน\n",
        "opendata_unittype[['count_floor_internal']]  = opendata_unittype[['count_floor_internal']].fillna(1) \n",
        "# จำนวนห้อง, จำนวนลิฟต์, จำนวนแอร์\n",
        "opendata_unittype[['count_airconditioner','count_elevator','count_parking','count_room_bath','count_room_bed','count_room_dinning','count_room_guest','count_room_kitchen','count_room_living','count_room_maid','count_room_storage','count_room_utility',]]  = opendata_unittype[['count_airconditioner','count_elevator','count_parking','count_room_bath','count_room_bed','count_room_dinning','count_room_guest','count_room_kitchen','count_room_living','count_room_maid','count_room_storage','count_room_utility',]].fillna(0) "
      ],
      "metadata": {
        "id": "1FPThTkhnIoP",
        "colab": {
          "base_uri": "https://localhost:8080/"
        },
        "outputId": "5af8fbcd-7781-475d-d7ed-dc8fe2460d69"
      },
      "execution_count": 127,
      "outputs": [
        {
          "output_type": "stream",
          "name": "stderr",
          "text": [
            "/usr/local/lib/python3.7/dist-packages/pandas/core/frame.py:3641: SettingWithCopyWarning: \n",
            "A value is trying to be set on a copy of a slice from a DataFrame.\n",
            "Try using .loc[row_indexer,col_indexer] = value instead\n",
            "\n",
            "See the caveats in the documentation: https://pandas.pydata.org/pandas-docs/stable/user_guide/indexing.html#returning-a-view-versus-a-copy\n",
            "  self[k1] = value[k2]\n"
          ]
        }
      ]
    },
    {
      "cell_type": "code",
      "source": [
        "opendata_unittype.isnull().any()"
      ],
      "metadata": {
        "colab": {
          "base_uri": "https://localhost:8080/"
        },
        "id": "Dhbqia7MnbtK",
        "outputId": "36fbeda7-b93e-42a8-ebe8-9ae49cb8732c"
      },
      "execution_count": 128,
      "outputs": [
        {
          "output_type": "execute_result",
          "data": {
            "text/plain": [
              "unittype_id             False\n",
              "project_id              False\n",
              "name_th                 False\n",
              "propertytype_id         False\n",
              "propertytype_name_en    False\n",
              "propertytype_name_th    False\n",
              "count_airconditioner    False\n",
              "count_elevator          False\n",
              "count_floor_internal    False\n",
              "count_parking           False\n",
              "count_room_bath         False\n",
              "count_room_bed          False\n",
              "count_room_dinning      False\n",
              "count_room_guest        False\n",
              "count_room_kitchen      False\n",
              "count_room_living       False\n",
              "count_room_maid         False\n",
              "count_room_storage      False\n",
              "count_room_utility      False\n",
              "dtype: bool"
            ]
          },
          "metadata": {},
          "execution_count": 128
        }
      ]
    },
    {
      "cell_type": "code",
      "source": [
        "# save data\n",
        "opendata_unittype.to_csv('opendata_unittype_clean.csv', index=False)"
      ],
      "metadata": {
        "id": "RKyTolLpoaXk"
      },
      "execution_count": 129,
      "outputs": []
    },
    {
      "cell_type": "markdown",
      "source": [
        "## 📑opendata_interest table"
      ],
      "metadata": {
        "id": "ppeHVLb8p252"
      }
    },
    {
      "cell_type": "code",
      "source": [
        "opendata_interest = pd.read_csv('opendata_interest.csv')\n",
        "print(opendata_interest.shape) \n",
        "opendata_interest.head(3)"
      ],
      "metadata": {
        "colab": {
          "base_uri": "https://localhost:8080/",
          "height": 278
        },
        "id": "O_oq_P-boabT",
        "outputId": "f63da747-c898-4d25-819c-2e7a761465db"
      },
      "execution_count": 130,
      "outputs": [
        {
          "output_type": "stream",
          "name": "stdout",
          "text": [
            "(1767, 12)\n"
          ]
        },
        {
          "output_type": "execute_result",
          "data": {
            "text/plain": [
              "   row_number  transction_year  transction_month province_name_th  \\\n",
              "0        1185             2020                 6    กรุงเทพมหานคร   \n",
              "1         369             2020                 5          นนทบุรี   \n",
              "2         780             2019                 2    กรุงเทพมหานคร   \n",
              "\n",
              "  province_name_en district_name_th   district_name_en propertytype_name_th  \\\n",
              "0          Bangkok          คลองเตย        KHLONG TOEI             ทาวน์โฮม   \n",
              "1       Nonthaburi     เมืองนนทบุรี  MUEANG NONTHABURI             ทาวน์โฮม   \n",
              "2          Bangkok         ห้วยขวาง        HUAI KHWANG                คอนโด   \n",
              "\n",
              "  propertytype_name_en  volume_of_project  interest         day  \n",
              "0             Townhome                 19        32  2022-09-30  \n",
              "1             Townhome                 81       555  2022-09-30  \n",
              "2                Condo                120       432  2022-09-30  "
            ],
            "text/html": [
              "\n",
              "  <div id=\"df-32a90d12-817d-48ac-9c70-1a0bb578e7ae\">\n",
              "    <div class=\"colab-df-container\">\n",
              "      <div>\n",
              "<style scoped>\n",
              "    .dataframe tbody tr th:only-of-type {\n",
              "        vertical-align: middle;\n",
              "    }\n",
              "\n",
              "    .dataframe tbody tr th {\n",
              "        vertical-align: top;\n",
              "    }\n",
              "\n",
              "    .dataframe thead th {\n",
              "        text-align: right;\n",
              "    }\n",
              "</style>\n",
              "<table border=\"1\" class=\"dataframe\">\n",
              "  <thead>\n",
              "    <tr style=\"text-align: right;\">\n",
              "      <th></th>\n",
              "      <th>row_number</th>\n",
              "      <th>transction_year</th>\n",
              "      <th>transction_month</th>\n",
              "      <th>province_name_th</th>\n",
              "      <th>province_name_en</th>\n",
              "      <th>district_name_th</th>\n",
              "      <th>district_name_en</th>\n",
              "      <th>propertytype_name_th</th>\n",
              "      <th>propertytype_name_en</th>\n",
              "      <th>volume_of_project</th>\n",
              "      <th>interest</th>\n",
              "      <th>day</th>\n",
              "    </tr>\n",
              "  </thead>\n",
              "  <tbody>\n",
              "    <tr>\n",
              "      <th>0</th>\n",
              "      <td>1185</td>\n",
              "      <td>2020</td>\n",
              "      <td>6</td>\n",
              "      <td>กรุงเทพมหานคร</td>\n",
              "      <td>Bangkok</td>\n",
              "      <td>คลองเตย</td>\n",
              "      <td>KHLONG TOEI</td>\n",
              "      <td>ทาวน์โฮม</td>\n",
              "      <td>Townhome</td>\n",
              "      <td>19</td>\n",
              "      <td>32</td>\n",
              "      <td>2022-09-30</td>\n",
              "    </tr>\n",
              "    <tr>\n",
              "      <th>1</th>\n",
              "      <td>369</td>\n",
              "      <td>2020</td>\n",
              "      <td>5</td>\n",
              "      <td>นนทบุรี</td>\n",
              "      <td>Nonthaburi</td>\n",
              "      <td>เมืองนนทบุรี</td>\n",
              "      <td>MUEANG NONTHABURI</td>\n",
              "      <td>ทาวน์โฮม</td>\n",
              "      <td>Townhome</td>\n",
              "      <td>81</td>\n",
              "      <td>555</td>\n",
              "      <td>2022-09-30</td>\n",
              "    </tr>\n",
              "    <tr>\n",
              "      <th>2</th>\n",
              "      <td>780</td>\n",
              "      <td>2019</td>\n",
              "      <td>2</td>\n",
              "      <td>กรุงเทพมหานคร</td>\n",
              "      <td>Bangkok</td>\n",
              "      <td>ห้วยขวาง</td>\n",
              "      <td>HUAI KHWANG</td>\n",
              "      <td>คอนโด</td>\n",
              "      <td>Condo</td>\n",
              "      <td>120</td>\n",
              "      <td>432</td>\n",
              "      <td>2022-09-30</td>\n",
              "    </tr>\n",
              "  </tbody>\n",
              "</table>\n",
              "</div>\n",
              "      <button class=\"colab-df-convert\" onclick=\"convertToInteractive('df-32a90d12-817d-48ac-9c70-1a0bb578e7ae')\"\n",
              "              title=\"Convert this dataframe to an interactive table.\"\n",
              "              style=\"display:none;\">\n",
              "        \n",
              "  <svg xmlns=\"http://www.w3.org/2000/svg\" height=\"24px\"viewBox=\"0 0 24 24\"\n",
              "       width=\"24px\">\n",
              "    <path d=\"M0 0h24v24H0V0z\" fill=\"none\"/>\n",
              "    <path d=\"M18.56 5.44l.94 2.06.94-2.06 2.06-.94-2.06-.94-.94-2.06-.94 2.06-2.06.94zm-11 1L8.5 8.5l.94-2.06 2.06-.94-2.06-.94L8.5 2.5l-.94 2.06-2.06.94zm10 10l.94 2.06.94-2.06 2.06-.94-2.06-.94-.94-2.06-.94 2.06-2.06.94z\"/><path d=\"M17.41 7.96l-1.37-1.37c-.4-.4-.92-.59-1.43-.59-.52 0-1.04.2-1.43.59L10.3 9.45l-7.72 7.72c-.78.78-.78 2.05 0 2.83L4 21.41c.39.39.9.59 1.41.59.51 0 1.02-.2 1.41-.59l7.78-7.78 2.81-2.81c.8-.78.8-2.07 0-2.86zM5.41 20L4 18.59l7.72-7.72 1.47 1.35L5.41 20z\"/>\n",
              "  </svg>\n",
              "      </button>\n",
              "      \n",
              "  <style>\n",
              "    .colab-df-container {\n",
              "      display:flex;\n",
              "      flex-wrap:wrap;\n",
              "      gap: 12px;\n",
              "    }\n",
              "\n",
              "    .colab-df-convert {\n",
              "      background-color: #E8F0FE;\n",
              "      border: none;\n",
              "      border-radius: 50%;\n",
              "      cursor: pointer;\n",
              "      display: none;\n",
              "      fill: #1967D2;\n",
              "      height: 32px;\n",
              "      padding: 0 0 0 0;\n",
              "      width: 32px;\n",
              "    }\n",
              "\n",
              "    .colab-df-convert:hover {\n",
              "      background-color: #E2EBFA;\n",
              "      box-shadow: 0px 1px 2px rgba(60, 64, 67, 0.3), 0px 1px 3px 1px rgba(60, 64, 67, 0.15);\n",
              "      fill: #174EA6;\n",
              "    }\n",
              "\n",
              "    [theme=dark] .colab-df-convert {\n",
              "      background-color: #3B4455;\n",
              "      fill: #D2E3FC;\n",
              "    }\n",
              "\n",
              "    [theme=dark] .colab-df-convert:hover {\n",
              "      background-color: #434B5C;\n",
              "      box-shadow: 0px 1px 3px 1px rgba(0, 0, 0, 0.15);\n",
              "      filter: drop-shadow(0px 1px 2px rgba(0, 0, 0, 0.3));\n",
              "      fill: #FFFFFF;\n",
              "    }\n",
              "  </style>\n",
              "\n",
              "      <script>\n",
              "        const buttonEl =\n",
              "          document.querySelector('#df-32a90d12-817d-48ac-9c70-1a0bb578e7ae button.colab-df-convert');\n",
              "        buttonEl.style.display =\n",
              "          google.colab.kernel.accessAllowed ? 'block' : 'none';\n",
              "\n",
              "        async function convertToInteractive(key) {\n",
              "          const element = document.querySelector('#df-32a90d12-817d-48ac-9c70-1a0bb578e7ae');\n",
              "          const dataTable =\n",
              "            await google.colab.kernel.invokeFunction('convertToInteractive',\n",
              "                                                     [key], {});\n",
              "          if (!dataTable) return;\n",
              "\n",
              "          const docLinkHtml = 'Like what you see? Visit the ' +\n",
              "            '<a target=\"_blank\" href=https://colab.research.google.com/notebooks/data_table.ipynb>data table notebook</a>'\n",
              "            + ' to learn more about interactive tables.';\n",
              "          element.innerHTML = '';\n",
              "          dataTable['output_type'] = 'display_data';\n",
              "          await google.colab.output.renderOutput(dataTable, element);\n",
              "          const docLink = document.createElement('div');\n",
              "          docLink.innerHTML = docLinkHtml;\n",
              "          element.appendChild(docLink);\n",
              "        }\n",
              "      </script>\n",
              "    </div>\n",
              "  </div>\n",
              "  "
            ]
          },
          "metadata": {},
          "execution_count": 130
        }
      ]
    },
    {
      "cell_type": "markdown",
      "source": [
        "### Select columns"
      ],
      "metadata": {
        "id": "hyIJ8ZdNqEyQ"
      }
    },
    {
      "cell_type": "code",
      "source": [
        "opendata_interest.columns"
      ],
      "metadata": {
        "colab": {
          "base_uri": "https://localhost:8080/"
        },
        "id": "QElftfmfp-4_",
        "outputId": "e10be72f-eb43-4637-839d-e571bf7be473"
      },
      "execution_count": 131,
      "outputs": [
        {
          "output_type": "execute_result",
          "data": {
            "text/plain": [
              "Index(['row_number', 'transction_year', 'transction_month', 'province_name_th',\n",
              "       'province_name_en', 'district_name_th', 'district_name_en',\n",
              "       'propertytype_name_th', 'propertytype_name_en', 'volume_of_project',\n",
              "       'interest', 'day'],\n",
              "      dtype='object')"
            ]
          },
          "metadata": {},
          "execution_count": 131
        }
      ]
    },
    {
      "cell_type": "code",
      "source": [
        "opendata_interest = opendata_interest[['province_name_th',\n",
        "       'province_name_en', 'district_name_th', 'district_name_en',\n",
        "       'propertytype_name_th', 'propertytype_name_en', 'volume_of_project',\n",
        "       'interest']]\n",
        "opendata_interest.head()"
      ],
      "metadata": {
        "colab": {
          "base_uri": "https://localhost:8080/",
          "height": 305
        },
        "id": "jczGEm3JqTf2",
        "outputId": "85cbbc26-b70d-4e21-cccf-46eee2675806"
      },
      "execution_count": 132,
      "outputs": [
        {
          "output_type": "execute_result",
          "data": {
            "text/plain": [
              "  province_name_th province_name_en district_name_th     district_name_en  \\\n",
              "0    กรุงเทพมหานคร          Bangkok          คลองเตย          KHLONG TOEI   \n",
              "1          นนทบุรี       Nonthaburi     เมืองนนทบุรี    MUEANG NONTHABURI   \n",
              "2    กรุงเทพมหานคร          Bangkok         ห้วยขวาง          HUAI KHWANG   \n",
              "3      สมุทรปราการ     Samut Prakan        พระประแดง        PHRA PRADAENG   \n",
              "4         ปทุมธานี     Pathum Thani    เมืองปทุมธานี  MUEANG PATHUM THANI   \n",
              "\n",
              "  propertytype_name_th propertytype_name_en  volume_of_project  interest  \n",
              "0             ทาวน์โฮม             Townhome                 19        32  \n",
              "1             ทาวน์โฮม             Townhome                 81       555  \n",
              "2                คอนโด                Condo                120       432  \n",
              "3             ทาวน์โฮม             Townhome                 11        28  \n",
              "4                 บ้าน       Detached House                210      1405  "
            ],
            "text/html": [
              "\n",
              "  <div id=\"df-11633090-4e0d-4b42-a1ba-736ebd3febba\">\n",
              "    <div class=\"colab-df-container\">\n",
              "      <div>\n",
              "<style scoped>\n",
              "    .dataframe tbody tr th:only-of-type {\n",
              "        vertical-align: middle;\n",
              "    }\n",
              "\n",
              "    .dataframe tbody tr th {\n",
              "        vertical-align: top;\n",
              "    }\n",
              "\n",
              "    .dataframe thead th {\n",
              "        text-align: right;\n",
              "    }\n",
              "</style>\n",
              "<table border=\"1\" class=\"dataframe\">\n",
              "  <thead>\n",
              "    <tr style=\"text-align: right;\">\n",
              "      <th></th>\n",
              "      <th>province_name_th</th>\n",
              "      <th>province_name_en</th>\n",
              "      <th>district_name_th</th>\n",
              "      <th>district_name_en</th>\n",
              "      <th>propertytype_name_th</th>\n",
              "      <th>propertytype_name_en</th>\n",
              "      <th>volume_of_project</th>\n",
              "      <th>interest</th>\n",
              "    </tr>\n",
              "  </thead>\n",
              "  <tbody>\n",
              "    <tr>\n",
              "      <th>0</th>\n",
              "      <td>กรุงเทพมหานคร</td>\n",
              "      <td>Bangkok</td>\n",
              "      <td>คลองเตย</td>\n",
              "      <td>KHLONG TOEI</td>\n",
              "      <td>ทาวน์โฮม</td>\n",
              "      <td>Townhome</td>\n",
              "      <td>19</td>\n",
              "      <td>32</td>\n",
              "    </tr>\n",
              "    <tr>\n",
              "      <th>1</th>\n",
              "      <td>นนทบุรี</td>\n",
              "      <td>Nonthaburi</td>\n",
              "      <td>เมืองนนทบุรี</td>\n",
              "      <td>MUEANG NONTHABURI</td>\n",
              "      <td>ทาวน์โฮม</td>\n",
              "      <td>Townhome</td>\n",
              "      <td>81</td>\n",
              "      <td>555</td>\n",
              "    </tr>\n",
              "    <tr>\n",
              "      <th>2</th>\n",
              "      <td>กรุงเทพมหานคร</td>\n",
              "      <td>Bangkok</td>\n",
              "      <td>ห้วยขวาง</td>\n",
              "      <td>HUAI KHWANG</td>\n",
              "      <td>คอนโด</td>\n",
              "      <td>Condo</td>\n",
              "      <td>120</td>\n",
              "      <td>432</td>\n",
              "    </tr>\n",
              "    <tr>\n",
              "      <th>3</th>\n",
              "      <td>สมุทรปราการ</td>\n",
              "      <td>Samut Prakan</td>\n",
              "      <td>พระประแดง</td>\n",
              "      <td>PHRA PRADAENG</td>\n",
              "      <td>ทาวน์โฮม</td>\n",
              "      <td>Townhome</td>\n",
              "      <td>11</td>\n",
              "      <td>28</td>\n",
              "    </tr>\n",
              "    <tr>\n",
              "      <th>4</th>\n",
              "      <td>ปทุมธานี</td>\n",
              "      <td>Pathum Thani</td>\n",
              "      <td>เมืองปทุมธานี</td>\n",
              "      <td>MUEANG PATHUM THANI</td>\n",
              "      <td>บ้าน</td>\n",
              "      <td>Detached House</td>\n",
              "      <td>210</td>\n",
              "      <td>1405</td>\n",
              "    </tr>\n",
              "  </tbody>\n",
              "</table>\n",
              "</div>\n",
              "      <button class=\"colab-df-convert\" onclick=\"convertToInteractive('df-11633090-4e0d-4b42-a1ba-736ebd3febba')\"\n",
              "              title=\"Convert this dataframe to an interactive table.\"\n",
              "              style=\"display:none;\">\n",
              "        \n",
              "  <svg xmlns=\"http://www.w3.org/2000/svg\" height=\"24px\"viewBox=\"0 0 24 24\"\n",
              "       width=\"24px\">\n",
              "    <path d=\"M0 0h24v24H0V0z\" fill=\"none\"/>\n",
              "    <path d=\"M18.56 5.44l.94 2.06.94-2.06 2.06-.94-2.06-.94-.94-2.06-.94 2.06-2.06.94zm-11 1L8.5 8.5l.94-2.06 2.06-.94-2.06-.94L8.5 2.5l-.94 2.06-2.06.94zm10 10l.94 2.06.94-2.06 2.06-.94-2.06-.94-.94-2.06-.94 2.06-2.06.94z\"/><path d=\"M17.41 7.96l-1.37-1.37c-.4-.4-.92-.59-1.43-.59-.52 0-1.04.2-1.43.59L10.3 9.45l-7.72 7.72c-.78.78-.78 2.05 0 2.83L4 21.41c.39.39.9.59 1.41.59.51 0 1.02-.2 1.41-.59l7.78-7.78 2.81-2.81c.8-.78.8-2.07 0-2.86zM5.41 20L4 18.59l7.72-7.72 1.47 1.35L5.41 20z\"/>\n",
              "  </svg>\n",
              "      </button>\n",
              "      \n",
              "  <style>\n",
              "    .colab-df-container {\n",
              "      display:flex;\n",
              "      flex-wrap:wrap;\n",
              "      gap: 12px;\n",
              "    }\n",
              "\n",
              "    .colab-df-convert {\n",
              "      background-color: #E8F0FE;\n",
              "      border: none;\n",
              "      border-radius: 50%;\n",
              "      cursor: pointer;\n",
              "      display: none;\n",
              "      fill: #1967D2;\n",
              "      height: 32px;\n",
              "      padding: 0 0 0 0;\n",
              "      width: 32px;\n",
              "    }\n",
              "\n",
              "    .colab-df-convert:hover {\n",
              "      background-color: #E2EBFA;\n",
              "      box-shadow: 0px 1px 2px rgba(60, 64, 67, 0.3), 0px 1px 3px 1px rgba(60, 64, 67, 0.15);\n",
              "      fill: #174EA6;\n",
              "    }\n",
              "\n",
              "    [theme=dark] .colab-df-convert {\n",
              "      background-color: #3B4455;\n",
              "      fill: #D2E3FC;\n",
              "    }\n",
              "\n",
              "    [theme=dark] .colab-df-convert:hover {\n",
              "      background-color: #434B5C;\n",
              "      box-shadow: 0px 1px 3px 1px rgba(0, 0, 0, 0.15);\n",
              "      filter: drop-shadow(0px 1px 2px rgba(0, 0, 0, 0.3));\n",
              "      fill: #FFFFFF;\n",
              "    }\n",
              "  </style>\n",
              "\n",
              "      <script>\n",
              "        const buttonEl =\n",
              "          document.querySelector('#df-11633090-4e0d-4b42-a1ba-736ebd3febba button.colab-df-convert');\n",
              "        buttonEl.style.display =\n",
              "          google.colab.kernel.accessAllowed ? 'block' : 'none';\n",
              "\n",
              "        async function convertToInteractive(key) {\n",
              "          const element = document.querySelector('#df-11633090-4e0d-4b42-a1ba-736ebd3febba');\n",
              "          const dataTable =\n",
              "            await google.colab.kernel.invokeFunction('convertToInteractive',\n",
              "                                                     [key], {});\n",
              "          if (!dataTable) return;\n",
              "\n",
              "          const docLinkHtml = 'Like what you see? Visit the ' +\n",
              "            '<a target=\"_blank\" href=https://colab.research.google.com/notebooks/data_table.ipynb>data table notebook</a>'\n",
              "            + ' to learn more about interactive tables.';\n",
              "          element.innerHTML = '';\n",
              "          dataTable['output_type'] = 'display_data';\n",
              "          await google.colab.output.renderOutput(dataTable, element);\n",
              "          const docLink = document.createElement('div');\n",
              "          docLink.innerHTML = docLinkHtml;\n",
              "          element.appendChild(docLink);\n",
              "        }\n",
              "      </script>\n",
              "    </div>\n",
              "  </div>\n",
              "  "
            ]
          },
          "metadata": {},
          "execution_count": 132
        }
      ]
    },
    {
      "cell_type": "markdown",
      "source": [
        "### Missing/Null Checking"
      ],
      "metadata": {
        "id": "0kgQgoUNqJIy"
      }
    },
    {
      "cell_type": "code",
      "source": [
        "opendata_interest.isnull().any()"
      ],
      "metadata": {
        "colab": {
          "base_uri": "https://localhost:8080/"
        },
        "id": "oSszOEt3qLYk",
        "outputId": "0a4e39e4-9b02-497a-d5c9-cf4020aa8236"
      },
      "execution_count": 133,
      "outputs": [
        {
          "output_type": "execute_result",
          "data": {
            "text/plain": [
              "province_name_th        False\n",
              "province_name_en        False\n",
              "district_name_th        False\n",
              "district_name_en        False\n",
              "propertytype_name_th    False\n",
              "propertytype_name_en    False\n",
              "volume_of_project       False\n",
              "interest                False\n",
              "dtype: bool"
            ]
          },
          "metadata": {},
          "execution_count": 133
        }
      ]
    },
    {
      "cell_type": "markdown",
      "source": [
        "### Check data type"
      ],
      "metadata": {
        "id": "TvwNwL2fyP-h"
      }
    },
    {
      "cell_type": "code",
      "source": [
        "opendata_interest.dtypes "
      ],
      "metadata": {
        "colab": {
          "base_uri": "https://localhost:8080/"
        },
        "id": "tUdyPfdkyQVr",
        "outputId": "535c3623-5634-4a4e-ed13-1bb5f2f60535"
      },
      "execution_count": 134,
      "outputs": [
        {
          "output_type": "execute_result",
          "data": {
            "text/plain": [
              "province_name_th        object\n",
              "province_name_en        object\n",
              "district_name_th        object\n",
              "district_name_en        object\n",
              "propertytype_name_th    object\n",
              "propertytype_name_en    object\n",
              "volume_of_project        int64\n",
              "interest                 int64\n",
              "dtype: object"
            ]
          },
          "metadata": {},
          "execution_count": 134
        }
      ]
    },
    {
      "cell_type": "code",
      "source": [
        "# save data\n",
        "opendata_interest.to_csv('opendata_interest_clean.csv', index=False)"
      ],
      "metadata": {
        "id": "9bO446WUqiSw"
      },
      "execution_count": 135,
      "outputs": []
    },
    {
      "cell_type": "markdown",
      "source": [
        "## 📑opendata_living_score table"
      ],
      "metadata": {
        "id": "prlICKCYq1Av"
      }
    },
    {
      "cell_type": "code",
      "source": [
        "opendata_living_score = pd.read_csv('opendata_living_score.csv')\n",
        "print(opendata_living_score.shape) \n",
        "opendata_living_score.head(3)"
      ],
      "metadata": {
        "colab": {
          "base_uri": "https://localhost:8080/",
          "height": 307
        },
        "id": "rywSvtszqqUN",
        "outputId": "d9c8bd6b-9c63-4699-fc14-6f3f09735653"
      },
      "execution_count": 136,
      "outputs": [
        {
          "output_type": "stream",
          "name": "stdout",
          "text": [
            "(709, 28)\n"
          ]
        },
        {
          "output_type": "execute_result",
          "data": {
            "text/plain": [
              "   row_number  subdistrict_id subdistrict_name_en subdistrict_name_th  \\\n",
              "0         634            3410            SANO LOI              โสนลอย   \n",
              "1         619            3976           TALAT NOI            ตลาดน้อย   \n",
              "2         284            4669             BAN KAO            บ้านเก่า   \n",
              "\n",
              "   district_id district_name_en district_name_th  province_id  \\\n",
              "0         3402   BANG BUA THONG        บางบัวทอง         3372   \n",
              "1         3973   SAMPHANTHAWONG      สัมพันธวงศ์         3781   \n",
              "2         4663       PHAN THONG           พานทอง         4616   \n",
              "\n",
              "  province_name_en province_name_th  ...  access_train  access_total  \\\n",
              "0       Nonthaburi          นนทบุรี  ...           1.0          79.0   \n",
              "1          Bangkok    กรุงเทพมหานคร  ...         100.0         100.0   \n",
              "2        Chon Buri           ชลบุรี  ...           0.0           0.0   \n",
              "\n",
              "   drive_leisure  drive_public_service  drive_school  drive_shopping  \\\n",
              "0          100.0                 100.0         100.0           100.0   \n",
              "1          100.0                  87.0         100.0           100.0   \n",
              "2           79.0                  91.0          86.0            84.0   \n",
              "\n",
              "   drive_work  drive_total  source         day  \n",
              "0       100.0        100.0  baania  2022-09-30  \n",
              "1       100.0         99.0  baania  2022-09-30  \n",
              "2        93.0         85.0  baania  2022-09-30  \n",
              "\n",
              "[3 rows x 28 columns]"
            ],
            "text/html": [
              "\n",
              "  <div id=\"df-f838eb5c-c682-4d7a-9b4f-0d656b77654a\">\n",
              "    <div class=\"colab-df-container\">\n",
              "      <div>\n",
              "<style scoped>\n",
              "    .dataframe tbody tr th:only-of-type {\n",
              "        vertical-align: middle;\n",
              "    }\n",
              "\n",
              "    .dataframe tbody tr th {\n",
              "        vertical-align: top;\n",
              "    }\n",
              "\n",
              "    .dataframe thead th {\n",
              "        text-align: right;\n",
              "    }\n",
              "</style>\n",
              "<table border=\"1\" class=\"dataframe\">\n",
              "  <thead>\n",
              "    <tr style=\"text-align: right;\">\n",
              "      <th></th>\n",
              "      <th>row_number</th>\n",
              "      <th>subdistrict_id</th>\n",
              "      <th>subdistrict_name_en</th>\n",
              "      <th>subdistrict_name_th</th>\n",
              "      <th>district_id</th>\n",
              "      <th>district_name_en</th>\n",
              "      <th>district_name_th</th>\n",
              "      <th>province_id</th>\n",
              "      <th>province_name_en</th>\n",
              "      <th>province_name_th</th>\n",
              "      <th>...</th>\n",
              "      <th>access_train</th>\n",
              "      <th>access_total</th>\n",
              "      <th>drive_leisure</th>\n",
              "      <th>drive_public_service</th>\n",
              "      <th>drive_school</th>\n",
              "      <th>drive_shopping</th>\n",
              "      <th>drive_work</th>\n",
              "      <th>drive_total</th>\n",
              "      <th>source</th>\n",
              "      <th>day</th>\n",
              "    </tr>\n",
              "  </thead>\n",
              "  <tbody>\n",
              "    <tr>\n",
              "      <th>0</th>\n",
              "      <td>634</td>\n",
              "      <td>3410</td>\n",
              "      <td>SANO LOI</td>\n",
              "      <td>โสนลอย</td>\n",
              "      <td>3402</td>\n",
              "      <td>BANG BUA THONG</td>\n",
              "      <td>บางบัวทอง</td>\n",
              "      <td>3372</td>\n",
              "      <td>Nonthaburi</td>\n",
              "      <td>นนทบุรี</td>\n",
              "      <td>...</td>\n",
              "      <td>1.0</td>\n",
              "      <td>79.0</td>\n",
              "      <td>100.0</td>\n",
              "      <td>100.0</td>\n",
              "      <td>100.0</td>\n",
              "      <td>100.0</td>\n",
              "      <td>100.0</td>\n",
              "      <td>100.0</td>\n",
              "      <td>baania</td>\n",
              "      <td>2022-09-30</td>\n",
              "    </tr>\n",
              "    <tr>\n",
              "      <th>1</th>\n",
              "      <td>619</td>\n",
              "      <td>3976</td>\n",
              "      <td>TALAT NOI</td>\n",
              "      <td>ตลาดน้อย</td>\n",
              "      <td>3973</td>\n",
              "      <td>SAMPHANTHAWONG</td>\n",
              "      <td>สัมพันธวงศ์</td>\n",
              "      <td>3781</td>\n",
              "      <td>Bangkok</td>\n",
              "      <td>กรุงเทพมหานคร</td>\n",
              "      <td>...</td>\n",
              "      <td>100.0</td>\n",
              "      <td>100.0</td>\n",
              "      <td>100.0</td>\n",
              "      <td>87.0</td>\n",
              "      <td>100.0</td>\n",
              "      <td>100.0</td>\n",
              "      <td>100.0</td>\n",
              "      <td>99.0</td>\n",
              "      <td>baania</td>\n",
              "      <td>2022-09-30</td>\n",
              "    </tr>\n",
              "    <tr>\n",
              "      <th>2</th>\n",
              "      <td>284</td>\n",
              "      <td>4669</td>\n",
              "      <td>BAN KAO</td>\n",
              "      <td>บ้านเก่า</td>\n",
              "      <td>4663</td>\n",
              "      <td>PHAN THONG</td>\n",
              "      <td>พานทอง</td>\n",
              "      <td>4616</td>\n",
              "      <td>Chon Buri</td>\n",
              "      <td>ชลบุรี</td>\n",
              "      <td>...</td>\n",
              "      <td>0.0</td>\n",
              "      <td>0.0</td>\n",
              "      <td>79.0</td>\n",
              "      <td>91.0</td>\n",
              "      <td>86.0</td>\n",
              "      <td>84.0</td>\n",
              "      <td>93.0</td>\n",
              "      <td>85.0</td>\n",
              "      <td>baania</td>\n",
              "      <td>2022-09-30</td>\n",
              "    </tr>\n",
              "  </tbody>\n",
              "</table>\n",
              "<p>3 rows × 28 columns</p>\n",
              "</div>\n",
              "      <button class=\"colab-df-convert\" onclick=\"convertToInteractive('df-f838eb5c-c682-4d7a-9b4f-0d656b77654a')\"\n",
              "              title=\"Convert this dataframe to an interactive table.\"\n",
              "              style=\"display:none;\">\n",
              "        \n",
              "  <svg xmlns=\"http://www.w3.org/2000/svg\" height=\"24px\"viewBox=\"0 0 24 24\"\n",
              "       width=\"24px\">\n",
              "    <path d=\"M0 0h24v24H0V0z\" fill=\"none\"/>\n",
              "    <path d=\"M18.56 5.44l.94 2.06.94-2.06 2.06-.94-2.06-.94-.94-2.06-.94 2.06-2.06.94zm-11 1L8.5 8.5l.94-2.06 2.06-.94-2.06-.94L8.5 2.5l-.94 2.06-2.06.94zm10 10l.94 2.06.94-2.06 2.06-.94-2.06-.94-.94-2.06-.94 2.06-2.06.94z\"/><path d=\"M17.41 7.96l-1.37-1.37c-.4-.4-.92-.59-1.43-.59-.52 0-1.04.2-1.43.59L10.3 9.45l-7.72 7.72c-.78.78-.78 2.05 0 2.83L4 21.41c.39.39.9.59 1.41.59.51 0 1.02-.2 1.41-.59l7.78-7.78 2.81-2.81c.8-.78.8-2.07 0-2.86zM5.41 20L4 18.59l7.72-7.72 1.47 1.35L5.41 20z\"/>\n",
              "  </svg>\n",
              "      </button>\n",
              "      \n",
              "  <style>\n",
              "    .colab-df-container {\n",
              "      display:flex;\n",
              "      flex-wrap:wrap;\n",
              "      gap: 12px;\n",
              "    }\n",
              "\n",
              "    .colab-df-convert {\n",
              "      background-color: #E8F0FE;\n",
              "      border: none;\n",
              "      border-radius: 50%;\n",
              "      cursor: pointer;\n",
              "      display: none;\n",
              "      fill: #1967D2;\n",
              "      height: 32px;\n",
              "      padding: 0 0 0 0;\n",
              "      width: 32px;\n",
              "    }\n",
              "\n",
              "    .colab-df-convert:hover {\n",
              "      background-color: #E2EBFA;\n",
              "      box-shadow: 0px 1px 2px rgba(60, 64, 67, 0.3), 0px 1px 3px 1px rgba(60, 64, 67, 0.15);\n",
              "      fill: #174EA6;\n",
              "    }\n",
              "\n",
              "    [theme=dark] .colab-df-convert {\n",
              "      background-color: #3B4455;\n",
              "      fill: #D2E3FC;\n",
              "    }\n",
              "\n",
              "    [theme=dark] .colab-df-convert:hover {\n",
              "      background-color: #434B5C;\n",
              "      box-shadow: 0px 1px 3px 1px rgba(0, 0, 0, 0.15);\n",
              "      filter: drop-shadow(0px 1px 2px rgba(0, 0, 0, 0.3));\n",
              "      fill: #FFFFFF;\n",
              "    }\n",
              "  </style>\n",
              "\n",
              "      <script>\n",
              "        const buttonEl =\n",
              "          document.querySelector('#df-f838eb5c-c682-4d7a-9b4f-0d656b77654a button.colab-df-convert');\n",
              "        buttonEl.style.display =\n",
              "          google.colab.kernel.accessAllowed ? 'block' : 'none';\n",
              "\n",
              "        async function convertToInteractive(key) {\n",
              "          const element = document.querySelector('#df-f838eb5c-c682-4d7a-9b4f-0d656b77654a');\n",
              "          const dataTable =\n",
              "            await google.colab.kernel.invokeFunction('convertToInteractive',\n",
              "                                                     [key], {});\n",
              "          if (!dataTable) return;\n",
              "\n",
              "          const docLinkHtml = 'Like what you see? Visit the ' +\n",
              "            '<a target=\"_blank\" href=https://colab.research.google.com/notebooks/data_table.ipynb>data table notebook</a>'\n",
              "            + ' to learn more about interactive tables.';\n",
              "          element.innerHTML = '';\n",
              "          dataTable['output_type'] = 'display_data';\n",
              "          await google.colab.output.renderOutput(dataTable, element);\n",
              "          const docLink = document.createElement('div');\n",
              "          docLink.innerHTML = docLinkHtml;\n",
              "          element.appendChild(docLink);\n",
              "        }\n",
              "      </script>\n",
              "    </div>\n",
              "  </div>\n",
              "  "
            ]
          },
          "metadata": {},
          "execution_count": 136
        }
      ]
    },
    {
      "cell_type": "markdown",
      "source": [
        "### Select columns"
      ],
      "metadata": {
        "id": "3rBBs3XIskPq"
      }
    },
    {
      "cell_type": "code",
      "source": [
        "opendata_living_score.columns"
      ],
      "metadata": {
        "colab": {
          "base_uri": "https://localhost:8080/"
        },
        "id": "eLMK641XsZ_l",
        "outputId": "ae7c57e4-cc0d-466c-d2a2-a0d327dbfb0d"
      },
      "execution_count": 137,
      "outputs": [
        {
          "output_type": "execute_result",
          "data": {
            "text/plain": [
              "Index(['row_number', 'subdistrict_id', 'subdistrict_name_en',\n",
              "       'subdistrict_name_th', 'district_id', 'district_name_en',\n",
              "       'district_name_th', 'province_id', 'province_name_en',\n",
              "       'province_name_th', 'walk_leisure', 'walk_public_service',\n",
              "       'walk_school', 'walk_shopping', 'walk_work', 'walk_total',\n",
              "       'access_boat', 'access_bus', 'access_train', 'access_total',\n",
              "       'drive_leisure', 'drive_public_service', 'drive_school',\n",
              "       'drive_shopping', 'drive_work', 'drive_total', 'source', 'day'],\n",
              "      dtype='object')"
            ]
          },
          "metadata": {},
          "execution_count": 137
        }
      ]
    },
    {
      "cell_type": "code",
      "source": [
        "opendata_living_score = opendata_living_score[['subdistrict_id', 'subdistrict_name_en',\n",
        "       'subdistrict_name_th', 'district_id', 'district_name_en',\n",
        "       'district_name_th', 'province_id', 'province_name_en',\n",
        "       'province_name_th', 'walk_leisure', 'walk_public_service',\n",
        "       'walk_school', 'walk_shopping', 'walk_work', 'walk_total',\n",
        "       'access_boat', 'access_bus', 'access_train', 'access_total',\n",
        "       'drive_leisure', 'drive_public_service', 'drive_school',\n",
        "       'drive_shopping', 'drive_work', 'drive_total']]\n",
        "opendata_living_score.head()"
      ],
      "metadata": {
        "colab": {
          "base_uri": "https://localhost:8080/",
          "height": 317
        },
        "id": "s4QnIc66sh1d",
        "outputId": "15d58f78-2f13-42de-f0bf-1e925bf8bd44"
      },
      "execution_count": 138,
      "outputs": [
        {
          "output_type": "execute_result",
          "data": {
            "text/plain": [
              "   subdistrict_id subdistrict_name_en subdistrict_name_th  district_id  \\\n",
              "0            3410            SANO LOI              โสนลอย         3402   \n",
              "1            3976           TALAT NOI            ตลาดน้อย         3973   \n",
              "2            4669             BAN KAO            บ้านเก่า         4663   \n",
              "3            2647            BAN THUM            บ้านทุ่ม         2638   \n",
              "4            3799          RAM INTHRA           รามอินทรา         3797   \n",
              "\n",
              "   district_name_en district_name_th  province_id province_name_en  \\\n",
              "0    BANG BUA THONG        บางบัวทอง         3372       Nonthaburi   \n",
              "1    SAMPHANTHAWONG      สัมพันธวงศ์         3781          Bangkok   \n",
              "2        PHAN THONG           พานทอง         4616        Chon Buri   \n",
              "3  MUEANG KHON KAEN     เมืองขอนแก่น         2637        Khon Kaen   \n",
              "4       KHAN NA YAO         คันนายาว         3781          Bangkok   \n",
              "\n",
              "  province_name_th  walk_leisure  ...  access_boat  access_bus  access_train  \\\n",
              "0          นนทบุรี          96.0  ...         98.0       100.0           1.0   \n",
              "1    กรุงเทพมหานคร         100.0  ...        100.0       100.0         100.0   \n",
              "2           ชลบุรี           7.0  ...          0.0         0.0           0.0   \n",
              "3          ขอนแก่น          11.0  ...          0.0         0.0           0.0   \n",
              "4    กรุงเทพมหานคร          89.0  ...          1.0        94.0           5.0   \n",
              "\n",
              "   access_total  drive_leisure  drive_public_service  drive_school  \\\n",
              "0          79.0          100.0                 100.0         100.0   \n",
              "1         100.0          100.0                  87.0         100.0   \n",
              "2           0.0           79.0                  91.0          86.0   \n",
              "3           0.0           73.0                  65.0          73.0   \n",
              "4          39.0           99.0                  61.0          99.0   \n",
              "\n",
              "   drive_shopping  drive_work  drive_total  \n",
              "0           100.0       100.0        100.0  \n",
              "1           100.0       100.0         99.0  \n",
              "2            84.0        93.0         85.0  \n",
              "3            57.0        47.0         62.0  \n",
              "4            90.0        84.0         89.0  \n",
              "\n",
              "[5 rows x 25 columns]"
            ],
            "text/html": [
              "\n",
              "  <div id=\"df-9ea2fd6c-f6da-43b3-96a0-e1ebf5f4c38e\">\n",
              "    <div class=\"colab-df-container\">\n",
              "      <div>\n",
              "<style scoped>\n",
              "    .dataframe tbody tr th:only-of-type {\n",
              "        vertical-align: middle;\n",
              "    }\n",
              "\n",
              "    .dataframe tbody tr th {\n",
              "        vertical-align: top;\n",
              "    }\n",
              "\n",
              "    .dataframe thead th {\n",
              "        text-align: right;\n",
              "    }\n",
              "</style>\n",
              "<table border=\"1\" class=\"dataframe\">\n",
              "  <thead>\n",
              "    <tr style=\"text-align: right;\">\n",
              "      <th></th>\n",
              "      <th>subdistrict_id</th>\n",
              "      <th>subdistrict_name_en</th>\n",
              "      <th>subdistrict_name_th</th>\n",
              "      <th>district_id</th>\n",
              "      <th>district_name_en</th>\n",
              "      <th>district_name_th</th>\n",
              "      <th>province_id</th>\n",
              "      <th>province_name_en</th>\n",
              "      <th>province_name_th</th>\n",
              "      <th>walk_leisure</th>\n",
              "      <th>...</th>\n",
              "      <th>access_boat</th>\n",
              "      <th>access_bus</th>\n",
              "      <th>access_train</th>\n",
              "      <th>access_total</th>\n",
              "      <th>drive_leisure</th>\n",
              "      <th>drive_public_service</th>\n",
              "      <th>drive_school</th>\n",
              "      <th>drive_shopping</th>\n",
              "      <th>drive_work</th>\n",
              "      <th>drive_total</th>\n",
              "    </tr>\n",
              "  </thead>\n",
              "  <tbody>\n",
              "    <tr>\n",
              "      <th>0</th>\n",
              "      <td>3410</td>\n",
              "      <td>SANO LOI</td>\n",
              "      <td>โสนลอย</td>\n",
              "      <td>3402</td>\n",
              "      <td>BANG BUA THONG</td>\n",
              "      <td>บางบัวทอง</td>\n",
              "      <td>3372</td>\n",
              "      <td>Nonthaburi</td>\n",
              "      <td>นนทบุรี</td>\n",
              "      <td>96.0</td>\n",
              "      <td>...</td>\n",
              "      <td>98.0</td>\n",
              "      <td>100.0</td>\n",
              "      <td>1.0</td>\n",
              "      <td>79.0</td>\n",
              "      <td>100.0</td>\n",
              "      <td>100.0</td>\n",
              "      <td>100.0</td>\n",
              "      <td>100.0</td>\n",
              "      <td>100.0</td>\n",
              "      <td>100.0</td>\n",
              "    </tr>\n",
              "    <tr>\n",
              "      <th>1</th>\n",
              "      <td>3976</td>\n",
              "      <td>TALAT NOI</td>\n",
              "      <td>ตลาดน้อย</td>\n",
              "      <td>3973</td>\n",
              "      <td>SAMPHANTHAWONG</td>\n",
              "      <td>สัมพันธวงศ์</td>\n",
              "      <td>3781</td>\n",
              "      <td>Bangkok</td>\n",
              "      <td>กรุงเทพมหานคร</td>\n",
              "      <td>100.0</td>\n",
              "      <td>...</td>\n",
              "      <td>100.0</td>\n",
              "      <td>100.0</td>\n",
              "      <td>100.0</td>\n",
              "      <td>100.0</td>\n",
              "      <td>100.0</td>\n",
              "      <td>87.0</td>\n",
              "      <td>100.0</td>\n",
              "      <td>100.0</td>\n",
              "      <td>100.0</td>\n",
              "      <td>99.0</td>\n",
              "    </tr>\n",
              "    <tr>\n",
              "      <th>2</th>\n",
              "      <td>4669</td>\n",
              "      <td>BAN KAO</td>\n",
              "      <td>บ้านเก่า</td>\n",
              "      <td>4663</td>\n",
              "      <td>PHAN THONG</td>\n",
              "      <td>พานทอง</td>\n",
              "      <td>4616</td>\n",
              "      <td>Chon Buri</td>\n",
              "      <td>ชลบุรี</td>\n",
              "      <td>7.0</td>\n",
              "      <td>...</td>\n",
              "      <td>0.0</td>\n",
              "      <td>0.0</td>\n",
              "      <td>0.0</td>\n",
              "      <td>0.0</td>\n",
              "      <td>79.0</td>\n",
              "      <td>91.0</td>\n",
              "      <td>86.0</td>\n",
              "      <td>84.0</td>\n",
              "      <td>93.0</td>\n",
              "      <td>85.0</td>\n",
              "    </tr>\n",
              "    <tr>\n",
              "      <th>3</th>\n",
              "      <td>2647</td>\n",
              "      <td>BAN THUM</td>\n",
              "      <td>บ้านทุ่ม</td>\n",
              "      <td>2638</td>\n",
              "      <td>MUEANG KHON KAEN</td>\n",
              "      <td>เมืองขอนแก่น</td>\n",
              "      <td>2637</td>\n",
              "      <td>Khon Kaen</td>\n",
              "      <td>ขอนแก่น</td>\n",
              "      <td>11.0</td>\n",
              "      <td>...</td>\n",
              "      <td>0.0</td>\n",
              "      <td>0.0</td>\n",
              "      <td>0.0</td>\n",
              "      <td>0.0</td>\n",
              "      <td>73.0</td>\n",
              "      <td>65.0</td>\n",
              "      <td>73.0</td>\n",
              "      <td>57.0</td>\n",
              "      <td>47.0</td>\n",
              "      <td>62.0</td>\n",
              "    </tr>\n",
              "    <tr>\n",
              "      <th>4</th>\n",
              "      <td>3799</td>\n",
              "      <td>RAM INTHRA</td>\n",
              "      <td>รามอินทรา</td>\n",
              "      <td>3797</td>\n",
              "      <td>KHAN NA YAO</td>\n",
              "      <td>คันนายาว</td>\n",
              "      <td>3781</td>\n",
              "      <td>Bangkok</td>\n",
              "      <td>กรุงเทพมหานคร</td>\n",
              "      <td>89.0</td>\n",
              "      <td>...</td>\n",
              "      <td>1.0</td>\n",
              "      <td>94.0</td>\n",
              "      <td>5.0</td>\n",
              "      <td>39.0</td>\n",
              "      <td>99.0</td>\n",
              "      <td>61.0</td>\n",
              "      <td>99.0</td>\n",
              "      <td>90.0</td>\n",
              "      <td>84.0</td>\n",
              "      <td>89.0</td>\n",
              "    </tr>\n",
              "  </tbody>\n",
              "</table>\n",
              "<p>5 rows × 25 columns</p>\n",
              "</div>\n",
              "      <button class=\"colab-df-convert\" onclick=\"convertToInteractive('df-9ea2fd6c-f6da-43b3-96a0-e1ebf5f4c38e')\"\n",
              "              title=\"Convert this dataframe to an interactive table.\"\n",
              "              style=\"display:none;\">\n",
              "        \n",
              "  <svg xmlns=\"http://www.w3.org/2000/svg\" height=\"24px\"viewBox=\"0 0 24 24\"\n",
              "       width=\"24px\">\n",
              "    <path d=\"M0 0h24v24H0V0z\" fill=\"none\"/>\n",
              "    <path d=\"M18.56 5.44l.94 2.06.94-2.06 2.06-.94-2.06-.94-.94-2.06-.94 2.06-2.06.94zm-11 1L8.5 8.5l.94-2.06 2.06-.94-2.06-.94L8.5 2.5l-.94 2.06-2.06.94zm10 10l.94 2.06.94-2.06 2.06-.94-2.06-.94-.94-2.06-.94 2.06-2.06.94z\"/><path d=\"M17.41 7.96l-1.37-1.37c-.4-.4-.92-.59-1.43-.59-.52 0-1.04.2-1.43.59L10.3 9.45l-7.72 7.72c-.78.78-.78 2.05 0 2.83L4 21.41c.39.39.9.59 1.41.59.51 0 1.02-.2 1.41-.59l7.78-7.78 2.81-2.81c.8-.78.8-2.07 0-2.86zM5.41 20L4 18.59l7.72-7.72 1.47 1.35L5.41 20z\"/>\n",
              "  </svg>\n",
              "      </button>\n",
              "      \n",
              "  <style>\n",
              "    .colab-df-container {\n",
              "      display:flex;\n",
              "      flex-wrap:wrap;\n",
              "      gap: 12px;\n",
              "    }\n",
              "\n",
              "    .colab-df-convert {\n",
              "      background-color: #E8F0FE;\n",
              "      border: none;\n",
              "      border-radius: 50%;\n",
              "      cursor: pointer;\n",
              "      display: none;\n",
              "      fill: #1967D2;\n",
              "      height: 32px;\n",
              "      padding: 0 0 0 0;\n",
              "      width: 32px;\n",
              "    }\n",
              "\n",
              "    .colab-df-convert:hover {\n",
              "      background-color: #E2EBFA;\n",
              "      box-shadow: 0px 1px 2px rgba(60, 64, 67, 0.3), 0px 1px 3px 1px rgba(60, 64, 67, 0.15);\n",
              "      fill: #174EA6;\n",
              "    }\n",
              "\n",
              "    [theme=dark] .colab-df-convert {\n",
              "      background-color: #3B4455;\n",
              "      fill: #D2E3FC;\n",
              "    }\n",
              "\n",
              "    [theme=dark] .colab-df-convert:hover {\n",
              "      background-color: #434B5C;\n",
              "      box-shadow: 0px 1px 3px 1px rgba(0, 0, 0, 0.15);\n",
              "      filter: drop-shadow(0px 1px 2px rgba(0, 0, 0, 0.3));\n",
              "      fill: #FFFFFF;\n",
              "    }\n",
              "  </style>\n",
              "\n",
              "      <script>\n",
              "        const buttonEl =\n",
              "          document.querySelector('#df-9ea2fd6c-f6da-43b3-96a0-e1ebf5f4c38e button.colab-df-convert');\n",
              "        buttonEl.style.display =\n",
              "          google.colab.kernel.accessAllowed ? 'block' : 'none';\n",
              "\n",
              "        async function convertToInteractive(key) {\n",
              "          const element = document.querySelector('#df-9ea2fd6c-f6da-43b3-96a0-e1ebf5f4c38e');\n",
              "          const dataTable =\n",
              "            await google.colab.kernel.invokeFunction('convertToInteractive',\n",
              "                                                     [key], {});\n",
              "          if (!dataTable) return;\n",
              "\n",
              "          const docLinkHtml = 'Like what you see? Visit the ' +\n",
              "            '<a target=\"_blank\" href=https://colab.research.google.com/notebooks/data_table.ipynb>data table notebook</a>'\n",
              "            + ' to learn more about interactive tables.';\n",
              "          element.innerHTML = '';\n",
              "          dataTable['output_type'] = 'display_data';\n",
              "          await google.colab.output.renderOutput(dataTable, element);\n",
              "          const docLink = document.createElement('div');\n",
              "          docLink.innerHTML = docLinkHtml;\n",
              "          element.appendChild(docLink);\n",
              "        }\n",
              "      </script>\n",
              "    </div>\n",
              "  </div>\n",
              "  "
            ]
          },
          "metadata": {},
          "execution_count": 138
        }
      ]
    },
    {
      "cell_type": "markdown",
      "source": [
        "### Missing/Null Checking"
      ],
      "metadata": {
        "id": "zGgeIUUpstqq"
      }
    },
    {
      "cell_type": "code",
      "source": [
        "opendata_living_score.isnull().any()"
      ],
      "metadata": {
        "colab": {
          "base_uri": "https://localhost:8080/"
        },
        "id": "KmoDPmO9sq5B",
        "outputId": "98cbe0f8-e9af-44fb-d172-5adb9d207da0"
      },
      "execution_count": 139,
      "outputs": [
        {
          "output_type": "execute_result",
          "data": {
            "text/plain": [
              "subdistrict_id          False\n",
              "subdistrict_name_en     False\n",
              "subdistrict_name_th     False\n",
              "district_id             False\n",
              "district_name_en        False\n",
              "district_name_th        False\n",
              "province_id             False\n",
              "province_name_en        False\n",
              "province_name_th        False\n",
              "walk_leisure            False\n",
              "walk_public_service     False\n",
              "walk_school             False\n",
              "walk_shopping           False\n",
              "walk_work               False\n",
              "walk_total              False\n",
              "access_boat             False\n",
              "access_bus              False\n",
              "access_train            False\n",
              "access_total            False\n",
              "drive_leisure           False\n",
              "drive_public_service    False\n",
              "drive_school            False\n",
              "drive_shopping          False\n",
              "drive_work              False\n",
              "drive_total             False\n",
              "dtype: bool"
            ]
          },
          "metadata": {},
          "execution_count": 139
        }
      ]
    },
    {
      "cell_type": "markdown",
      "source": [
        "### Check data type"
      ],
      "metadata": {
        "id": "rujh7EoVygfv"
      }
    },
    {
      "cell_type": "code",
      "source": [
        "opendata_living_score.dtypes "
      ],
      "metadata": {
        "colab": {
          "base_uri": "https://localhost:8080/"
        },
        "id": "N_2ueQBeyhnz",
        "outputId": "a79e5b2e-23c3-4c5f-afbb-92cf49bc4365"
      },
      "execution_count": 140,
      "outputs": [
        {
          "output_type": "execute_result",
          "data": {
            "text/plain": [
              "subdistrict_id            int64\n",
              "subdistrict_name_en      object\n",
              "subdistrict_name_th      object\n",
              "district_id               int64\n",
              "district_name_en         object\n",
              "district_name_th         object\n",
              "province_id               int64\n",
              "province_name_en         object\n",
              "province_name_th         object\n",
              "walk_leisure            float64\n",
              "walk_public_service     float64\n",
              "walk_school             float64\n",
              "walk_shopping           float64\n",
              "walk_work               float64\n",
              "walk_total              float64\n",
              "access_boat             float64\n",
              "access_bus              float64\n",
              "access_train            float64\n",
              "access_total            float64\n",
              "drive_leisure           float64\n",
              "drive_public_service    float64\n",
              "drive_school            float64\n",
              "drive_shopping          float64\n",
              "drive_work              float64\n",
              "drive_total             float64\n",
              "dtype: object"
            ]
          },
          "metadata": {},
          "execution_count": 140
        }
      ]
    },
    {
      "cell_type": "code",
      "source": [
        "# save data\n",
        "opendata_living_score.to_csv('opendata_living_score_clean.csv', index=False)"
      ],
      "metadata": {
        "id": "qypNvpyMswFQ"
      },
      "execution_count": 141,
      "outputs": []
    },
    {
      "cell_type": "markdown",
      "source": [
        "## 📑opendata_volume_listing_rent table"
      ],
      "metadata": {
        "id": "CI_w6pgSioe5"
      }
    },
    {
      "cell_type": "code",
      "source": [
        "opendata_volume_listing_rent = pd.read_csv('opendata_volume_listing_rent.csv')\n",
        "print(opendata_volume_listing_rent.shape) \n",
        "opendata_volume_listing_rent.head(3)"
      ],
      "metadata": {
        "colab": {
          "base_uri": "https://localhost:8080/",
          "height": 278
        },
        "id": "S60ZRkXJi4Xe",
        "outputId": "3d2994a7-c2ca-44bb-8de9-73d5f506770b"
      },
      "execution_count": 142,
      "outputs": [
        {
          "output_type": "stream",
          "name": "stdout",
          "text": [
            "(1919, 11)\n"
          ]
        },
        {
          "output_type": "execute_result",
          "data": {
            "text/plain": [
              "   row_number  transction_year  transction_month listing_province_name_th  \\\n",
              "0        1841             2021                 3              สมุทรปราการ   \n",
              "1         416             2021                 7            กรุงเทพมหานคร   \n",
              "2        1745             2021                11            กรุงเทพมหานคร   \n",
              "\n",
              "  listing_province_name_en listing_district_name_th listing_district_name_en  \\\n",
              "0             SAMUT PRAKAN                   บางพลี                BANG PHLI   \n",
              "1                  BANGKOK               บางกอกน้อย              BANGKOK NOI   \n",
              "2                  BANGKOK                  ยานนาวา                 YAN NAWA   \n",
              "\n",
              "  project_propertytype_name_th project_propertytype_name_en  volume_of_rental  \\\n",
              "0                     ทาวน์โฮม                     Townhome                18   \n",
              "1                        คอนโด                        Condo                32   \n",
              "2                     ทาวน์โฮม                     Townhome                11   \n",
              "\n",
              "          day  \n",
              "0  2022-09-30  \n",
              "1  2022-09-30  \n",
              "2  2022-09-30  "
            ],
            "text/html": [
              "\n",
              "  <div id=\"df-044d5199-d680-41fc-825d-8427526cc35b\">\n",
              "    <div class=\"colab-df-container\">\n",
              "      <div>\n",
              "<style scoped>\n",
              "    .dataframe tbody tr th:only-of-type {\n",
              "        vertical-align: middle;\n",
              "    }\n",
              "\n",
              "    .dataframe tbody tr th {\n",
              "        vertical-align: top;\n",
              "    }\n",
              "\n",
              "    .dataframe thead th {\n",
              "        text-align: right;\n",
              "    }\n",
              "</style>\n",
              "<table border=\"1\" class=\"dataframe\">\n",
              "  <thead>\n",
              "    <tr style=\"text-align: right;\">\n",
              "      <th></th>\n",
              "      <th>row_number</th>\n",
              "      <th>transction_year</th>\n",
              "      <th>transction_month</th>\n",
              "      <th>listing_province_name_th</th>\n",
              "      <th>listing_province_name_en</th>\n",
              "      <th>listing_district_name_th</th>\n",
              "      <th>listing_district_name_en</th>\n",
              "      <th>project_propertytype_name_th</th>\n",
              "      <th>project_propertytype_name_en</th>\n",
              "      <th>volume_of_rental</th>\n",
              "      <th>day</th>\n",
              "    </tr>\n",
              "  </thead>\n",
              "  <tbody>\n",
              "    <tr>\n",
              "      <th>0</th>\n",
              "      <td>1841</td>\n",
              "      <td>2021</td>\n",
              "      <td>3</td>\n",
              "      <td>สมุทรปราการ</td>\n",
              "      <td>SAMUT PRAKAN</td>\n",
              "      <td>บางพลี</td>\n",
              "      <td>BANG PHLI</td>\n",
              "      <td>ทาวน์โฮม</td>\n",
              "      <td>Townhome</td>\n",
              "      <td>18</td>\n",
              "      <td>2022-09-30</td>\n",
              "    </tr>\n",
              "    <tr>\n",
              "      <th>1</th>\n",
              "      <td>416</td>\n",
              "      <td>2021</td>\n",
              "      <td>7</td>\n",
              "      <td>กรุงเทพมหานคร</td>\n",
              "      <td>BANGKOK</td>\n",
              "      <td>บางกอกน้อย</td>\n",
              "      <td>BANGKOK NOI</td>\n",
              "      <td>คอนโด</td>\n",
              "      <td>Condo</td>\n",
              "      <td>32</td>\n",
              "      <td>2022-09-30</td>\n",
              "    </tr>\n",
              "    <tr>\n",
              "      <th>2</th>\n",
              "      <td>1745</td>\n",
              "      <td>2021</td>\n",
              "      <td>11</td>\n",
              "      <td>กรุงเทพมหานคร</td>\n",
              "      <td>BANGKOK</td>\n",
              "      <td>ยานนาวา</td>\n",
              "      <td>YAN NAWA</td>\n",
              "      <td>ทาวน์โฮม</td>\n",
              "      <td>Townhome</td>\n",
              "      <td>11</td>\n",
              "      <td>2022-09-30</td>\n",
              "    </tr>\n",
              "  </tbody>\n",
              "</table>\n",
              "</div>\n",
              "      <button class=\"colab-df-convert\" onclick=\"convertToInteractive('df-044d5199-d680-41fc-825d-8427526cc35b')\"\n",
              "              title=\"Convert this dataframe to an interactive table.\"\n",
              "              style=\"display:none;\">\n",
              "        \n",
              "  <svg xmlns=\"http://www.w3.org/2000/svg\" height=\"24px\"viewBox=\"0 0 24 24\"\n",
              "       width=\"24px\">\n",
              "    <path d=\"M0 0h24v24H0V0z\" fill=\"none\"/>\n",
              "    <path d=\"M18.56 5.44l.94 2.06.94-2.06 2.06-.94-2.06-.94-.94-2.06-.94 2.06-2.06.94zm-11 1L8.5 8.5l.94-2.06 2.06-.94-2.06-.94L8.5 2.5l-.94 2.06-2.06.94zm10 10l.94 2.06.94-2.06 2.06-.94-2.06-.94-.94-2.06-.94 2.06-2.06.94z\"/><path d=\"M17.41 7.96l-1.37-1.37c-.4-.4-.92-.59-1.43-.59-.52 0-1.04.2-1.43.59L10.3 9.45l-7.72 7.72c-.78.78-.78 2.05 0 2.83L4 21.41c.39.39.9.59 1.41.59.51 0 1.02-.2 1.41-.59l7.78-7.78 2.81-2.81c.8-.78.8-2.07 0-2.86zM5.41 20L4 18.59l7.72-7.72 1.47 1.35L5.41 20z\"/>\n",
              "  </svg>\n",
              "      </button>\n",
              "      \n",
              "  <style>\n",
              "    .colab-df-container {\n",
              "      display:flex;\n",
              "      flex-wrap:wrap;\n",
              "      gap: 12px;\n",
              "    }\n",
              "\n",
              "    .colab-df-convert {\n",
              "      background-color: #E8F0FE;\n",
              "      border: none;\n",
              "      border-radius: 50%;\n",
              "      cursor: pointer;\n",
              "      display: none;\n",
              "      fill: #1967D2;\n",
              "      height: 32px;\n",
              "      padding: 0 0 0 0;\n",
              "      width: 32px;\n",
              "    }\n",
              "\n",
              "    .colab-df-convert:hover {\n",
              "      background-color: #E2EBFA;\n",
              "      box-shadow: 0px 1px 2px rgba(60, 64, 67, 0.3), 0px 1px 3px 1px rgba(60, 64, 67, 0.15);\n",
              "      fill: #174EA6;\n",
              "    }\n",
              "\n",
              "    [theme=dark] .colab-df-convert {\n",
              "      background-color: #3B4455;\n",
              "      fill: #D2E3FC;\n",
              "    }\n",
              "\n",
              "    [theme=dark] .colab-df-convert:hover {\n",
              "      background-color: #434B5C;\n",
              "      box-shadow: 0px 1px 3px 1px rgba(0, 0, 0, 0.15);\n",
              "      filter: drop-shadow(0px 1px 2px rgba(0, 0, 0, 0.3));\n",
              "      fill: #FFFFFF;\n",
              "    }\n",
              "  </style>\n",
              "\n",
              "      <script>\n",
              "        const buttonEl =\n",
              "          document.querySelector('#df-044d5199-d680-41fc-825d-8427526cc35b button.colab-df-convert');\n",
              "        buttonEl.style.display =\n",
              "          google.colab.kernel.accessAllowed ? 'block' : 'none';\n",
              "\n",
              "        async function convertToInteractive(key) {\n",
              "          const element = document.querySelector('#df-044d5199-d680-41fc-825d-8427526cc35b');\n",
              "          const dataTable =\n",
              "            await google.colab.kernel.invokeFunction('convertToInteractive',\n",
              "                                                     [key], {});\n",
              "          if (!dataTable) return;\n",
              "\n",
              "          const docLinkHtml = 'Like what you see? Visit the ' +\n",
              "            '<a target=\"_blank\" href=https://colab.research.google.com/notebooks/data_table.ipynb>data table notebook</a>'\n",
              "            + ' to learn more about interactive tables.';\n",
              "          element.innerHTML = '';\n",
              "          dataTable['output_type'] = 'display_data';\n",
              "          await google.colab.output.renderOutput(dataTable, element);\n",
              "          const docLink = document.createElement('div');\n",
              "          docLink.innerHTML = docLinkHtml;\n",
              "          element.appendChild(docLink);\n",
              "        }\n",
              "      </script>\n",
              "    </div>\n",
              "  </div>\n",
              "  "
            ]
          },
          "metadata": {},
          "execution_count": 142
        }
      ]
    },
    {
      "cell_type": "markdown",
      "source": [
        "### Select columns"
      ],
      "metadata": {
        "id": "ME4oZfIzjB5r"
      }
    },
    {
      "cell_type": "code",
      "source": [
        "opendata_volume_listing_rent.columns"
      ],
      "metadata": {
        "colab": {
          "base_uri": "https://localhost:8080/"
        },
        "id": "3HjRqUJqioLe",
        "outputId": "914246df-55c8-4782-f712-ca35a0b73427"
      },
      "execution_count": 143,
      "outputs": [
        {
          "output_type": "execute_result",
          "data": {
            "text/plain": [
              "Index(['row_number', 'transction_year', 'transction_month',\n",
              "       'listing_province_name_th', 'listing_province_name_en',\n",
              "       'listing_district_name_th', 'listing_district_name_en',\n",
              "       'project_propertytype_name_th', 'project_propertytype_name_en',\n",
              "       'volume_of_rental', 'day'],\n",
              "      dtype='object')"
            ]
          },
          "metadata": {},
          "execution_count": 143
        }
      ]
    },
    {
      "cell_type": "code",
      "source": [
        "opendata_volume_listing_rent = opendata_volume_listing_rent[['listing_province_name_th', 'listing_province_name_en',\n",
        "       'listing_district_name_th', 'listing_district_name_en',\n",
        "       'project_propertytype_name_th', 'project_propertytype_name_en',\n",
        "       'volume_of_rental']]\n",
        "opendata_volume_listing_rent.head()"
      ],
      "metadata": {
        "colab": {
          "base_uri": "https://localhost:8080/",
          "height": 270
        },
        "id": "LwxEPS16jTJL",
        "outputId": "0e5b1dc1-fb62-4bc0-f90c-9b27b7969fee"
      },
      "execution_count": 144,
      "outputs": [
        {
          "output_type": "execute_result",
          "data": {
            "text/plain": [
              "  listing_province_name_th listing_province_name_en listing_district_name_th  \\\n",
              "0              สมุทรปราการ             SAMUT PRAKAN                   บางพลี   \n",
              "1            กรุงเทพมหานคร                  BANGKOK               บางกอกน้อย   \n",
              "2            กรุงเทพมหานคร                  BANGKOK                  ยานนาวา   \n",
              "3              สมุทรปราการ             SAMUT PRAKAN                 บางเสาธง   \n",
              "4                  นนทบุรี               NONTHABURI                บางบัวทอง   \n",
              "\n",
              "  listing_district_name_en project_propertytype_name_th  \\\n",
              "0                BANG PHLI                     ทาวน์โฮม   \n",
              "1              BANGKOK NOI                        คอนโด   \n",
              "2                 YAN NAWA                     ทาวน์โฮม   \n",
              "3           BANG SAO THONG                        คอนโด   \n",
              "4           BANG BUA THONG                        คอนโด   \n",
              "\n",
              "  project_propertytype_name_en  volume_of_rental  \n",
              "0                     Townhome                18  \n",
              "1                        Condo                32  \n",
              "2                     Townhome                11  \n",
              "3                        Condo                21  \n",
              "4                        Condo                37  "
            ],
            "text/html": [
              "\n",
              "  <div id=\"df-a132c6b2-1025-48b2-963b-9e0abc00a9a9\">\n",
              "    <div class=\"colab-df-container\">\n",
              "      <div>\n",
              "<style scoped>\n",
              "    .dataframe tbody tr th:only-of-type {\n",
              "        vertical-align: middle;\n",
              "    }\n",
              "\n",
              "    .dataframe tbody tr th {\n",
              "        vertical-align: top;\n",
              "    }\n",
              "\n",
              "    .dataframe thead th {\n",
              "        text-align: right;\n",
              "    }\n",
              "</style>\n",
              "<table border=\"1\" class=\"dataframe\">\n",
              "  <thead>\n",
              "    <tr style=\"text-align: right;\">\n",
              "      <th></th>\n",
              "      <th>listing_province_name_th</th>\n",
              "      <th>listing_province_name_en</th>\n",
              "      <th>listing_district_name_th</th>\n",
              "      <th>listing_district_name_en</th>\n",
              "      <th>project_propertytype_name_th</th>\n",
              "      <th>project_propertytype_name_en</th>\n",
              "      <th>volume_of_rental</th>\n",
              "    </tr>\n",
              "  </thead>\n",
              "  <tbody>\n",
              "    <tr>\n",
              "      <th>0</th>\n",
              "      <td>สมุทรปราการ</td>\n",
              "      <td>SAMUT PRAKAN</td>\n",
              "      <td>บางพลี</td>\n",
              "      <td>BANG PHLI</td>\n",
              "      <td>ทาวน์โฮม</td>\n",
              "      <td>Townhome</td>\n",
              "      <td>18</td>\n",
              "    </tr>\n",
              "    <tr>\n",
              "      <th>1</th>\n",
              "      <td>กรุงเทพมหานคร</td>\n",
              "      <td>BANGKOK</td>\n",
              "      <td>บางกอกน้อย</td>\n",
              "      <td>BANGKOK NOI</td>\n",
              "      <td>คอนโด</td>\n",
              "      <td>Condo</td>\n",
              "      <td>32</td>\n",
              "    </tr>\n",
              "    <tr>\n",
              "      <th>2</th>\n",
              "      <td>กรุงเทพมหานคร</td>\n",
              "      <td>BANGKOK</td>\n",
              "      <td>ยานนาวา</td>\n",
              "      <td>YAN NAWA</td>\n",
              "      <td>ทาวน์โฮม</td>\n",
              "      <td>Townhome</td>\n",
              "      <td>11</td>\n",
              "    </tr>\n",
              "    <tr>\n",
              "      <th>3</th>\n",
              "      <td>สมุทรปราการ</td>\n",
              "      <td>SAMUT PRAKAN</td>\n",
              "      <td>บางเสาธง</td>\n",
              "      <td>BANG SAO THONG</td>\n",
              "      <td>คอนโด</td>\n",
              "      <td>Condo</td>\n",
              "      <td>21</td>\n",
              "    </tr>\n",
              "    <tr>\n",
              "      <th>4</th>\n",
              "      <td>นนทบุรี</td>\n",
              "      <td>NONTHABURI</td>\n",
              "      <td>บางบัวทอง</td>\n",
              "      <td>BANG BUA THONG</td>\n",
              "      <td>คอนโด</td>\n",
              "      <td>Condo</td>\n",
              "      <td>37</td>\n",
              "    </tr>\n",
              "  </tbody>\n",
              "</table>\n",
              "</div>\n",
              "      <button class=\"colab-df-convert\" onclick=\"convertToInteractive('df-a132c6b2-1025-48b2-963b-9e0abc00a9a9')\"\n",
              "              title=\"Convert this dataframe to an interactive table.\"\n",
              "              style=\"display:none;\">\n",
              "        \n",
              "  <svg xmlns=\"http://www.w3.org/2000/svg\" height=\"24px\"viewBox=\"0 0 24 24\"\n",
              "       width=\"24px\">\n",
              "    <path d=\"M0 0h24v24H0V0z\" fill=\"none\"/>\n",
              "    <path d=\"M18.56 5.44l.94 2.06.94-2.06 2.06-.94-2.06-.94-.94-2.06-.94 2.06-2.06.94zm-11 1L8.5 8.5l.94-2.06 2.06-.94-2.06-.94L8.5 2.5l-.94 2.06-2.06.94zm10 10l.94 2.06.94-2.06 2.06-.94-2.06-.94-.94-2.06-.94 2.06-2.06.94z\"/><path d=\"M17.41 7.96l-1.37-1.37c-.4-.4-.92-.59-1.43-.59-.52 0-1.04.2-1.43.59L10.3 9.45l-7.72 7.72c-.78.78-.78 2.05 0 2.83L4 21.41c.39.39.9.59 1.41.59.51 0 1.02-.2 1.41-.59l7.78-7.78 2.81-2.81c.8-.78.8-2.07 0-2.86zM5.41 20L4 18.59l7.72-7.72 1.47 1.35L5.41 20z\"/>\n",
              "  </svg>\n",
              "      </button>\n",
              "      \n",
              "  <style>\n",
              "    .colab-df-container {\n",
              "      display:flex;\n",
              "      flex-wrap:wrap;\n",
              "      gap: 12px;\n",
              "    }\n",
              "\n",
              "    .colab-df-convert {\n",
              "      background-color: #E8F0FE;\n",
              "      border: none;\n",
              "      border-radius: 50%;\n",
              "      cursor: pointer;\n",
              "      display: none;\n",
              "      fill: #1967D2;\n",
              "      height: 32px;\n",
              "      padding: 0 0 0 0;\n",
              "      width: 32px;\n",
              "    }\n",
              "\n",
              "    .colab-df-convert:hover {\n",
              "      background-color: #E2EBFA;\n",
              "      box-shadow: 0px 1px 2px rgba(60, 64, 67, 0.3), 0px 1px 3px 1px rgba(60, 64, 67, 0.15);\n",
              "      fill: #174EA6;\n",
              "    }\n",
              "\n",
              "    [theme=dark] .colab-df-convert {\n",
              "      background-color: #3B4455;\n",
              "      fill: #D2E3FC;\n",
              "    }\n",
              "\n",
              "    [theme=dark] .colab-df-convert:hover {\n",
              "      background-color: #434B5C;\n",
              "      box-shadow: 0px 1px 3px 1px rgba(0, 0, 0, 0.15);\n",
              "      filter: drop-shadow(0px 1px 2px rgba(0, 0, 0, 0.3));\n",
              "      fill: #FFFFFF;\n",
              "    }\n",
              "  </style>\n",
              "\n",
              "      <script>\n",
              "        const buttonEl =\n",
              "          document.querySelector('#df-a132c6b2-1025-48b2-963b-9e0abc00a9a9 button.colab-df-convert');\n",
              "        buttonEl.style.display =\n",
              "          google.colab.kernel.accessAllowed ? 'block' : 'none';\n",
              "\n",
              "        async function convertToInteractive(key) {\n",
              "          const element = document.querySelector('#df-a132c6b2-1025-48b2-963b-9e0abc00a9a9');\n",
              "          const dataTable =\n",
              "            await google.colab.kernel.invokeFunction('convertToInteractive',\n",
              "                                                     [key], {});\n",
              "          if (!dataTable) return;\n",
              "\n",
              "          const docLinkHtml = 'Like what you see? Visit the ' +\n",
              "            '<a target=\"_blank\" href=https://colab.research.google.com/notebooks/data_table.ipynb>data table notebook</a>'\n",
              "            + ' to learn more about interactive tables.';\n",
              "          element.innerHTML = '';\n",
              "          dataTable['output_type'] = 'display_data';\n",
              "          await google.colab.output.renderOutput(dataTable, element);\n",
              "          const docLink = document.createElement('div');\n",
              "          docLink.innerHTML = docLinkHtml;\n",
              "          element.appendChild(docLink);\n",
              "        }\n",
              "      </script>\n",
              "    </div>\n",
              "  </div>\n",
              "  "
            ]
          },
          "metadata": {},
          "execution_count": 144
        }
      ]
    },
    {
      "cell_type": "markdown",
      "source": [
        "### Missing/Null Checking"
      ],
      "metadata": {
        "id": "TXKHpg9Mjehw"
      }
    },
    {
      "cell_type": "code",
      "source": [
        "opendata_volume_listing_rent.isnull().any()"
      ],
      "metadata": {
        "colab": {
          "base_uri": "https://localhost:8080/"
        },
        "id": "_pDIQ_XLjeTr",
        "outputId": "9af7a2ec-e98b-43cc-bd86-6bee2e4c2784"
      },
      "execution_count": 145,
      "outputs": [
        {
          "output_type": "execute_result",
          "data": {
            "text/plain": [
              "listing_province_name_th        False\n",
              "listing_province_name_en        False\n",
              "listing_district_name_th        False\n",
              "listing_district_name_en        False\n",
              "project_propertytype_name_th    False\n",
              "project_propertytype_name_en    False\n",
              "volume_of_rental                False\n",
              "dtype: bool"
            ]
          },
          "metadata": {},
          "execution_count": 145
        }
      ]
    },
    {
      "cell_type": "markdown",
      "source": [
        "### Check data type"
      ],
      "metadata": {
        "id": "EiAza1TujmuE"
      }
    },
    {
      "cell_type": "code",
      "source": [
        "opendata_volume_listing_rent.dtypes"
      ],
      "metadata": {
        "colab": {
          "base_uri": "https://localhost:8080/"
        },
        "id": "kkLHOn13jniB",
        "outputId": "e29d835d-6f8b-4894-e244-28508444fc69"
      },
      "execution_count": 146,
      "outputs": [
        {
          "output_type": "execute_result",
          "data": {
            "text/plain": [
              "listing_province_name_th        object\n",
              "listing_province_name_en        object\n",
              "listing_district_name_th        object\n",
              "listing_district_name_en        object\n",
              "project_propertytype_name_th    object\n",
              "project_propertytype_name_en    object\n",
              "volume_of_rental                 int64\n",
              "dtype: object"
            ]
          },
          "metadata": {},
          "execution_count": 146
        }
      ]
    },
    {
      "cell_type": "code",
      "source": [
        "# save data\n",
        "opendata_volume_listing_rent.to_csv('opendata_volume_listing_rent_clean.csv', index=False)"
      ],
      "metadata": {
        "id": "JqSvAQUHjnvK"
      },
      "execution_count": 147,
      "outputs": []
    },
    {
      "cell_type": "markdown",
      "source": [
        "# 🔗Merge tables"
      ],
      "metadata": {
        "id": "7_b_qLhFtDz1"
      }
    },
    {
      "cell_type": "code",
      "source": [
        "import pandas as pd\n",
        "opendata_project_clean = pd.read_csv('opendata_project_clean.csv')\n",
        "opendata_unittype_clean = pd.read_csv('opendata_unittype_clean.csv') #ตารางหลัก\n",
        "opendata_interest_clean = pd.read_csv('opendata_interest_clean.csv')\n",
        "opendata_living_score_clean = pd.read_csv('opendata_living_score_clean.csv')\n",
        "opendata_volume_listing_rent_clean = pd.read_csv('opendata_volume_listing_rent_clean.csv')"
      ],
      "metadata": {
        "id": "shTsk1E6tYWk"
      },
      "execution_count": 148,
      "outputs": []
    },
    {
      "cell_type": "markdown",
      "source": [
        "## 1] รวมตาราง opendata_unittype_clean เข้ากับ opendata_project_clean\n",
        "\n",
        "*หมายเหตุ* * พิจารณาชื่อคอลัมน์ที่สนใจ หรืออาจซ้อนทับกันก่อนรวมตาราง"
      ],
      "metadata": {
        "id": "2KCj4BfDcwdb"
      }
    },
    {
      "cell_type": "code",
      "source": [
        "opendata_unittype_clean.columns"
      ],
      "metadata": {
        "colab": {
          "base_uri": "https://localhost:8080/"
        },
        "id": "7PLykTSdbwin",
        "outputId": "337c76b7-2354-4e9b-d3df-3c867b457f08"
      },
      "execution_count": 149,
      "outputs": [
        {
          "output_type": "execute_result",
          "data": {
            "text/plain": [
              "Index(['unittype_id', 'project_id', 'name_th', 'propertytype_id',\n",
              "       'propertytype_name_en', 'propertytype_name_th', 'count_airconditioner',\n",
              "       'count_elevator', 'count_floor_internal', 'count_parking',\n",
              "       'count_room_bath', 'count_room_bed', 'count_room_dinning',\n",
              "       'count_room_guest', 'count_room_kitchen', 'count_room_living',\n",
              "       'count_room_maid', 'count_room_storage', 'count_room_utility'],\n",
              "      dtype='object')"
            ]
          },
          "metadata": {},
          "execution_count": 149
        }
      ]
    },
    {
      "cell_type": "code",
      "source": [
        "opendata_project_clean.columns"
      ],
      "metadata": {
        "colab": {
          "base_uri": "https://localhost:8080/"
        },
        "id": "dCfNGnATcR58",
        "outputId": "2c701868-ba54-41f4-8359-c61d2b67c9dd"
      },
      "execution_count": 150,
      "outputs": [
        {
          "output_type": "execute_result",
          "data": {
            "text/plain": [
              "Index(['project_id', 'name_en', 'propertytype_id', 'propertytype_name_en',\n",
              "       'price_min', 'developer_id', 'developer_name_en', 'latitude',\n",
              "       'longitude', 'neighborhood_id', 'neighborhood_name_en',\n",
              "       'subdistrict_id', 'subdistrict_name_en', 'subdistrict_name_th',\n",
              "       'district_id', 'district_name_en', 'district_name_th', 'province_id',\n",
              "       'province_name_en', 'province_name_th', 'zipcode', 'count_elevator',\n",
              "       'count_elevator_service', 'count_floor', 'count_parking', 'count_unit',\n",
              "       'count_unittype', 'facility_clubhouse', 'facility_fitness',\n",
              "       'facility_meeting', 'facility_park', 'facility_playground',\n",
              "       'facility_pool', 'facility_security'],\n",
              "      dtype='object')"
            ]
          },
          "metadata": {},
          "execution_count": 150
        }
      ]
    },
    {
      "cell_type": "code",
      "source": [
        "# select columns \n",
        "opendata_unittype_clean = opendata_unittype_clean[['unittype_id', 'project_id', 'name_th', 'count_airconditioner',\n",
        "       'count_elevator', 'count_floor_internal', 'count_parking',\n",
        "       'count_room_bath', 'count_room_bed', 'count_room_dinning',\n",
        "       'count_room_guest', 'count_room_kitchen', 'count_room_living',\n",
        "       'count_room_maid', 'count_room_storage', 'count_room_utility']]\n",
        "opendata_unittype_clean.head(3)"
      ],
      "metadata": {
        "colab": {
          "base_uri": "https://localhost:8080/",
          "height": 242
        },
        "id": "UTsJojrnmhDV",
        "outputId": "d1c509e1-99c5-47e1-ef39-ea4955681c1f"
      },
      "execution_count": 151,
      "outputs": [
        {
          "output_type": "execute_result",
          "data": {
            "text/plain": [
              "      unittype_id     project_id              name_th  count_airconditioner  \\\n",
              "0  unittype_19988   project_7861            1 Bedroom                   0.0   \n",
              "1  unittype_37037  project_15918  บ้านเดี่ยวชั้นเดียว                   0.0   \n",
              "2  unittype_18897   project_6287               Studio                   0.0   \n",
              "\n",
              "   count_elevator  count_floor_internal  count_parking  count_room_bath  \\\n",
              "0             0.0                   1.0            0.0              1.0   \n",
              "1             0.0                   1.0            1.0              2.0   \n",
              "2             0.0                   1.0            0.0              1.0   \n",
              "\n",
              "   count_room_bed  count_room_dinning  count_room_guest  count_room_kitchen  \\\n",
              "0             1.0                 0.0               0.0                 0.0   \n",
              "1             2.0                 0.0               0.0                 0.0   \n",
              "2             0.0                 0.0               0.0                 0.0   \n",
              "\n",
              "   count_room_living  count_room_maid  count_room_storage  count_room_utility  \n",
              "0                0.0              0.0                 0.0                 0.0  \n",
              "1                0.0              0.0                 0.0                 0.0  \n",
              "2                0.0              0.0                 0.0                 0.0  "
            ],
            "text/html": [
              "\n",
              "  <div id=\"df-52061f2b-40ff-422c-a0f2-1cdcc4dfcfec\">\n",
              "    <div class=\"colab-df-container\">\n",
              "      <div>\n",
              "<style scoped>\n",
              "    .dataframe tbody tr th:only-of-type {\n",
              "        vertical-align: middle;\n",
              "    }\n",
              "\n",
              "    .dataframe tbody tr th {\n",
              "        vertical-align: top;\n",
              "    }\n",
              "\n",
              "    .dataframe thead th {\n",
              "        text-align: right;\n",
              "    }\n",
              "</style>\n",
              "<table border=\"1\" class=\"dataframe\">\n",
              "  <thead>\n",
              "    <tr style=\"text-align: right;\">\n",
              "      <th></th>\n",
              "      <th>unittype_id</th>\n",
              "      <th>project_id</th>\n",
              "      <th>name_th</th>\n",
              "      <th>count_airconditioner</th>\n",
              "      <th>count_elevator</th>\n",
              "      <th>count_floor_internal</th>\n",
              "      <th>count_parking</th>\n",
              "      <th>count_room_bath</th>\n",
              "      <th>count_room_bed</th>\n",
              "      <th>count_room_dinning</th>\n",
              "      <th>count_room_guest</th>\n",
              "      <th>count_room_kitchen</th>\n",
              "      <th>count_room_living</th>\n",
              "      <th>count_room_maid</th>\n",
              "      <th>count_room_storage</th>\n",
              "      <th>count_room_utility</th>\n",
              "    </tr>\n",
              "  </thead>\n",
              "  <tbody>\n",
              "    <tr>\n",
              "      <th>0</th>\n",
              "      <td>unittype_19988</td>\n",
              "      <td>project_7861</td>\n",
              "      <td>1 Bedroom</td>\n",
              "      <td>0.0</td>\n",
              "      <td>0.0</td>\n",
              "      <td>1.0</td>\n",
              "      <td>0.0</td>\n",
              "      <td>1.0</td>\n",
              "      <td>1.0</td>\n",
              "      <td>0.0</td>\n",
              "      <td>0.0</td>\n",
              "      <td>0.0</td>\n",
              "      <td>0.0</td>\n",
              "      <td>0.0</td>\n",
              "      <td>0.0</td>\n",
              "      <td>0.0</td>\n",
              "    </tr>\n",
              "    <tr>\n",
              "      <th>1</th>\n",
              "      <td>unittype_37037</td>\n",
              "      <td>project_15918</td>\n",
              "      <td>บ้านเดี่ยวชั้นเดียว</td>\n",
              "      <td>0.0</td>\n",
              "      <td>0.0</td>\n",
              "      <td>1.0</td>\n",
              "      <td>1.0</td>\n",
              "      <td>2.0</td>\n",
              "      <td>2.0</td>\n",
              "      <td>0.0</td>\n",
              "      <td>0.0</td>\n",
              "      <td>0.0</td>\n",
              "      <td>0.0</td>\n",
              "      <td>0.0</td>\n",
              "      <td>0.0</td>\n",
              "      <td>0.0</td>\n",
              "    </tr>\n",
              "    <tr>\n",
              "      <th>2</th>\n",
              "      <td>unittype_18897</td>\n",
              "      <td>project_6287</td>\n",
              "      <td>Studio</td>\n",
              "      <td>0.0</td>\n",
              "      <td>0.0</td>\n",
              "      <td>1.0</td>\n",
              "      <td>0.0</td>\n",
              "      <td>1.0</td>\n",
              "      <td>0.0</td>\n",
              "      <td>0.0</td>\n",
              "      <td>0.0</td>\n",
              "      <td>0.0</td>\n",
              "      <td>0.0</td>\n",
              "      <td>0.0</td>\n",
              "      <td>0.0</td>\n",
              "      <td>0.0</td>\n",
              "    </tr>\n",
              "  </tbody>\n",
              "</table>\n",
              "</div>\n",
              "      <button class=\"colab-df-convert\" onclick=\"convertToInteractive('df-52061f2b-40ff-422c-a0f2-1cdcc4dfcfec')\"\n",
              "              title=\"Convert this dataframe to an interactive table.\"\n",
              "              style=\"display:none;\">\n",
              "        \n",
              "  <svg xmlns=\"http://www.w3.org/2000/svg\" height=\"24px\"viewBox=\"0 0 24 24\"\n",
              "       width=\"24px\">\n",
              "    <path d=\"M0 0h24v24H0V0z\" fill=\"none\"/>\n",
              "    <path d=\"M18.56 5.44l.94 2.06.94-2.06 2.06-.94-2.06-.94-.94-2.06-.94 2.06-2.06.94zm-11 1L8.5 8.5l.94-2.06 2.06-.94-2.06-.94L8.5 2.5l-.94 2.06-2.06.94zm10 10l.94 2.06.94-2.06 2.06-.94-2.06-.94-.94-2.06-.94 2.06-2.06.94z\"/><path d=\"M17.41 7.96l-1.37-1.37c-.4-.4-.92-.59-1.43-.59-.52 0-1.04.2-1.43.59L10.3 9.45l-7.72 7.72c-.78.78-.78 2.05 0 2.83L4 21.41c.39.39.9.59 1.41.59.51 0 1.02-.2 1.41-.59l7.78-7.78 2.81-2.81c.8-.78.8-2.07 0-2.86zM5.41 20L4 18.59l7.72-7.72 1.47 1.35L5.41 20z\"/>\n",
              "  </svg>\n",
              "      </button>\n",
              "      \n",
              "  <style>\n",
              "    .colab-df-container {\n",
              "      display:flex;\n",
              "      flex-wrap:wrap;\n",
              "      gap: 12px;\n",
              "    }\n",
              "\n",
              "    .colab-df-convert {\n",
              "      background-color: #E8F0FE;\n",
              "      border: none;\n",
              "      border-radius: 50%;\n",
              "      cursor: pointer;\n",
              "      display: none;\n",
              "      fill: #1967D2;\n",
              "      height: 32px;\n",
              "      padding: 0 0 0 0;\n",
              "      width: 32px;\n",
              "    }\n",
              "\n",
              "    .colab-df-convert:hover {\n",
              "      background-color: #E2EBFA;\n",
              "      box-shadow: 0px 1px 2px rgba(60, 64, 67, 0.3), 0px 1px 3px 1px rgba(60, 64, 67, 0.15);\n",
              "      fill: #174EA6;\n",
              "    }\n",
              "\n",
              "    [theme=dark] .colab-df-convert {\n",
              "      background-color: #3B4455;\n",
              "      fill: #D2E3FC;\n",
              "    }\n",
              "\n",
              "    [theme=dark] .colab-df-convert:hover {\n",
              "      background-color: #434B5C;\n",
              "      box-shadow: 0px 1px 3px 1px rgba(0, 0, 0, 0.15);\n",
              "      filter: drop-shadow(0px 1px 2px rgba(0, 0, 0, 0.3));\n",
              "      fill: #FFFFFF;\n",
              "    }\n",
              "  </style>\n",
              "\n",
              "      <script>\n",
              "        const buttonEl =\n",
              "          document.querySelector('#df-52061f2b-40ff-422c-a0f2-1cdcc4dfcfec button.colab-df-convert');\n",
              "        buttonEl.style.display =\n",
              "          google.colab.kernel.accessAllowed ? 'block' : 'none';\n",
              "\n",
              "        async function convertToInteractive(key) {\n",
              "          const element = document.querySelector('#df-52061f2b-40ff-422c-a0f2-1cdcc4dfcfec');\n",
              "          const dataTable =\n",
              "            await google.colab.kernel.invokeFunction('convertToInteractive',\n",
              "                                                     [key], {});\n",
              "          if (!dataTable) return;\n",
              "\n",
              "          const docLinkHtml = 'Like what you see? Visit the ' +\n",
              "            '<a target=\"_blank\" href=https://colab.research.google.com/notebooks/data_table.ipynb>data table notebook</a>'\n",
              "            + ' to learn more about interactive tables.';\n",
              "          element.innerHTML = '';\n",
              "          dataTable['output_type'] = 'display_data';\n",
              "          await google.colab.output.renderOutput(dataTable, element);\n",
              "          const docLink = document.createElement('div');\n",
              "          docLink.innerHTML = docLinkHtml;\n",
              "          element.appendChild(docLink);\n",
              "        }\n",
              "      </script>\n",
              "    </div>\n",
              "  </div>\n",
              "  "
            ]
          },
          "metadata": {},
          "execution_count": 151
        }
      ]
    },
    {
      "cell_type": "code",
      "source": [
        "#พบว่าชื่อ columns ซ้ำกัน\n",
        "# count_parking\n",
        "# count_elevator\n",
        "\n",
        "#เปลี่ยนชื่อ columns\n",
        "opendata_unittype_clean.rename(columns={'count_parking': 'count_parking_unittype', 'count_elevator': 'count_elevator_unittype'}, inplace=True)\n",
        "opendata_unittype_clean.head(3)"
      ],
      "metadata": {
        "colab": {
          "base_uri": "https://localhost:8080/",
          "height": 242
        },
        "id": "BPtFTRHQP15-",
        "outputId": "42adf617-52db-45d2-ae3f-e87384b3503e"
      },
      "execution_count": 152,
      "outputs": [
        {
          "output_type": "execute_result",
          "data": {
            "text/plain": [
              "      unittype_id     project_id              name_th  count_airconditioner  \\\n",
              "0  unittype_19988   project_7861            1 Bedroom                   0.0   \n",
              "1  unittype_37037  project_15918  บ้านเดี่ยวชั้นเดียว                   0.0   \n",
              "2  unittype_18897   project_6287               Studio                   0.0   \n",
              "\n",
              "   count_elevator_unittype  count_floor_internal  count_parking_unittype  \\\n",
              "0                      0.0                   1.0                     0.0   \n",
              "1                      0.0                   1.0                     1.0   \n",
              "2                      0.0                   1.0                     0.0   \n",
              "\n",
              "   count_room_bath  count_room_bed  count_room_dinning  count_room_guest  \\\n",
              "0              1.0             1.0                 0.0               0.0   \n",
              "1              2.0             2.0                 0.0               0.0   \n",
              "2              1.0             0.0                 0.0               0.0   \n",
              "\n",
              "   count_room_kitchen  count_room_living  count_room_maid  count_room_storage  \\\n",
              "0                 0.0                0.0              0.0                 0.0   \n",
              "1                 0.0                0.0              0.0                 0.0   \n",
              "2                 0.0                0.0              0.0                 0.0   \n",
              "\n",
              "   count_room_utility  \n",
              "0                 0.0  \n",
              "1                 0.0  \n",
              "2                 0.0  "
            ],
            "text/html": [
              "\n",
              "  <div id=\"df-f7a13603-2a6a-485d-9afc-c9e206665618\">\n",
              "    <div class=\"colab-df-container\">\n",
              "      <div>\n",
              "<style scoped>\n",
              "    .dataframe tbody tr th:only-of-type {\n",
              "        vertical-align: middle;\n",
              "    }\n",
              "\n",
              "    .dataframe tbody tr th {\n",
              "        vertical-align: top;\n",
              "    }\n",
              "\n",
              "    .dataframe thead th {\n",
              "        text-align: right;\n",
              "    }\n",
              "</style>\n",
              "<table border=\"1\" class=\"dataframe\">\n",
              "  <thead>\n",
              "    <tr style=\"text-align: right;\">\n",
              "      <th></th>\n",
              "      <th>unittype_id</th>\n",
              "      <th>project_id</th>\n",
              "      <th>name_th</th>\n",
              "      <th>count_airconditioner</th>\n",
              "      <th>count_elevator_unittype</th>\n",
              "      <th>count_floor_internal</th>\n",
              "      <th>count_parking_unittype</th>\n",
              "      <th>count_room_bath</th>\n",
              "      <th>count_room_bed</th>\n",
              "      <th>count_room_dinning</th>\n",
              "      <th>count_room_guest</th>\n",
              "      <th>count_room_kitchen</th>\n",
              "      <th>count_room_living</th>\n",
              "      <th>count_room_maid</th>\n",
              "      <th>count_room_storage</th>\n",
              "      <th>count_room_utility</th>\n",
              "    </tr>\n",
              "  </thead>\n",
              "  <tbody>\n",
              "    <tr>\n",
              "      <th>0</th>\n",
              "      <td>unittype_19988</td>\n",
              "      <td>project_7861</td>\n",
              "      <td>1 Bedroom</td>\n",
              "      <td>0.0</td>\n",
              "      <td>0.0</td>\n",
              "      <td>1.0</td>\n",
              "      <td>0.0</td>\n",
              "      <td>1.0</td>\n",
              "      <td>1.0</td>\n",
              "      <td>0.0</td>\n",
              "      <td>0.0</td>\n",
              "      <td>0.0</td>\n",
              "      <td>0.0</td>\n",
              "      <td>0.0</td>\n",
              "      <td>0.0</td>\n",
              "      <td>0.0</td>\n",
              "    </tr>\n",
              "    <tr>\n",
              "      <th>1</th>\n",
              "      <td>unittype_37037</td>\n",
              "      <td>project_15918</td>\n",
              "      <td>บ้านเดี่ยวชั้นเดียว</td>\n",
              "      <td>0.0</td>\n",
              "      <td>0.0</td>\n",
              "      <td>1.0</td>\n",
              "      <td>1.0</td>\n",
              "      <td>2.0</td>\n",
              "      <td>2.0</td>\n",
              "      <td>0.0</td>\n",
              "      <td>0.0</td>\n",
              "      <td>0.0</td>\n",
              "      <td>0.0</td>\n",
              "      <td>0.0</td>\n",
              "      <td>0.0</td>\n",
              "      <td>0.0</td>\n",
              "    </tr>\n",
              "    <tr>\n",
              "      <th>2</th>\n",
              "      <td>unittype_18897</td>\n",
              "      <td>project_6287</td>\n",
              "      <td>Studio</td>\n",
              "      <td>0.0</td>\n",
              "      <td>0.0</td>\n",
              "      <td>1.0</td>\n",
              "      <td>0.0</td>\n",
              "      <td>1.0</td>\n",
              "      <td>0.0</td>\n",
              "      <td>0.0</td>\n",
              "      <td>0.0</td>\n",
              "      <td>0.0</td>\n",
              "      <td>0.0</td>\n",
              "      <td>0.0</td>\n",
              "      <td>0.0</td>\n",
              "      <td>0.0</td>\n",
              "    </tr>\n",
              "  </tbody>\n",
              "</table>\n",
              "</div>\n",
              "      <button class=\"colab-df-convert\" onclick=\"convertToInteractive('df-f7a13603-2a6a-485d-9afc-c9e206665618')\"\n",
              "              title=\"Convert this dataframe to an interactive table.\"\n",
              "              style=\"display:none;\">\n",
              "        \n",
              "  <svg xmlns=\"http://www.w3.org/2000/svg\" height=\"24px\"viewBox=\"0 0 24 24\"\n",
              "       width=\"24px\">\n",
              "    <path d=\"M0 0h24v24H0V0z\" fill=\"none\"/>\n",
              "    <path d=\"M18.56 5.44l.94 2.06.94-2.06 2.06-.94-2.06-.94-.94-2.06-.94 2.06-2.06.94zm-11 1L8.5 8.5l.94-2.06 2.06-.94-2.06-.94L8.5 2.5l-.94 2.06-2.06.94zm10 10l.94 2.06.94-2.06 2.06-.94-2.06-.94-.94-2.06-.94 2.06-2.06.94z\"/><path d=\"M17.41 7.96l-1.37-1.37c-.4-.4-.92-.59-1.43-.59-.52 0-1.04.2-1.43.59L10.3 9.45l-7.72 7.72c-.78.78-.78 2.05 0 2.83L4 21.41c.39.39.9.59 1.41.59.51 0 1.02-.2 1.41-.59l7.78-7.78 2.81-2.81c.8-.78.8-2.07 0-2.86zM5.41 20L4 18.59l7.72-7.72 1.47 1.35L5.41 20z\"/>\n",
              "  </svg>\n",
              "      </button>\n",
              "      \n",
              "  <style>\n",
              "    .colab-df-container {\n",
              "      display:flex;\n",
              "      flex-wrap:wrap;\n",
              "      gap: 12px;\n",
              "    }\n",
              "\n",
              "    .colab-df-convert {\n",
              "      background-color: #E8F0FE;\n",
              "      border: none;\n",
              "      border-radius: 50%;\n",
              "      cursor: pointer;\n",
              "      display: none;\n",
              "      fill: #1967D2;\n",
              "      height: 32px;\n",
              "      padding: 0 0 0 0;\n",
              "      width: 32px;\n",
              "    }\n",
              "\n",
              "    .colab-df-convert:hover {\n",
              "      background-color: #E2EBFA;\n",
              "      box-shadow: 0px 1px 2px rgba(60, 64, 67, 0.3), 0px 1px 3px 1px rgba(60, 64, 67, 0.15);\n",
              "      fill: #174EA6;\n",
              "    }\n",
              "\n",
              "    [theme=dark] .colab-df-convert {\n",
              "      background-color: #3B4455;\n",
              "      fill: #D2E3FC;\n",
              "    }\n",
              "\n",
              "    [theme=dark] .colab-df-convert:hover {\n",
              "      background-color: #434B5C;\n",
              "      box-shadow: 0px 1px 3px 1px rgba(0, 0, 0, 0.15);\n",
              "      filter: drop-shadow(0px 1px 2px rgba(0, 0, 0, 0.3));\n",
              "      fill: #FFFFFF;\n",
              "    }\n",
              "  </style>\n",
              "\n",
              "      <script>\n",
              "        const buttonEl =\n",
              "          document.querySelector('#df-f7a13603-2a6a-485d-9afc-c9e206665618 button.colab-df-convert');\n",
              "        buttonEl.style.display =\n",
              "          google.colab.kernel.accessAllowed ? 'block' : 'none';\n",
              "\n",
              "        async function convertToInteractive(key) {\n",
              "          const element = document.querySelector('#df-f7a13603-2a6a-485d-9afc-c9e206665618');\n",
              "          const dataTable =\n",
              "            await google.colab.kernel.invokeFunction('convertToInteractive',\n",
              "                                                     [key], {});\n",
              "          if (!dataTable) return;\n",
              "\n",
              "          const docLinkHtml = 'Like what you see? Visit the ' +\n",
              "            '<a target=\"_blank\" href=https://colab.research.google.com/notebooks/data_table.ipynb>data table notebook</a>'\n",
              "            + ' to learn more about interactive tables.';\n",
              "          element.innerHTML = '';\n",
              "          dataTable['output_type'] = 'display_data';\n",
              "          await google.colab.output.renderOutput(dataTable, element);\n",
              "          const docLink = document.createElement('div');\n",
              "          docLink.innerHTML = docLinkHtml;\n",
              "          element.appendChild(docLink);\n",
              "        }\n",
              "      </script>\n",
              "    </div>\n",
              "  </div>\n",
              "  "
            ]
          },
          "metadata": {},
          "execution_count": 152
        }
      ]
    },
    {
      "cell_type": "code",
      "source": [
        "# merge\n",
        "table_merge = opendata_project_clean.merge(opendata_unittype_clean, how ='left', left_on='project_id',right_on='project_id') \n",
        "print(table_merge.shape)"
      ],
      "metadata": {
        "colab": {
          "base_uri": "https://localhost:8080/"
        },
        "id": "919V_CzOm3WJ",
        "outputId": "ed88a0ad-47c1-4a80-883a-08ab873043ff"
      },
      "execution_count": 153,
      "outputs": [
        {
          "output_type": "stream",
          "name": "stdout",
          "text": [
            "(54604, 49)\n"
          ]
        }
      ]
    },
    {
      "cell_type": "code",
      "source": [
        "table_merge.isnull().any()"
      ],
      "metadata": {
        "colab": {
          "base_uri": "https://localhost:8080/"
        },
        "id": "qhpq-rKoqMcZ",
        "outputId": "a21e8cf3-0d5f-4f30-8d58-4fa081966c87"
      },
      "execution_count": 154,
      "outputs": [
        {
          "output_type": "execute_result",
          "data": {
            "text/plain": [
              "project_id                 False\n",
              "name_en                    False\n",
              "propertytype_id            False\n",
              "propertytype_name_en       False\n",
              "price_min                  False\n",
              "developer_id               False\n",
              "developer_name_en          False\n",
              "latitude                   False\n",
              "longitude                  False\n",
              "neighborhood_id            False\n",
              "neighborhood_name_en       False\n",
              "subdistrict_id             False\n",
              "subdistrict_name_en        False\n",
              "subdistrict_name_th        False\n",
              "district_id                False\n",
              "district_name_en           False\n",
              "district_name_th           False\n",
              "province_id                False\n",
              "province_name_en           False\n",
              "province_name_th           False\n",
              "zipcode                    False\n",
              "count_elevator             False\n",
              "count_elevator_service     False\n",
              "count_floor                False\n",
              "count_parking              False\n",
              "count_unit                 False\n",
              "count_unittype             False\n",
              "facility_clubhouse         False\n",
              "facility_fitness           False\n",
              "facility_meeting           False\n",
              "facility_park              False\n",
              "facility_playground        False\n",
              "facility_pool              False\n",
              "facility_security          False\n",
              "unittype_id                False\n",
              "name_th                    False\n",
              "count_airconditioner       False\n",
              "count_elevator_unittype    False\n",
              "count_floor_internal       False\n",
              "count_parking_unittype     False\n",
              "count_room_bath            False\n",
              "count_room_bed             False\n",
              "count_room_dinning         False\n",
              "count_room_guest           False\n",
              "count_room_kitchen         False\n",
              "count_room_living          False\n",
              "count_room_maid            False\n",
              "count_room_storage         False\n",
              "count_room_utility         False\n",
              "dtype: bool"
            ]
          },
          "metadata": {},
          "execution_count": 154
        }
      ]
    },
    {
      "cell_type": "markdown",
      "source": [
        "##  2] รวมตาราง table_merge เข้ากับ opendata_living_score_clean\n",
        "\n",
        "*หมายเหตุ* * พิจารณาชื่อคอลัมน์ที่สนใจ หรืออาจซ้อนทับกันก่อนรวมตาราง"
      ],
      "metadata": {
        "id": "AMZjsuaHqTRL"
      }
    },
    {
      "cell_type": "code",
      "source": [
        "table_merge.columns"
      ],
      "metadata": {
        "colab": {
          "base_uri": "https://localhost:8080/"
        },
        "id": "c2U0b-KebP30",
        "outputId": "608fe104-98a7-43c6-90d1-837e8b72a94e"
      },
      "execution_count": 155,
      "outputs": [
        {
          "output_type": "execute_result",
          "data": {
            "text/plain": [
              "Index(['project_id', 'name_en', 'propertytype_id', 'propertytype_name_en',\n",
              "       'price_min', 'developer_id', 'developer_name_en', 'latitude',\n",
              "       'longitude', 'neighborhood_id', 'neighborhood_name_en',\n",
              "       'subdistrict_id', 'subdistrict_name_en', 'subdistrict_name_th',\n",
              "       'district_id', 'district_name_en', 'district_name_th', 'province_id',\n",
              "       'province_name_en', 'province_name_th', 'zipcode', 'count_elevator',\n",
              "       'count_elevator_service', 'count_floor', 'count_parking', 'count_unit',\n",
              "       'count_unittype', 'facility_clubhouse', 'facility_fitness',\n",
              "       'facility_meeting', 'facility_park', 'facility_playground',\n",
              "       'facility_pool', 'facility_security', 'unittype_id', 'name_th',\n",
              "       'count_airconditioner', 'count_elevator_unittype',\n",
              "       'count_floor_internal', 'count_parking_unittype', 'count_room_bath',\n",
              "       'count_room_bed', 'count_room_dinning', 'count_room_guest',\n",
              "       'count_room_kitchen', 'count_room_living', 'count_room_maid',\n",
              "       'count_room_storage', 'count_room_utility'],\n",
              "      dtype='object')"
            ]
          },
          "metadata": {},
          "execution_count": 155
        }
      ]
    },
    {
      "cell_type": "code",
      "source": [
        "opendata_living_score_clean.columns"
      ],
      "metadata": {
        "colab": {
          "base_uri": "https://localhost:8080/"
        },
        "id": "ttw78Eriqm5u",
        "outputId": "a57ac0f5-0e36-40ab-9084-332be5c40100"
      },
      "execution_count": 156,
      "outputs": [
        {
          "output_type": "execute_result",
          "data": {
            "text/plain": [
              "Index(['subdistrict_id', 'subdistrict_name_en', 'subdistrict_name_th',\n",
              "       'district_id', 'district_name_en', 'district_name_th', 'province_id',\n",
              "       'province_name_en', 'province_name_th', 'walk_leisure',\n",
              "       'walk_public_service', 'walk_school', 'walk_shopping', 'walk_work',\n",
              "       'walk_total', 'access_boat', 'access_bus', 'access_train',\n",
              "       'access_total', 'drive_leisure', 'drive_public_service', 'drive_school',\n",
              "       'drive_shopping', 'drive_work', 'drive_total'],\n",
              "      dtype='object')"
            ]
          },
          "metadata": {},
          "execution_count": 156
        }
      ]
    },
    {
      "cell_type": "code",
      "source": [
        "# select columns \n",
        "opendata_living_score_clean = opendata_living_score_clean[['subdistrict_id', \n",
        "       'district_id','province_id', 'walk_leisure',\n",
        "       'walk_public_service', 'walk_school', 'walk_shopping', 'walk_work',\n",
        "       'walk_total', 'access_boat', 'access_bus', 'access_train',\n",
        "       'access_total', 'drive_leisure', 'drive_public_service', 'drive_school',\n",
        "       'drive_shopping', 'drive_work', 'drive_total']]"
      ],
      "metadata": {
        "id": "gG4VQaT8mrXc"
      },
      "execution_count": 157,
      "outputs": []
    },
    {
      "cell_type": "code",
      "source": [
        "len(set(opendata_living_score_clean['province_id'])) #Location scope - กรุงเทพ ปริมณฑล"
      ],
      "metadata": {
        "colab": {
          "base_uri": "https://localhost:8080/"
        },
        "id": "uwSwQPHs7v0h",
        "outputId": "c8b3d717-b3c5-4d08-a9d3-d1a23d41bea1"
      },
      "execution_count": 158,
      "outputs": [
        {
          "output_type": "execute_result",
          "data": {
            "text/plain": [
              "18"
            ]
          },
          "metadata": {},
          "execution_count": 158
        }
      ]
    },
    {
      "cell_type": "code",
      "source": [
        "len(set(table_merge['province_id']))#Location scope - All"
      ],
      "metadata": {
        "colab": {
          "base_uri": "https://localhost:8080/"
        },
        "id": "TxupBF0z72oL",
        "outputId": "94e35609-ac02-479b-ee3e-6f28c2cf0618"
      },
      "execution_count": 159,
      "outputs": [
        {
          "output_type": "execute_result",
          "data": {
            "text/plain": [
              "72"
            ]
          },
          "metadata": {},
          "execution_count": 159
        }
      ]
    },
    {
      "cell_type": "code",
      "source": [
        "# merge\n",
        "table_merge2 = table_merge.merge(opendata_living_score_clean, how ='left', left_on=['subdistrict_id','district_id','province_id',], right_on=['subdistrict_id','district_id','province_id',]) \n",
        "print(table_merge2.shape)"
      ],
      "metadata": {
        "colab": {
          "base_uri": "https://localhost:8080/"
        },
        "id": "XyCtxuqCqprO",
        "outputId": "9bb552c6-5270-4010-a637-93f338a64bc9"
      },
      "execution_count": 160,
      "outputs": [
        {
          "output_type": "stream",
          "name": "stdout",
          "text": [
            "(54604, 65)\n"
          ]
        }
      ]
    },
    {
      "cell_type": "markdown",
      "source": [
        "#### Missing/Null Checking"
      ],
      "metadata": {
        "id": "AWg45sSizTYS"
      }
    },
    {
      "cell_type": "code",
      "source": [
        "table_merge2.isnull().any()"
      ],
      "metadata": {
        "colab": {
          "base_uri": "https://localhost:8080/"
        },
        "id": "-_ci6aTProdY",
        "outputId": "235febae-4f0f-4a8f-e664-cc2384720c57"
      },
      "execution_count": 161,
      "outputs": [
        {
          "output_type": "execute_result",
          "data": {
            "text/plain": [
              "project_id              False\n",
              "name_en                 False\n",
              "propertytype_id         False\n",
              "propertytype_name_en    False\n",
              "price_min               False\n",
              "                        ...  \n",
              "drive_public_service     True\n",
              "drive_school             True\n",
              "drive_shopping           True\n",
              "drive_work               True\n",
              "drive_total              True\n",
              "Length: 65, dtype: bool"
            ]
          },
          "metadata": {},
          "execution_count": 161
        }
      ]
    },
    {
      "cell_type": "code",
      "source": [
        "# ' drive_public_service ' คะแนนการเข้าถึงสถานที่บริการสาธารณะ โดยการขับรถยนต์\n",
        "# เช็คว่า missing เยอะแค่ไหน\n",
        "print(len(table_merge2[table_merge2['drive_public_service'].isnull()])) "
      ],
      "metadata": {
        "colab": {
          "base_uri": "https://localhost:8080/"
        },
        "id": "2CNaCdL3r5nn",
        "outputId": "ce9d5a13-d8d1-406e-d845-7603af038c54"
      },
      "execution_count": 162,
      "outputs": [
        {
          "output_type": "stream",
          "name": "stdout",
          "text": [
            "5362\n"
          ]
        }
      ]
    },
    {
      "cell_type": "code",
      "source": [
        "# ' drive_school ' คะแนนการเข้าถึงสถานศึกษา โดยการขับรถยนต์\n",
        "# เช็คว่า missing เยอะแค่ไหน\n",
        "print(len(table_merge2[table_merge2['drive_school'].isnull()])) "
      ],
      "metadata": {
        "colab": {
          "base_uri": "https://localhost:8080/"
        },
        "id": "Fx2aU9CBn4_6",
        "outputId": "10420346-cfdf-4f52-9eb0-2a78158e89f3"
      },
      "execution_count": 163,
      "outputs": [
        {
          "output_type": "stream",
          "name": "stdout",
          "text": [
            "5362\n"
          ]
        }
      ]
    },
    {
      "cell_type": "code",
      "source": [
        "# ' drive_shopping  ' \tคะแนนการเข้าถึงสถานที่ shopping โดยการขับรถยนต์\n",
        "# เช็คว่า missing เยอะแค่ไหน\n",
        "print(len(table_merge2[table_merge2['drive_shopping'].isnull()])) "
      ],
      "metadata": {
        "colab": {
          "base_uri": "https://localhost:8080/"
        },
        "id": "5FPDcSOfn8G6",
        "outputId": "8f53cc6b-a4b7-456c-af85-ef430f892b07"
      },
      "execution_count": 164,
      "outputs": [
        {
          "output_type": "stream",
          "name": "stdout",
          "text": [
            "5362\n"
          ]
        }
      ]
    },
    {
      "cell_type": "code",
      "source": [
        "# ' drive_work  ' คะแนนการเข้าถึงแหล่งทำงาน โดยการขับรถยนต์\n",
        "# เช็คว่า missing เยอะแค่ไหน\n",
        "print(len(table_merge2[table_merge2['drive_work'].isnull()])) "
      ],
      "metadata": {
        "colab": {
          "base_uri": "https://localhost:8080/"
        },
        "id": "jt4e_Qaon86u",
        "outputId": "c9e3ac1f-e16e-4a36-b514-1ad12bf8d68e"
      },
      "execution_count": 165,
      "outputs": [
        {
          "output_type": "stream",
          "name": "stdout",
          "text": [
            "5362\n"
          ]
        }
      ]
    },
    {
      "cell_type": "code",
      "source": [
        "# ' drive_total  ' คะแนนการเข้าถึงสถานที่ดำเนินชีวิตประจำวัน โดยการขับรถยนต์\n",
        "# เช็คว่า missing เยอะแค่ไหน\n",
        "print(len(table_merge2[table_merge2['drive_total'].isnull()])) "
      ],
      "metadata": {
        "colab": {
          "base_uri": "https://localhost:8080/"
        },
        "id": "cFH7ssVtn9Y_",
        "outputId": "aeba4fe2-793b-4601-f202-3c13e3ce5104"
      },
      "execution_count": 166,
      "outputs": [
        {
          "output_type": "stream",
          "name": "stdout",
          "text": [
            "5362\n"
          ]
        }
      ]
    },
    {
      "cell_type": "code",
      "source": [
        "len(table_merge2) #ข้อมูลทั้งหมด"
      ],
      "metadata": {
        "colab": {
          "base_uri": "https://localhost:8080/"
        },
        "id": "R6MK1A5Br5qj",
        "outputId": "9507984c-be1c-457d-b472-c5c45fa8e2ce"
      },
      "execution_count": 167,
      "outputs": [
        {
          "output_type": "execute_result",
          "data": {
            "text/plain": [
              "54604"
            ]
          },
          "metadata": {},
          "execution_count": 167
        }
      ]
    },
    {
      "cell_type": "code",
      "source": [
        "#we used fill Null with 0 \n",
        "# missing เยอะมาก ถ้า dropna ข้อมูลจะหายไปเยอะ\n",
        "table_merge2 = table_merge2.fillna(0) "
      ],
      "metadata": {
        "id": "Nzl83ODP6wGA"
      },
      "execution_count": 168,
      "outputs": []
    },
    {
      "cell_type": "code",
      "source": [
        "table_merge2.isnull().any()"
      ],
      "metadata": {
        "colab": {
          "base_uri": "https://localhost:8080/"
        },
        "id": "kNEj08TR7Aqh",
        "outputId": "eab78112-32b4-4114-e774-d0b2a39b9f3b"
      },
      "execution_count": 169,
      "outputs": [
        {
          "output_type": "execute_result",
          "data": {
            "text/plain": [
              "project_id              False\n",
              "name_en                 False\n",
              "propertytype_id         False\n",
              "propertytype_name_en    False\n",
              "price_min               False\n",
              "                        ...  \n",
              "drive_public_service    False\n",
              "drive_school            False\n",
              "drive_shopping          False\n",
              "drive_work              False\n",
              "drive_total             False\n",
              "Length: 65, dtype: bool"
            ]
          },
          "metadata": {},
          "execution_count": 169
        }
      ]
    },
    {
      "cell_type": "code",
      "source": [
        "table_merge2"
      ],
      "metadata": {
        "colab": {
          "base_uri": "https://localhost:8080/",
          "height": 800
        },
        "id": "wVYYX_dlo5Qy",
        "outputId": "3b72cc57-db10-4d17-9fe5-31b2699fcf28"
      },
      "execution_count": 170,
      "outputs": [
        {
          "output_type": "execute_result",
          "data": {
            "text/plain": [
              "          project_id                           name_en  propertytype_id  \\\n",
              "0       project_4270      Paholyothin Park Condominium                2   \n",
              "1       project_4270      Paholyothin Park Condominium                2   \n",
              "2      project_15158                 The Chill Village                3   \n",
              "3       project_9490              Diya Valley Sriracha                1   \n",
              "4       project_9490              Diya Valley Sriracha                1   \n",
              "...              ...                               ...              ...   \n",
              "54599   project_3718  Passorn Prestige Rangsit-Klong 2                1   \n",
              "54600   project_3718  Passorn Prestige Rangsit-Klong 2                1   \n",
              "54601   project_3718  Passorn Prestige Rangsit-Klong 2                1   \n",
              "54602   project_7949          The Tropical Condominium                2   \n",
              "54603   project_7949          The Tropical Condominium                2   \n",
              "\n",
              "      propertytype_name_en  price_min     developer_id  \\\n",
              "0                    Condo  3650000.0  developer_10510   \n",
              "1                    Condo  3650000.0  developer_10510   \n",
              "2                 Townhome  2450000.0  developer_10510   \n",
              "3           Detached House  2390000.0   developer_1015   \n",
              "4           Detached House  2390000.0   developer_1015   \n",
              "...                    ...        ...              ...   \n",
              "54599       Detached House  3790000.0   developer_1026   \n",
              "54600       Detached House  3790000.0   developer_1026   \n",
              "54601       Detached House  3790000.0   developer_1026   \n",
              "54602                Condo   999000.0   developer_5477   \n",
              "54603                Condo   999000.0   developer_5477   \n",
              "\n",
              "                  developer_name_en   latitude   longitude neighborhood_id  \\\n",
              "0                           Unknown  13.786388  100.553931           B1161   \n",
              "1                           Unknown  13.786388  100.553931           B1161   \n",
              "2                           Unknown  16.209059  103.288288         Unknown   \n",
              "3        Poonsin Property Co., Ltd.  13.173645  100.954876           B0752   \n",
              "4        Poonsin Property Co., Ltd.  13.173645  100.954876           B0752   \n",
              "...                             ...        ...         ...             ...   \n",
              "54599  Preuksa Real Estate Co.,Ltd.  13.993865  100.662066           B0967   \n",
              "54600  Preuksa Real Estate Co.,Ltd.  13.993865  100.662066           B0967   \n",
              "54601  Preuksa Real Estate Co.,Ltd.  13.993865  100.662066           B0967   \n",
              "54602                       Unknown  13.707605  100.610161           B1049   \n",
              "54603                       Unknown  13.707605  100.610161           B1049   \n",
              "\n",
              "       ... access_boat  access_bus access_train access_total  drive_leisure  \\\n",
              "0      ...       100.0       100.0         44.0         89.0          100.0   \n",
              "1      ...       100.0       100.0         44.0         89.0          100.0   \n",
              "2      ...         0.0         0.0          0.0          0.0            0.0   \n",
              "3      ...         0.0         0.0          0.0          0.0           73.0   \n",
              "4      ...         0.0         0.0          0.0          0.0           73.0   \n",
              "...    ...         ...         ...          ...          ...            ...   \n",
              "54599  ...         0.0       100.0          0.0         40.0          100.0   \n",
              "54600  ...         0.0       100.0          0.0         40.0          100.0   \n",
              "54601  ...         0.0       100.0          0.0         40.0          100.0   \n",
              "54602  ...        87.0        92.0         39.0         80.0           97.0   \n",
              "54603  ...        87.0        92.0         39.0         80.0           97.0   \n",
              "\n",
              "      drive_public_service drive_school  drive_shopping drive_work drive_total  \n",
              "0                     89.0        100.0            99.0       95.0        98.0  \n",
              "1                     89.0        100.0            99.0       95.0        98.0  \n",
              "2                      0.0          0.0             0.0        0.0         0.0  \n",
              "3                     78.0         70.0            80.0       82.0        78.0  \n",
              "4                     78.0         70.0            80.0       82.0        78.0  \n",
              "...                    ...          ...             ...        ...         ...  \n",
              "54599                100.0         99.0           100.0       99.0       100.0  \n",
              "54600                100.0         99.0           100.0       99.0       100.0  \n",
              "54601                100.0         99.0           100.0       99.0       100.0  \n",
              "54602                 64.0         99.0            86.0       95.0        88.0  \n",
              "54603                 64.0         99.0            86.0       95.0        88.0  \n",
              "\n",
              "[54604 rows x 65 columns]"
            ],
            "text/html": [
              "\n",
              "  <div id=\"df-6ce27d58-b030-4272-8f0a-1fe0b7ab8f4a\">\n",
              "    <div class=\"colab-df-container\">\n",
              "      <div>\n",
              "<style scoped>\n",
              "    .dataframe tbody tr th:only-of-type {\n",
              "        vertical-align: middle;\n",
              "    }\n",
              "\n",
              "    .dataframe tbody tr th {\n",
              "        vertical-align: top;\n",
              "    }\n",
              "\n",
              "    .dataframe thead th {\n",
              "        text-align: right;\n",
              "    }\n",
              "</style>\n",
              "<table border=\"1\" class=\"dataframe\">\n",
              "  <thead>\n",
              "    <tr style=\"text-align: right;\">\n",
              "      <th></th>\n",
              "      <th>project_id</th>\n",
              "      <th>name_en</th>\n",
              "      <th>propertytype_id</th>\n",
              "      <th>propertytype_name_en</th>\n",
              "      <th>price_min</th>\n",
              "      <th>developer_id</th>\n",
              "      <th>developer_name_en</th>\n",
              "      <th>latitude</th>\n",
              "      <th>longitude</th>\n",
              "      <th>neighborhood_id</th>\n",
              "      <th>...</th>\n",
              "      <th>access_boat</th>\n",
              "      <th>access_bus</th>\n",
              "      <th>access_train</th>\n",
              "      <th>access_total</th>\n",
              "      <th>drive_leisure</th>\n",
              "      <th>drive_public_service</th>\n",
              "      <th>drive_school</th>\n",
              "      <th>drive_shopping</th>\n",
              "      <th>drive_work</th>\n",
              "      <th>drive_total</th>\n",
              "    </tr>\n",
              "  </thead>\n",
              "  <tbody>\n",
              "    <tr>\n",
              "      <th>0</th>\n",
              "      <td>project_4270</td>\n",
              "      <td>Paholyothin Park Condominium</td>\n",
              "      <td>2</td>\n",
              "      <td>Condo</td>\n",
              "      <td>3650000.0</td>\n",
              "      <td>developer_10510</td>\n",
              "      <td>Unknown</td>\n",
              "      <td>13.786388</td>\n",
              "      <td>100.553931</td>\n",
              "      <td>B1161</td>\n",
              "      <td>...</td>\n",
              "      <td>100.0</td>\n",
              "      <td>100.0</td>\n",
              "      <td>44.0</td>\n",
              "      <td>89.0</td>\n",
              "      <td>100.0</td>\n",
              "      <td>89.0</td>\n",
              "      <td>100.0</td>\n",
              "      <td>99.0</td>\n",
              "      <td>95.0</td>\n",
              "      <td>98.0</td>\n",
              "    </tr>\n",
              "    <tr>\n",
              "      <th>1</th>\n",
              "      <td>project_4270</td>\n",
              "      <td>Paholyothin Park Condominium</td>\n",
              "      <td>2</td>\n",
              "      <td>Condo</td>\n",
              "      <td>3650000.0</td>\n",
              "      <td>developer_10510</td>\n",
              "      <td>Unknown</td>\n",
              "      <td>13.786388</td>\n",
              "      <td>100.553931</td>\n",
              "      <td>B1161</td>\n",
              "      <td>...</td>\n",
              "      <td>100.0</td>\n",
              "      <td>100.0</td>\n",
              "      <td>44.0</td>\n",
              "      <td>89.0</td>\n",
              "      <td>100.0</td>\n",
              "      <td>89.0</td>\n",
              "      <td>100.0</td>\n",
              "      <td>99.0</td>\n",
              "      <td>95.0</td>\n",
              "      <td>98.0</td>\n",
              "    </tr>\n",
              "    <tr>\n",
              "      <th>2</th>\n",
              "      <td>project_15158</td>\n",
              "      <td>The Chill Village</td>\n",
              "      <td>3</td>\n",
              "      <td>Townhome</td>\n",
              "      <td>2450000.0</td>\n",
              "      <td>developer_10510</td>\n",
              "      <td>Unknown</td>\n",
              "      <td>16.209059</td>\n",
              "      <td>103.288288</td>\n",
              "      <td>Unknown</td>\n",
              "      <td>...</td>\n",
              "      <td>0.0</td>\n",
              "      <td>0.0</td>\n",
              "      <td>0.0</td>\n",
              "      <td>0.0</td>\n",
              "      <td>0.0</td>\n",
              "      <td>0.0</td>\n",
              "      <td>0.0</td>\n",
              "      <td>0.0</td>\n",
              "      <td>0.0</td>\n",
              "      <td>0.0</td>\n",
              "    </tr>\n",
              "    <tr>\n",
              "      <th>3</th>\n",
              "      <td>project_9490</td>\n",
              "      <td>Diya Valley Sriracha</td>\n",
              "      <td>1</td>\n",
              "      <td>Detached House</td>\n",
              "      <td>2390000.0</td>\n",
              "      <td>developer_1015</td>\n",
              "      <td>Poonsin Property Co., Ltd.</td>\n",
              "      <td>13.173645</td>\n",
              "      <td>100.954876</td>\n",
              "      <td>B0752</td>\n",
              "      <td>...</td>\n",
              "      <td>0.0</td>\n",
              "      <td>0.0</td>\n",
              "      <td>0.0</td>\n",
              "      <td>0.0</td>\n",
              "      <td>73.0</td>\n",
              "      <td>78.0</td>\n",
              "      <td>70.0</td>\n",
              "      <td>80.0</td>\n",
              "      <td>82.0</td>\n",
              "      <td>78.0</td>\n",
              "    </tr>\n",
              "    <tr>\n",
              "      <th>4</th>\n",
              "      <td>project_9490</td>\n",
              "      <td>Diya Valley Sriracha</td>\n",
              "      <td>1</td>\n",
              "      <td>Detached House</td>\n",
              "      <td>2390000.0</td>\n",
              "      <td>developer_1015</td>\n",
              "      <td>Poonsin Property Co., Ltd.</td>\n",
              "      <td>13.173645</td>\n",
              "      <td>100.954876</td>\n",
              "      <td>B0752</td>\n",
              "      <td>...</td>\n",
              "      <td>0.0</td>\n",
              "      <td>0.0</td>\n",
              "      <td>0.0</td>\n",
              "      <td>0.0</td>\n",
              "      <td>73.0</td>\n",
              "      <td>78.0</td>\n",
              "      <td>70.0</td>\n",
              "      <td>80.0</td>\n",
              "      <td>82.0</td>\n",
              "      <td>78.0</td>\n",
              "    </tr>\n",
              "    <tr>\n",
              "      <th>...</th>\n",
              "      <td>...</td>\n",
              "      <td>...</td>\n",
              "      <td>...</td>\n",
              "      <td>...</td>\n",
              "      <td>...</td>\n",
              "      <td>...</td>\n",
              "      <td>...</td>\n",
              "      <td>...</td>\n",
              "      <td>...</td>\n",
              "      <td>...</td>\n",
              "      <td>...</td>\n",
              "      <td>...</td>\n",
              "      <td>...</td>\n",
              "      <td>...</td>\n",
              "      <td>...</td>\n",
              "      <td>...</td>\n",
              "      <td>...</td>\n",
              "      <td>...</td>\n",
              "      <td>...</td>\n",
              "      <td>...</td>\n",
              "      <td>...</td>\n",
              "    </tr>\n",
              "    <tr>\n",
              "      <th>54599</th>\n",
              "      <td>project_3718</td>\n",
              "      <td>Passorn Prestige Rangsit-Klong 2</td>\n",
              "      <td>1</td>\n",
              "      <td>Detached House</td>\n",
              "      <td>3790000.0</td>\n",
              "      <td>developer_1026</td>\n",
              "      <td>Preuksa Real Estate Co.,Ltd.</td>\n",
              "      <td>13.993865</td>\n",
              "      <td>100.662066</td>\n",
              "      <td>B0967</td>\n",
              "      <td>...</td>\n",
              "      <td>0.0</td>\n",
              "      <td>100.0</td>\n",
              "      <td>0.0</td>\n",
              "      <td>40.0</td>\n",
              "      <td>100.0</td>\n",
              "      <td>100.0</td>\n",
              "      <td>99.0</td>\n",
              "      <td>100.0</td>\n",
              "      <td>99.0</td>\n",
              "      <td>100.0</td>\n",
              "    </tr>\n",
              "    <tr>\n",
              "      <th>54600</th>\n",
              "      <td>project_3718</td>\n",
              "      <td>Passorn Prestige Rangsit-Klong 2</td>\n",
              "      <td>1</td>\n",
              "      <td>Detached House</td>\n",
              "      <td>3790000.0</td>\n",
              "      <td>developer_1026</td>\n",
              "      <td>Preuksa Real Estate Co.,Ltd.</td>\n",
              "      <td>13.993865</td>\n",
              "      <td>100.662066</td>\n",
              "      <td>B0967</td>\n",
              "      <td>...</td>\n",
              "      <td>0.0</td>\n",
              "      <td>100.0</td>\n",
              "      <td>0.0</td>\n",
              "      <td>40.0</td>\n",
              "      <td>100.0</td>\n",
              "      <td>100.0</td>\n",
              "      <td>99.0</td>\n",
              "      <td>100.0</td>\n",
              "      <td>99.0</td>\n",
              "      <td>100.0</td>\n",
              "    </tr>\n",
              "    <tr>\n",
              "      <th>54601</th>\n",
              "      <td>project_3718</td>\n",
              "      <td>Passorn Prestige Rangsit-Klong 2</td>\n",
              "      <td>1</td>\n",
              "      <td>Detached House</td>\n",
              "      <td>3790000.0</td>\n",
              "      <td>developer_1026</td>\n",
              "      <td>Preuksa Real Estate Co.,Ltd.</td>\n",
              "      <td>13.993865</td>\n",
              "      <td>100.662066</td>\n",
              "      <td>B0967</td>\n",
              "      <td>...</td>\n",
              "      <td>0.0</td>\n",
              "      <td>100.0</td>\n",
              "      <td>0.0</td>\n",
              "      <td>40.0</td>\n",
              "      <td>100.0</td>\n",
              "      <td>100.0</td>\n",
              "      <td>99.0</td>\n",
              "      <td>100.0</td>\n",
              "      <td>99.0</td>\n",
              "      <td>100.0</td>\n",
              "    </tr>\n",
              "    <tr>\n",
              "      <th>54602</th>\n",
              "      <td>project_7949</td>\n",
              "      <td>The Tropical Condominium</td>\n",
              "      <td>2</td>\n",
              "      <td>Condo</td>\n",
              "      <td>999000.0</td>\n",
              "      <td>developer_5477</td>\n",
              "      <td>Unknown</td>\n",
              "      <td>13.707605</td>\n",
              "      <td>100.610161</td>\n",
              "      <td>B1049</td>\n",
              "      <td>...</td>\n",
              "      <td>87.0</td>\n",
              "      <td>92.0</td>\n",
              "      <td>39.0</td>\n",
              "      <td>80.0</td>\n",
              "      <td>97.0</td>\n",
              "      <td>64.0</td>\n",
              "      <td>99.0</td>\n",
              "      <td>86.0</td>\n",
              "      <td>95.0</td>\n",
              "      <td>88.0</td>\n",
              "    </tr>\n",
              "    <tr>\n",
              "      <th>54603</th>\n",
              "      <td>project_7949</td>\n",
              "      <td>The Tropical Condominium</td>\n",
              "      <td>2</td>\n",
              "      <td>Condo</td>\n",
              "      <td>999000.0</td>\n",
              "      <td>developer_5477</td>\n",
              "      <td>Unknown</td>\n",
              "      <td>13.707605</td>\n",
              "      <td>100.610161</td>\n",
              "      <td>B1049</td>\n",
              "      <td>...</td>\n",
              "      <td>87.0</td>\n",
              "      <td>92.0</td>\n",
              "      <td>39.0</td>\n",
              "      <td>80.0</td>\n",
              "      <td>97.0</td>\n",
              "      <td>64.0</td>\n",
              "      <td>99.0</td>\n",
              "      <td>86.0</td>\n",
              "      <td>95.0</td>\n",
              "      <td>88.0</td>\n",
              "    </tr>\n",
              "  </tbody>\n",
              "</table>\n",
              "<p>54604 rows × 65 columns</p>\n",
              "</div>\n",
              "      <button class=\"colab-df-convert\" onclick=\"convertToInteractive('df-6ce27d58-b030-4272-8f0a-1fe0b7ab8f4a')\"\n",
              "              title=\"Convert this dataframe to an interactive table.\"\n",
              "              style=\"display:none;\">\n",
              "        \n",
              "  <svg xmlns=\"http://www.w3.org/2000/svg\" height=\"24px\"viewBox=\"0 0 24 24\"\n",
              "       width=\"24px\">\n",
              "    <path d=\"M0 0h24v24H0V0z\" fill=\"none\"/>\n",
              "    <path d=\"M18.56 5.44l.94 2.06.94-2.06 2.06-.94-2.06-.94-.94-2.06-.94 2.06-2.06.94zm-11 1L8.5 8.5l.94-2.06 2.06-.94-2.06-.94L8.5 2.5l-.94 2.06-2.06.94zm10 10l.94 2.06.94-2.06 2.06-.94-2.06-.94-.94-2.06-.94 2.06-2.06.94z\"/><path d=\"M17.41 7.96l-1.37-1.37c-.4-.4-.92-.59-1.43-.59-.52 0-1.04.2-1.43.59L10.3 9.45l-7.72 7.72c-.78.78-.78 2.05 0 2.83L4 21.41c.39.39.9.59 1.41.59.51 0 1.02-.2 1.41-.59l7.78-7.78 2.81-2.81c.8-.78.8-2.07 0-2.86zM5.41 20L4 18.59l7.72-7.72 1.47 1.35L5.41 20z\"/>\n",
              "  </svg>\n",
              "      </button>\n",
              "      \n",
              "  <style>\n",
              "    .colab-df-container {\n",
              "      display:flex;\n",
              "      flex-wrap:wrap;\n",
              "      gap: 12px;\n",
              "    }\n",
              "\n",
              "    .colab-df-convert {\n",
              "      background-color: #E8F0FE;\n",
              "      border: none;\n",
              "      border-radius: 50%;\n",
              "      cursor: pointer;\n",
              "      display: none;\n",
              "      fill: #1967D2;\n",
              "      height: 32px;\n",
              "      padding: 0 0 0 0;\n",
              "      width: 32px;\n",
              "    }\n",
              "\n",
              "    .colab-df-convert:hover {\n",
              "      background-color: #E2EBFA;\n",
              "      box-shadow: 0px 1px 2px rgba(60, 64, 67, 0.3), 0px 1px 3px 1px rgba(60, 64, 67, 0.15);\n",
              "      fill: #174EA6;\n",
              "    }\n",
              "\n",
              "    [theme=dark] .colab-df-convert {\n",
              "      background-color: #3B4455;\n",
              "      fill: #D2E3FC;\n",
              "    }\n",
              "\n",
              "    [theme=dark] .colab-df-convert:hover {\n",
              "      background-color: #434B5C;\n",
              "      box-shadow: 0px 1px 3px 1px rgba(0, 0, 0, 0.15);\n",
              "      filter: drop-shadow(0px 1px 2px rgba(0, 0, 0, 0.3));\n",
              "      fill: #FFFFFF;\n",
              "    }\n",
              "  </style>\n",
              "\n",
              "      <script>\n",
              "        const buttonEl =\n",
              "          document.querySelector('#df-6ce27d58-b030-4272-8f0a-1fe0b7ab8f4a button.colab-df-convert');\n",
              "        buttonEl.style.display =\n",
              "          google.colab.kernel.accessAllowed ? 'block' : 'none';\n",
              "\n",
              "        async function convertToInteractive(key) {\n",
              "          const element = document.querySelector('#df-6ce27d58-b030-4272-8f0a-1fe0b7ab8f4a');\n",
              "          const dataTable =\n",
              "            await google.colab.kernel.invokeFunction('convertToInteractive',\n",
              "                                                     [key], {});\n",
              "          if (!dataTable) return;\n",
              "\n",
              "          const docLinkHtml = 'Like what you see? Visit the ' +\n",
              "            '<a target=\"_blank\" href=https://colab.research.google.com/notebooks/data_table.ipynb>data table notebook</a>'\n",
              "            + ' to learn more about interactive tables.';\n",
              "          element.innerHTML = '';\n",
              "          dataTable['output_type'] = 'display_data';\n",
              "          await google.colab.output.renderOutput(dataTable, element);\n",
              "          const docLink = document.createElement('div');\n",
              "          docLink.innerHTML = docLinkHtml;\n",
              "          element.appendChild(docLink);\n",
              "        }\n",
              "      </script>\n",
              "    </div>\n",
              "  </div>\n",
              "  "
            ]
          },
          "metadata": {},
          "execution_count": 170
        }
      ]
    },
    {
      "cell_type": "code",
      "source": [
        "# save data\n",
        "#table_merge2.to_csv('Residental_clean.csv', index=False)"
      ],
      "metadata": {
        "id": "3pWjkovLtz0h"
      },
      "execution_count": 171,
      "outputs": []
    }
  ]
}